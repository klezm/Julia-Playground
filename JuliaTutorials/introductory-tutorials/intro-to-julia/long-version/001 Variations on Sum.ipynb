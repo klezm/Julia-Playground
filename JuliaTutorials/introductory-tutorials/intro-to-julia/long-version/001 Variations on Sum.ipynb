{
 "cells": [
  {
   "cell_type": "markdown",
   "metadata": {},
   "source": [
    "# Julia is fast\n",
    "\n",
    "Very often, benchmarks are used to compare languages.  These benchmarks can lead to long discussions, first as to exactly what is being benchmarked and secondly what explains the differences.  These simple questions can sometimes get more complicated than you at first might imagine.\n",
    "\n",
    "The purpose of this notebook is for you to see a simple benchmark for yourself.  One can read the notebook and see what happened on the author's Macbook Pro with a 4-core Intel Core I7, or run the notebook yourself.\n",
    "\n",
    "(This material began life as a wonderful lecture by Steven Johnson at MIT: https://github.com/stevengj/18S096/blob/master/lectures/lecture1/Boxes-and-registers.ipynb.)"
   ]
  },
  {
   "cell_type": "markdown",
   "metadata": {},
   "source": [
    "# Outline of this notebook\n",
    "\n",
    "- Define the sum function\n",
    "- Implementations & benchmarking of sum in...\n",
    "    - C (hand-written)\n",
    "    - C (hand-written with -ffast-math)\n",
    "    - python (built-in)\n",
    "    - python (numpy)\n",
    "    - python (hand-written)\n",
    "    - Julia (built-in)\n",
    "    - Julia (hand-written)\n",
    "    - Julia (hand-written with SIMD)\n",
    "- Summary of benchmarks"
   ]
  },
  {
   "cell_type": "markdown",
   "metadata": {},
   "source": [
    "# `sum`: An easy enough function to understand"
   ]
  },
  {
   "cell_type": "markdown",
   "metadata": {},
   "source": [
    "Consider the  **sum** function `sum(a)`, which computes\n",
    "$$\n",
    "\\mathrm{sum}(a) = \\sum_{i=1}^n a_i,\n",
    "$$\n",
    "where $n$ is the length of `a`."
   ]
  },
  {
   "cell_type": "code",
   "execution_count": 1,
   "metadata": {
    "scrolled": false
   },
   "outputs": [
    {
     "data": {
      "text/plain": [
       "10000000-element Vector{Float64}:\n",
       " 0.2726660928725586\n",
       " 0.7528957198715633\n",
       " 0.34845858464923263\n",
       " 0.5451494589243062\n",
       " 0.02271522905344381\n",
       " 0.8658879036838949\n",
       " 0.439932509751236\n",
       " 0.7922017719424048\n",
       " 0.1686863677770719\n",
       " 0.9133193162567644\n",
       " 0.19578846205778355\n",
       " 0.6575179969346767\n",
       " 0.09135278370989286\n",
       " ⋮\n",
       " 0.9507063569684889\n",
       " 0.5488468317048653\n",
       " 0.5346645235027028\n",
       " 0.7802165456982953\n",
       " 0.7036382686272707\n",
       " 0.7601457200830999\n",
       " 0.9610500968214101\n",
       " 0.30593356402053473\n",
       " 0.2534151904462312\n",
       " 0.7827011757393881\n",
       " 0.24647760258206164\n",
       " 0.12984070192378416"
      ]
     },
     "execution_count": 1,
     "metadata": {},
     "output_type": "execute_result"
    }
   ],
   "source": [
    "a = rand(10^7) # 1D vector of random numbers, uniform on [0,1)"
   ]
  },
  {
   "cell_type": "code",
   "execution_count": 2,
   "metadata": {},
   "outputs": [
    {
     "data": {
      "text/plain": [
       "5.000341936937251e6"
      ]
     },
     "execution_count": 2,
     "metadata": {},
     "output_type": "execute_result"
    }
   ],
   "source": [
    "sum(a)"
   ]
  },
  {
   "cell_type": "markdown",
   "metadata": {},
   "source": [
    "The expected result is 0.5 * 10^7, since the mean of each entry is 0.5"
   ]
  },
  {
   "cell_type": "markdown",
   "metadata": {},
   "source": [
    "# Benchmarking a few ways in a few languages"
   ]
  },
  {
   "cell_type": "code",
   "execution_count": 3,
   "metadata": {},
   "outputs": [
    {
     "name": "stdout",
     "output_type": "stream",
     "text": [
      "  0.009571 seconds (1 allocation: 16 bytes)\n"
     ]
    },
    {
     "data": {
      "text/plain": [
       "5.000341936937251e6"
      ]
     },
     "execution_count": 3,
     "metadata": {},
     "output_type": "execute_result"
    }
   ],
   "source": [
    "@time sum(a)"
   ]
  },
  {
   "cell_type": "code",
   "execution_count": 4,
   "metadata": {},
   "outputs": [
    {
     "name": "stdout",
     "output_type": "stream",
     "text": [
      "  0.009703 seconds (1 allocation: 16 bytes)\n"
     ]
    },
    {
     "data": {
      "text/plain": [
       "5.000341936937251e6"
      ]
     },
     "execution_count": 4,
     "metadata": {},
     "output_type": "execute_result"
    }
   ],
   "source": [
    "@time sum(a)"
   ]
  },
  {
   "cell_type": "code",
   "execution_count": 5,
   "metadata": {},
   "outputs": [
    {
     "name": "stdout",
     "output_type": "stream",
     "text": [
      "  0.010366 seconds (1 allocation: 16 bytes)\n"
     ]
    },
    {
     "data": {
      "text/plain": [
       "5.000341936937251e6"
      ]
     },
     "execution_count": 5,
     "metadata": {},
     "output_type": "execute_result"
    }
   ],
   "source": [
    "@time sum(a)"
   ]
  },
  {
   "cell_type": "markdown",
   "metadata": {},
   "source": [
    "The `@time` macro can yield noisy results, so it's not our best choice for benchmarking!\n",
    "\n",
    "Luckily, Julia has a `BenchmarkTools.jl` package to make benchmarking easy and accurate:"
   ]
  },
  {
   "cell_type": "code",
   "execution_count": 6,
   "metadata": {},
   "outputs": [
    {
     "name": "stderr",
     "output_type": "stream",
     "text": [
      "\u001b[32m\u001b[1m    Updating\u001b[22m\u001b[39m registry at `~/.julia/registries/General.toml`\n",
      "\u001b[32m\u001b[1m   Resolving\u001b[22m\u001b[39m package versions...\n",
      "\u001b[32m\u001b[1m   Installed\u001b[22m\u001b[39m BenchmarkTools ─ v1.3.1\n",
      "\u001b[32m\u001b[1m    Updating\u001b[22m\u001b[39m `~/.julia/environments/v1.7/Project.toml`\n",
      " \u001b[90m [6e4b80f9] \u001b[39m\u001b[92m+ BenchmarkTools v1.3.1\u001b[39m\n",
      "\u001b[32m\u001b[1m    Updating\u001b[22m\u001b[39m `~/.julia/environments/v1.7/Manifest.toml`\n",
      " \u001b[90m [6e4b80f9] \u001b[39m\u001b[92m+ BenchmarkTools v1.3.1\u001b[39m\n",
      " \u001b[90m [37e2e46d] \u001b[39m\u001b[92m+ LinearAlgebra\u001b[39m\n",
      " \u001b[90m [9abbd945] \u001b[39m\u001b[92m+ Profile\u001b[39m\n",
      " \u001b[90m [2f01184e] \u001b[39m\u001b[92m+ SparseArrays\u001b[39m\n",
      " \u001b[90m [10745b16] \u001b[39m\u001b[92m+ Statistics\u001b[39m\n",
      " \u001b[90m [e66e0078] \u001b[39m\u001b[92m+ CompilerSupportLibraries_jll\u001b[39m\n",
      " \u001b[90m [4536629a] \u001b[39m\u001b[92m+ OpenBLAS_jll\u001b[39m\n",
      " \u001b[90m [8e850b90] \u001b[39m\u001b[92m+ libblastrampoline_jll\u001b[39m\n",
      "\u001b[32m\u001b[1mPrecompiling\u001b[22m\u001b[39m project...\n",
      "\u001b[32m  ✓ \u001b[39m\u001b[90mCompilerSupportLibraries_jll\u001b[39m\n",
      "\u001b[32m  ✓ \u001b[39m\u001b[90mOpenBLAS_jll\u001b[39m\n",
      "\u001b[32m  ✓ \u001b[39mBenchmarkTools\n",
      "\u001b[32m  ✓ \u001b[39m\u001b[90mlibblastrampoline_jll\u001b[39m\n",
      "  4 dependencies successfully precompiled in 2 seconds (15 already precompiled)\n"
     ]
    }
   ],
   "source": [
    "using Pkg\n",
    "Pkg.add(\"BenchmarkTools\")"
   ]
  },
  {
   "cell_type": "code",
   "execution_count": 7,
   "metadata": {
    "scrolled": false
   },
   "outputs": [],
   "source": [
    "using BenchmarkTools  "
   ]
  },
  {
   "cell_type": "markdown",
   "metadata": {},
   "source": [
    "#  1. The C language\n",
    "\n",
    "C is often considered the gold standard: difficult on the human, nice for the machine. Getting within a factor of 2 of C is often satisfying. Nonetheless, even within C, there are many kinds of optimizations possible that a naive C writer may or may not get the advantage of.\n",
    "\n",
    "The current author does not speak C, so he does not read the cell below, but is happy to know that you can put C code in a Julia session, compile it, and run it. Note that the `\"\"\"` wrap a multi-line string."
   ]
  },
  {
   "cell_type": "code",
   "execution_count": 8,
   "metadata": {
    "scrolled": false
   },
   "outputs": [
    {
     "data": {
      "text/plain": [
       "c_sum (generic function with 1 method)"
      ]
     },
     "execution_count": 8,
     "metadata": {},
     "output_type": "execute_result"
    }
   ],
   "source": [
    "using Libdl\n",
    "C_code = \"\"\"\n",
    "#include <stddef.h>\n",
    "double c_sum(size_t n, double *X) {\n",
    "    double s = 0.0;\n",
    "    for (size_t i = 0; i < n; ++i) {\n",
    "        s += X[i];\n",
    "    }\n",
    "    return s;\n",
    "}\n",
    "\"\"\"\n",
    "\n",
    "const Clib = tempname()   # make a temporary file\n",
    "\n",
    "\n",
    "# compile to a shared library by piping C_code to gcc\n",
    "# (works only if you have gcc installed):\n",
    "\n",
    "open(`gcc -fPIC -O3 -msse3 -xc -shared -o $(Clib * \".\" * Libdl.dlext) -`, \"w\") do f\n",
    "    print(f, C_code) \n",
    "end\n",
    "\n",
    "# define a Julia function that calls the C function:\n",
    "c_sum(X::Array{Float64}) = ccall((\"c_sum\", Clib), Float64, (Csize_t, Ptr{Float64}), length(X), X)"
   ]
  },
  {
   "cell_type": "code",
   "execution_count": 9,
   "metadata": {
    "scrolled": false
   },
   "outputs": [
    {
     "data": {
      "text/plain": [
       "5.000341936937417e6"
      ]
     },
     "execution_count": 9,
     "metadata": {},
     "output_type": "execute_result"
    }
   ],
   "source": [
    "c_sum(a)"
   ]
  },
  {
   "cell_type": "code",
   "execution_count": 10,
   "metadata": {
    "scrolled": false
   },
   "outputs": [
    {
     "data": {
      "text/plain": [
       "true"
      ]
     },
     "execution_count": 10,
     "metadata": {},
     "output_type": "execute_result"
    }
   ],
   "source": [
    "c_sum(a) ≈ sum(a) # type \\approx and then <TAB> to get the ≈ symbolb"
   ]
  },
  {
   "cell_type": "code",
   "execution_count": 11,
   "metadata": {},
   "outputs": [
    {
     "data": {
      "text/plain": [
       "1.6577541828155518e-7"
      ]
     },
     "execution_count": 11,
     "metadata": {},
     "output_type": "execute_result"
    }
   ],
   "source": [
    "c_sum(a) - sum(a)  "
   ]
  },
  {
   "cell_type": "code",
   "execution_count": 12,
   "metadata": {
    "scrolled": true
   },
   "outputs": [
    {
     "data": {
      "text/plain": [
       "isapprox (generic function with 9 methods)"
      ]
     },
     "execution_count": 12,
     "metadata": {},
     "output_type": "execute_result"
    }
   ],
   "source": [
    "≈  # alias for the `isapprox` function"
   ]
  },
  {
   "cell_type": "code",
   "execution_count": 13,
   "metadata": {
    "scrolled": true
   },
   "outputs": [
    {
     "name": "stdout",
     "output_type": "stream",
     "text": [
      "search: \u001b[0m\u001b[1mi\u001b[22m\u001b[0m\u001b[1ms\u001b[22m\u001b[0m\u001b[1ma\u001b[22m\u001b[0m\u001b[1mp\u001b[22m\u001b[0m\u001b[1mp\u001b[22m\u001b[0m\u001b[1mr\u001b[22m\u001b[0m\u001b[1mo\u001b[22m\u001b[0m\u001b[1mx\u001b[22m\n",
      "\n"
     ]
    },
    {
     "data": {
      "text/latex": [
       "\\begin{verbatim}\n",
       "isapprox(x, y; atol::Real=0, rtol::Real=atol>0 ? 0 : √eps, nans::Bool=false[, norm::Function])\n",
       "\\end{verbatim}\n",
       "Inexact equality comparison. Two numbers compare equal if their relative distance \\emph{or} their absolute distance is within tolerance bounds: \\texttt{isapprox} returns \\texttt{true} if \\texttt{norm(x-y) <= max(atol, rtol*max(norm(x), norm(y)))}. The default \\texttt{atol} is zero and the default \\texttt{rtol} depends on the types of \\texttt{x} and \\texttt{y}. The keyword argument \\texttt{nans} determines whether or not NaN values are considered equal (defaults to false).\n",
       "\n",
       "For real or complex floating-point values, if an \\texttt{atol > 0} is not specified, \\texttt{rtol} defaults to the square root of \\href{@ref}{\\texttt{eps}} of the type of \\texttt{x} or \\texttt{y}, whichever is bigger (least precise). This corresponds to requiring equality of about half of the significand digits. Otherwise, e.g. for integer arguments or if an \\texttt{atol > 0} is supplied, \\texttt{rtol} defaults to zero.\n",
       "\n",
       "The \\texttt{norm} keyword defaults to \\texttt{abs} for numeric \\texttt{(x,y)} and to \\texttt{LinearAlgebra.norm} for arrays (where an alternative \\texttt{norm} choice is sometimes useful). When \\texttt{x} and \\texttt{y} are arrays, if \\texttt{norm(x-y)} is not finite (i.e. \\texttt{±Inf} or \\texttt{NaN}), the comparison falls back to checking whether all elements of \\texttt{x} and \\texttt{y} are approximately equal component-wise.\n",
       "\n",
       "The binary operator \\texttt{≈} is equivalent to \\texttt{isapprox} with the default arguments, and \\texttt{x ≉ y} is equivalent to \\texttt{!isapprox(x,y)}.\n",
       "\n",
       "Note that \\texttt{x ≈ 0} (i.e., comparing to zero with the default tolerances) is equivalent to \\texttt{x == 0} since the default \\texttt{atol} is \\texttt{0}.  In such cases, you should either supply an appropriate \\texttt{atol} (or use \\texttt{norm(x) ≤ atol}) or rearrange your code (e.g. use \\texttt{x ≈ y} rather than \\texttt{x - y ≈ 0}).   It is not possible to pick a nonzero \\texttt{atol} automatically because it depends on the overall scaling (the \"units\") of your problem: for example, in \\texttt{x - y ≈ 0}, \\texttt{atol=1e-9} is an absurdly small tolerance if \\texttt{x} is the \\href{https://en.wikipedia.org/wiki/Earth_radius}{radius of the Earth} in meters, but an absurdly large tolerance if \\texttt{x} is the \\href{https://en.wikipedia.org/wiki/Bohr_radius}{radius of a Hydrogen atom} in meters.\n",
       "\n",
       "\\begin{quote}\n",
       "\\textbf{compat}\n",
       "\n",
       "Julia 1.6\n",
       "\n",
       "Passing the \\texttt{norm} keyword argument when comparing numeric (non-array) arguments requires Julia 1.6 or later.\n",
       "\n",
       "\\end{quote}\n",
       "\\section{Examples}\n",
       "\\begin{verbatim}\n",
       "julia> isapprox(0.1, 0.15; atol=0.05)\n",
       "true\n",
       "\n",
       "julia> isapprox(0.1, 0.15; rtol=0.34)\n",
       "true\n",
       "\n",
       "julia> isapprox(0.1, 0.15; rtol=0.33)\n",
       "false\n",
       "\n",
       "julia> 0.1 + 1e-10 ≈ 0.1\n",
       "true\n",
       "\n",
       "julia> 1e-10 ≈ 0\n",
       "false\n",
       "\n",
       "julia> isapprox(1e-10, 0, atol=1e-8)\n",
       "true\n",
       "\n",
       "julia> isapprox([10.0^9, 1.0], [10.0^9, 2.0]) # using `norm`\n",
       "true\n",
       "\\end{verbatim}\n",
       "\\rule{\\textwidth}{1pt}\n",
       "\\begin{verbatim}\n",
       "isapprox(x; kwargs...) / ≈(x; kwargs...)\n",
       "\\end{verbatim}\n",
       "Create a function that compares its argument to \\texttt{x} using \\texttt{≈}, i.e. a function equivalent to \\texttt{y -> y ≈ x}.\n",
       "\n",
       "The keyword arguments supported here are the same as those in the 2-argument \\texttt{isapprox}.\n",
       "\n",
       "\\begin{quote}\n",
       "\\textbf{compat}\n",
       "\n",
       "Julia 1.5\n",
       "\n",
       "This method requires Julia 1.5 or later.\n",
       "\n",
       "\\end{quote}\n"
      ],
      "text/markdown": [
       "```\n",
       "isapprox(x, y; atol::Real=0, rtol::Real=atol>0 ? 0 : √eps, nans::Bool=false[, norm::Function])\n",
       "```\n",
       "\n",
       "Inexact equality comparison. Two numbers compare equal if their relative distance *or* their absolute distance is within tolerance bounds: `isapprox` returns `true` if `norm(x-y) <= max(atol, rtol*max(norm(x), norm(y)))`. The default `atol` is zero and the default `rtol` depends on the types of `x` and `y`. The keyword argument `nans` determines whether or not NaN values are considered equal (defaults to false).\n",
       "\n",
       "For real or complex floating-point values, if an `atol > 0` is not specified, `rtol` defaults to the square root of [`eps`](@ref) of the type of `x` or `y`, whichever is bigger (least precise). This corresponds to requiring equality of about half of the significand digits. Otherwise, e.g. for integer arguments or if an `atol > 0` is supplied, `rtol` defaults to zero.\n",
       "\n",
       "The `norm` keyword defaults to `abs` for numeric `(x,y)` and to `LinearAlgebra.norm` for arrays (where an alternative `norm` choice is sometimes useful). When `x` and `y` are arrays, if `norm(x-y)` is not finite (i.e. `±Inf` or `NaN`), the comparison falls back to checking whether all elements of `x` and `y` are approximately equal component-wise.\n",
       "\n",
       "The binary operator `≈` is equivalent to `isapprox` with the default arguments, and `x ≉ y` is equivalent to `!isapprox(x,y)`.\n",
       "\n",
       "Note that `x ≈ 0` (i.e., comparing to zero with the default tolerances) is equivalent to `x == 0` since the default `atol` is `0`.  In such cases, you should either supply an appropriate `atol` (or use `norm(x) ≤ atol`) or rearrange your code (e.g. use `x ≈ y` rather than `x - y ≈ 0`).   It is not possible to pick a nonzero `atol` automatically because it depends on the overall scaling (the \"units\") of your problem: for example, in `x - y ≈ 0`, `atol=1e-9` is an absurdly small tolerance if `x` is the [radius of the Earth](https://en.wikipedia.org/wiki/Earth_radius) in meters, but an absurdly large tolerance if `x` is the [radius of a Hydrogen atom](https://en.wikipedia.org/wiki/Bohr_radius) in meters.\n",
       "\n",
       "!!! compat \"Julia 1.6\"\n",
       "    Passing the `norm` keyword argument when comparing numeric (non-array) arguments requires Julia 1.6 or later.\n",
       "\n",
       "\n",
       "# Examples\n",
       "\n",
       "```jldoctest\n",
       "julia> isapprox(0.1, 0.15; atol=0.05)\n",
       "true\n",
       "\n",
       "julia> isapprox(0.1, 0.15; rtol=0.34)\n",
       "true\n",
       "\n",
       "julia> isapprox(0.1, 0.15; rtol=0.33)\n",
       "false\n",
       "\n",
       "julia> 0.1 + 1e-10 ≈ 0.1\n",
       "true\n",
       "\n",
       "julia> 1e-10 ≈ 0\n",
       "false\n",
       "\n",
       "julia> isapprox(1e-10, 0, atol=1e-8)\n",
       "true\n",
       "\n",
       "julia> isapprox([10.0^9, 1.0], [10.0^9, 2.0]) # using `norm`\n",
       "true\n",
       "```\n",
       "\n",
       "---\n",
       "\n",
       "```\n",
       "isapprox(x; kwargs...) / ≈(x; kwargs...)\n",
       "```\n",
       "\n",
       "Create a function that compares its argument to `x` using `≈`, i.e. a function equivalent to `y -> y ≈ x`.\n",
       "\n",
       "The keyword arguments supported here are the same as those in the 2-argument `isapprox`.\n",
       "\n",
       "!!! compat \"Julia 1.5\"\n",
       "    This method requires Julia 1.5 or later.\n",
       "\n"
      ],
      "text/plain": [
       "\u001b[36m  isapprox(x, y; atol::Real=0, rtol::Real=atol>0 ? 0 : √eps, nans::Bool=false[, norm::Function])\u001b[39m\n",
       "\n",
       "  Inexact equality comparison. Two numbers compare equal if their relative\n",
       "  distance \u001b[4mor\u001b[24m their absolute distance is within tolerance bounds: \u001b[36misapprox\u001b[39m\n",
       "  returns \u001b[36mtrue\u001b[39m if \u001b[36mnorm(x-y) <= max(atol, rtol*max(norm(x), norm(y)))\u001b[39m. The\n",
       "  default \u001b[36matol\u001b[39m is zero and the default \u001b[36mrtol\u001b[39m depends on the types of \u001b[36mx\u001b[39m and \u001b[36my\u001b[39m.\n",
       "  The keyword argument \u001b[36mnans\u001b[39m determines whether or not NaN values are\n",
       "  considered equal (defaults to false).\n",
       "\n",
       "  For real or complex floating-point values, if an \u001b[36matol > 0\u001b[39m is not specified,\n",
       "  \u001b[36mrtol\u001b[39m defaults to the square root of \u001b[36meps\u001b[39m of the type of \u001b[36mx\u001b[39m or \u001b[36my\u001b[39m, whichever is\n",
       "  bigger (least precise). This corresponds to requiring equality of about half\n",
       "  of the significand digits. Otherwise, e.g. for integer arguments or if an\n",
       "  \u001b[36matol > 0\u001b[39m is supplied, \u001b[36mrtol\u001b[39m defaults to zero.\n",
       "\n",
       "  The \u001b[36mnorm\u001b[39m keyword defaults to \u001b[36mabs\u001b[39m for numeric \u001b[36m(x,y)\u001b[39m and to \u001b[36mLinearAlgebra.norm\u001b[39m\n",
       "  for arrays (where an alternative \u001b[36mnorm\u001b[39m choice is sometimes useful). When \u001b[36mx\u001b[39m\n",
       "  and \u001b[36my\u001b[39m are arrays, if \u001b[36mnorm(x-y)\u001b[39m is not finite (i.e. \u001b[36m±Inf\u001b[39m or \u001b[36mNaN\u001b[39m), the\n",
       "  comparison falls back to checking whether all elements of \u001b[36mx\u001b[39m and \u001b[36my\u001b[39m are\n",
       "  approximately equal component-wise.\n",
       "\n",
       "  The binary operator \u001b[36m≈\u001b[39m is equivalent to \u001b[36misapprox\u001b[39m with the default arguments,\n",
       "  and \u001b[36mx ≉ y\u001b[39m is equivalent to \u001b[36m!isapprox(x,y)\u001b[39m.\n",
       "\n",
       "  Note that \u001b[36mx ≈ 0\u001b[39m (i.e., comparing to zero with the default tolerances) is\n",
       "  equivalent to \u001b[36mx == 0\u001b[39m since the default \u001b[36matol\u001b[39m is \u001b[36m0\u001b[39m. In such cases, you should\n",
       "  either supply an appropriate \u001b[36matol\u001b[39m (or use \u001b[36mnorm(x) ≤ atol\u001b[39m) or rearrange your\n",
       "  code (e.g. use \u001b[36mx ≈ y\u001b[39m rather than \u001b[36mx - y ≈ 0\u001b[39m). It is not possible to pick a\n",
       "  nonzero \u001b[36matol\u001b[39m automatically because it depends on the overall scaling (the\n",
       "  \"units\") of your problem: for example, in \u001b[36mx - y ≈ 0\u001b[39m, \u001b[36matol=1e-9\u001b[39m is an\n",
       "  absurdly small tolerance if \u001b[36mx\u001b[39m is the radius of the Earth\n",
       "  (https://en.wikipedia.org/wiki/Earth_radius) in meters, but an absurdly\n",
       "  large tolerance if \u001b[36mx\u001b[39m is the radius of a Hydrogen atom\n",
       "  (https://en.wikipedia.org/wiki/Bohr_radius) in meters.\n",
       "\n",
       "\u001b[39m\u001b[1m  │ \u001b[22m\u001b[39m\u001b[1mJulia 1.6\u001b[22m\n",
       "\u001b[39m\u001b[1m  │\u001b[22m\n",
       "\u001b[39m\u001b[1m  │\u001b[22m  Passing the \u001b[36mnorm\u001b[39m keyword argument when comparing numeric\n",
       "\u001b[39m\u001b[1m  │\u001b[22m  (non-array) arguments requires Julia 1.6 or later.\n",
       "\n",
       "\u001b[1m  Examples\u001b[22m\n",
       "\u001b[1m  ≡≡≡≡≡≡≡≡≡≡\u001b[22m\n",
       "\n",
       "\u001b[36m  julia> isapprox(0.1, 0.15; atol=0.05)\u001b[39m\n",
       "\u001b[36m  true\u001b[39m\n",
       "\u001b[36m  \u001b[39m\n",
       "\u001b[36m  julia> isapprox(0.1, 0.15; rtol=0.34)\u001b[39m\n",
       "\u001b[36m  true\u001b[39m\n",
       "\u001b[36m  \u001b[39m\n",
       "\u001b[36m  julia> isapprox(0.1, 0.15; rtol=0.33)\u001b[39m\n",
       "\u001b[36m  false\u001b[39m\n",
       "\u001b[36m  \u001b[39m\n",
       "\u001b[36m  julia> 0.1 + 1e-10 ≈ 0.1\u001b[39m\n",
       "\u001b[36m  true\u001b[39m\n",
       "\u001b[36m  \u001b[39m\n",
       "\u001b[36m  julia> 1e-10 ≈ 0\u001b[39m\n",
       "\u001b[36m  false\u001b[39m\n",
       "\u001b[36m  \u001b[39m\n",
       "\u001b[36m  julia> isapprox(1e-10, 0, atol=1e-8)\u001b[39m\n",
       "\u001b[36m  true\u001b[39m\n",
       "\u001b[36m  \u001b[39m\n",
       "\u001b[36m  julia> isapprox([10.0^9, 1.0], [10.0^9, 2.0]) # using `norm`\u001b[39m\n",
       "\u001b[36m  true\u001b[39m\n",
       "\n",
       "  ────────────────────────────────────────────────────────────────────────────\n",
       "\n",
       "\u001b[36m  isapprox(x; kwargs...) / ≈(x; kwargs...)\u001b[39m\n",
       "\n",
       "  Create a function that compares its argument to \u001b[36mx\u001b[39m using \u001b[36m≈\u001b[39m, i.e. a function\n",
       "  equivalent to \u001b[36my -> y ≈ x\u001b[39m.\n",
       "\n",
       "  The keyword arguments supported here are the same as those in the 2-argument\n",
       "  \u001b[36misapprox\u001b[39m.\n",
       "\n",
       "\u001b[39m\u001b[1m  │ \u001b[22m\u001b[39m\u001b[1mJulia 1.5\u001b[22m\n",
       "\u001b[39m\u001b[1m  │\u001b[22m\n",
       "\u001b[39m\u001b[1m  │\u001b[22m  This method requires Julia 1.5 or later."
      ]
     },
     "execution_count": 13,
     "metadata": {},
     "output_type": "execute_result"
    }
   ],
   "source": [
    "?isapprox"
   ]
  },
  {
   "cell_type": "markdown",
   "metadata": {},
   "source": [
    "We can now benchmark the C code directly from Julia:"
   ]
  },
  {
   "cell_type": "code",
   "execution_count": 14,
   "metadata": {
    "scrolled": false
   },
   "outputs": [
    {
     "data": {
      "text/plain": [
       "BenchmarkTools.Trial: 312 samples with 1 evaluation.\n",
       " Range \u001b[90m(\u001b[39m\u001b[36m\u001b[1mmin\u001b[22m\u001b[39m … \u001b[35mmax\u001b[39m\u001b[90m):  \u001b[39m\u001b[36m\u001b[1m15.605 ms\u001b[22m\u001b[39m … \u001b[35m 18.641 ms\u001b[39m  \u001b[90m┊\u001b[39m GC \u001b[90m(\u001b[39mmin … max\u001b[90m): \u001b[39m0.00% … 0.00%\n",
       " Time  \u001b[90m(\u001b[39m\u001b[34m\u001b[1mmedian\u001b[22m\u001b[39m\u001b[90m):     \u001b[39m\u001b[34m\u001b[1m15.884 ms               \u001b[22m\u001b[39m\u001b[90m┊\u001b[39m GC \u001b[90m(\u001b[39mmedian\u001b[90m):    \u001b[39m0.00%\n",
       " Time  \u001b[90m(\u001b[39m\u001b[32m\u001b[1mmean\u001b[22m\u001b[39m ± \u001b[32mσ\u001b[39m\u001b[90m):   \u001b[39m\u001b[32m\u001b[1m16.006 ms\u001b[22m\u001b[39m ± \u001b[32m426.252 μs\u001b[39m  \u001b[90m┊\u001b[39m GC \u001b[90m(\u001b[39mmean ± σ\u001b[90m):  \u001b[39m0.00% ± 0.00%\n",
       "\n",
       "  \u001b[39m \u001b[39m \u001b[39m▂\u001b[39m▆\u001b[39m█\u001b[39m█\u001b[39m▆\u001b[39m▄\u001b[34m▆\u001b[39m\u001b[39m▂\u001b[39m▂\u001b[39m▃\u001b[32m \u001b[39m\u001b[39m \u001b[39m \u001b[39m \u001b[39m \u001b[39m \u001b[39m \u001b[39m \u001b[39m \u001b[39m \u001b[39m \u001b[39m \u001b[39m \u001b[39m \u001b[39m \u001b[39m \u001b[39m \u001b[39m \u001b[39m \u001b[39m \u001b[39m \u001b[39m \u001b[39m \u001b[39m \u001b[39m \u001b[39m \u001b[39m \u001b[39m \u001b[39m \u001b[39m \u001b[39m \u001b[39m \u001b[39m \u001b[39m \u001b[39m \u001b[39m \u001b[39m \u001b[39m \u001b[39m \u001b[39m \u001b[39m \u001b[39m \u001b[39m \u001b[39m \u001b[39m \u001b[39m \u001b[39m \u001b[39m \u001b[39m \u001b[39m \n",
       "  \u001b[39m▄\u001b[39m▇\u001b[39m█\u001b[39m█\u001b[39m█\u001b[39m█\u001b[39m█\u001b[39m█\u001b[34m█\u001b[39m\u001b[39m█\u001b[39m█\u001b[39m█\u001b[32m▅\u001b[39m\u001b[39m▆\u001b[39m▆\u001b[39m▆\u001b[39m▄\u001b[39m▄\u001b[39m▆\u001b[39m▃\u001b[39m▄\u001b[39m▁\u001b[39m▁\u001b[39m▂\u001b[39m▄\u001b[39m▁\u001b[39m▂\u001b[39m▂\u001b[39m▃\u001b[39m▂\u001b[39m▃\u001b[39m▁\u001b[39m▃\u001b[39m▁\u001b[39m▁\u001b[39m▄\u001b[39m▁\u001b[39m▁\u001b[39m▁\u001b[39m▁\u001b[39m▂\u001b[39m▂\u001b[39m▂\u001b[39m▁\u001b[39m▁\u001b[39m▂\u001b[39m▂\u001b[39m▁\u001b[39m▁\u001b[39m▂\u001b[39m▁\u001b[39m▃\u001b[39m▂\u001b[39m▁\u001b[39m▁\u001b[39m▁\u001b[39m▂\u001b[39m▁\u001b[39m▂\u001b[39m▃\u001b[39m \u001b[39m▄\n",
       "  15.6 ms\u001b[90m         Histogram: frequency by time\u001b[39m         17.7 ms \u001b[0m\u001b[1m<\u001b[22m\n",
       "\n",
       " Memory estimate\u001b[90m: \u001b[39m\u001b[33m0 bytes\u001b[39m, allocs estimate\u001b[90m: \u001b[39m\u001b[33m0\u001b[39m."
      ]
     },
     "execution_count": 14,
     "metadata": {},
     "output_type": "execute_result"
    }
   ],
   "source": [
    "c_bench = @benchmark c_sum($a)"
   ]
  },
  {
   "cell_type": "code",
   "execution_count": 15,
   "metadata": {
    "scrolled": false
   },
   "outputs": [
    {
     "name": "stdout",
     "output_type": "stream",
     "text": [
      "C: Fastest time was 15.604587 msec\n"
     ]
    }
   ],
   "source": [
    "println(\"C: Fastest time was $(minimum(c_bench.times) / 1e6) msec\")"
   ]
  },
  {
   "cell_type": "code",
   "execution_count": 16,
   "metadata": {
    "scrolled": true
   },
   "outputs": [
    {
     "data": {
      "text/plain": [
       "Dict{Any, Any} with 1 entry:\n",
       "  \"C\" => 15.6046"
      ]
     },
     "execution_count": 16,
     "metadata": {},
     "output_type": "execute_result"
    }
   ],
   "source": [
    "d = Dict()  # a \"dictionary\", i.e. an associative array\n",
    "d[\"C\"] = minimum(c_bench.times) / 1e6  # in milliseconds\n",
    "d"
   ]
  },
  {
   "cell_type": "code",
   "execution_count": 18,
   "metadata": {
    "scrolled": true
   },
   "outputs": [],
   "source": [
    "using Plots"
   ]
  },
  {
   "cell_type": "code",
   "execution_count": 20,
   "metadata": {},
   "outputs": [
    {
     "data": {
      "image/svg+xml": "<?xml version=\"1.0\" encoding=\"utf-8\"?>\n<svg xmlns=\"http://www.w3.org/2000/svg\" xmlns:xlink=\"http://www.w3.org/1999/xlink\" width=\"600\" height=\"400\" viewBox=\"0 0 2400 1600\">\n<defs>\n  <clipPath id=\"clip080\">\n    <rect x=\"0\" y=\"0\" width=\"2400\" height=\"1600\"/>\n  </clipPath>\n</defs>\n<path clip-path=\"url(#clip080)\" d=\"\nM0 1600 L2400 1600 L2400 0 L0 0  Z\n  \" fill=\"#ffffff\" fill-rule=\"evenodd\" fill-opacity=\"1\"/>\n<defs>\n  <clipPath id=\"clip081\">\n    <rect x=\"480\" y=\"0\" width=\"1681\" height=\"1600\"/>\n  </clipPath>\n</defs>\n<path clip-path=\"url(#clip080)\" d=\"\nM247.459 1423.18 L2352.76 1423.18 L2352.76 47.2441 L247.459 47.2441  Z\n  \" fill=\"#ffffff\" fill-rule=\"evenodd\" fill-opacity=\"1\"/>\n<defs>\n  <clipPath id=\"clip082\">\n    <rect x=\"247\" y=\"47\" width=\"2106\" height=\"1377\"/>\n  </clipPath>\n</defs>\n<polyline clip-path=\"url(#clip082)\" style=\"stroke:#000000; stroke-linecap:butt; stroke-linejoin:round; stroke-width:2; stroke-opacity:0.1; fill:none\" points=\"\n  273.581,1423.18 273.581,47.2441 \n  \"/>\n<polyline clip-path=\"url(#clip082)\" style=\"stroke:#000000; stroke-linecap:butt; stroke-linejoin:round; stroke-width:2; stroke-opacity:0.1; fill:none\" points=\"\n  756.169,1423.18 756.169,47.2441 \n  \"/>\n<polyline clip-path=\"url(#clip082)\" style=\"stroke:#000000; stroke-linecap:butt; stroke-linejoin:round; stroke-width:2; stroke-opacity:0.1; fill:none\" points=\"\n  1238.76,1423.18 1238.76,47.2441 \n  \"/>\n<polyline clip-path=\"url(#clip082)\" style=\"stroke:#000000; stroke-linecap:butt; stroke-linejoin:round; stroke-width:2; stroke-opacity:0.1; fill:none\" points=\"\n  1721.34,1423.18 1721.34,47.2441 \n  \"/>\n<polyline clip-path=\"url(#clip082)\" style=\"stroke:#000000; stroke-linecap:butt; stroke-linejoin:round; stroke-width:2; stroke-opacity:0.1; fill:none\" points=\"\n  2203.93,1423.18 2203.93,47.2441 \n  \"/>\n<polyline clip-path=\"url(#clip080)\" style=\"stroke:#000000; stroke-linecap:butt; stroke-linejoin:round; stroke-width:4; stroke-opacity:1; fill:none\" points=\"\n  247.459,1423.18 2352.76,1423.18 \n  \"/>\n<polyline clip-path=\"url(#clip080)\" style=\"stroke:#000000; stroke-linecap:butt; stroke-linejoin:round; stroke-width:4; stroke-opacity:1; fill:none\" points=\"\n  273.581,1423.18 273.581,1404.28 \n  \"/>\n<polyline clip-path=\"url(#clip080)\" style=\"stroke:#000000; stroke-linecap:butt; stroke-linejoin:round; stroke-width:4; stroke-opacity:1; fill:none\" points=\"\n  756.169,1423.18 756.169,1404.28 \n  \"/>\n<polyline clip-path=\"url(#clip080)\" style=\"stroke:#000000; stroke-linecap:butt; stroke-linejoin:round; stroke-width:4; stroke-opacity:1; fill:none\" points=\"\n  1238.76,1423.18 1238.76,1404.28 \n  \"/>\n<polyline clip-path=\"url(#clip080)\" style=\"stroke:#000000; stroke-linecap:butt; stroke-linejoin:round; stroke-width:4; stroke-opacity:1; fill:none\" points=\"\n  1721.34,1423.18 1721.34,1404.28 \n  \"/>\n<polyline clip-path=\"url(#clip080)\" style=\"stroke:#000000; stroke-linecap:butt; stroke-linejoin:round; stroke-width:4; stroke-opacity:1; fill:none\" points=\"\n  2203.93,1423.18 2203.93,1404.28 \n  \"/>\n<path clip-path=\"url(#clip080)\" d=\"M225.572 1481.64 L233.211 1481.64 L233.211 1455.28 L224.901 1456.95 L224.901 1452.69 L233.165 1451.02 L237.841 1451.02 L237.841 1481.64 L245.479 1481.64 L245.479 1485.58 L225.572 1485.58 L225.572 1481.64 Z\" fill=\"#000000\" fill-rule=\"evenodd\" fill-opacity=\"1\" /><path clip-path=\"url(#clip080)\" d=\"M254.97 1451.02 L273.327 1451.02 L273.327 1454.96 L259.253 1454.96 L259.253 1463.43 Q260.271 1463.08 261.29 1462.92 Q262.308 1462.73 263.327 1462.73 Q269.114 1462.73 272.493 1465.9 Q275.873 1469.08 275.873 1474.49 Q275.873 1480.07 272.401 1483.17 Q268.928 1486.25 262.609 1486.25 Q260.433 1486.25 258.165 1485.88 Q255.919 1485.51 253.512 1484.77 L253.512 1480.07 Q255.595 1481.2 257.817 1481.76 Q260.04 1482.32 262.516 1482.32 Q266.521 1482.32 268.859 1480.21 Q271.197 1478.1 271.197 1474.49 Q271.197 1470.88 268.859 1468.77 Q266.521 1466.67 262.516 1466.67 Q260.641 1466.67 258.766 1467.08 Q256.915 1467.5 254.97 1468.38 L254.97 1451.02 Z\" fill=\"#000000\" fill-rule=\"evenodd\" fill-opacity=\"1\" /><path clip-path=\"url(#clip080)\" d=\"M285.086 1479.7 L289.97 1479.7 L289.97 1485.58 L285.086 1485.58 L285.086 1479.7 Z\" fill=\"#000000\" fill-rule=\"evenodd\" fill-opacity=\"1\" /><path clip-path=\"url(#clip080)\" d=\"M310.734 1466.44 Q307.586 1466.44 305.734 1468.59 Q303.905 1470.74 303.905 1474.49 Q303.905 1478.22 305.734 1480.39 Q307.586 1482.55 310.734 1482.55 Q313.882 1482.55 315.711 1480.39 Q317.562 1478.22 317.562 1474.49 Q317.562 1470.74 315.711 1468.59 Q313.882 1466.44 310.734 1466.44 M320.016 1451.78 L320.016 1456.04 Q318.257 1455.21 316.451 1454.77 Q314.669 1454.33 312.91 1454.33 Q308.28 1454.33 305.826 1457.45 Q303.396 1460.58 303.049 1466.9 Q304.414 1464.89 306.475 1463.82 Q308.535 1462.73 311.012 1462.73 Q316.22 1462.73 319.229 1465.9 Q322.261 1469.05 322.261 1474.49 Q322.261 1479.82 319.113 1483.03 Q315.965 1486.25 310.734 1486.25 Q304.738 1486.25 301.567 1481.67 Q298.396 1477.06 298.396 1468.33 Q298.396 1460.14 302.285 1455.28 Q306.174 1450.39 312.724 1450.39 Q314.484 1450.39 316.266 1450.74 Q318.072 1451.09 320.016 1451.78 Z\" fill=\"#000000\" fill-rule=\"evenodd\" fill-opacity=\"1\" /><path clip-path=\"url(#clip080)\" d=\"M708.692 1481.64 L716.331 1481.64 L716.331 1455.28 L708.021 1456.95 L708.021 1452.69 L716.285 1451.02 L720.961 1451.02 L720.961 1481.64 L728.6 1481.64 L728.6 1485.58 L708.692 1485.58 L708.692 1481.64 Z\" fill=\"#000000\" fill-rule=\"evenodd\" fill-opacity=\"1\" /><path clip-path=\"url(#clip080)\" d=\"M738.09 1451.02 L756.447 1451.02 L756.447 1454.96 L742.373 1454.96 L742.373 1463.43 Q743.391 1463.08 744.41 1462.92 Q745.428 1462.73 746.447 1462.73 Q752.234 1462.73 755.613 1465.9 Q758.993 1469.08 758.993 1474.49 Q758.993 1480.07 755.521 1483.17 Q752.049 1486.25 745.729 1486.25 Q743.553 1486.25 741.285 1485.88 Q739.039 1485.51 736.632 1484.77 L736.632 1480.07 Q738.715 1481.2 740.937 1481.76 Q743.16 1482.32 745.637 1482.32 Q749.641 1482.32 751.979 1480.21 Q754.317 1478.1 754.317 1474.49 Q754.317 1470.88 751.979 1468.77 Q749.641 1466.67 745.637 1466.67 Q743.762 1466.67 741.887 1467.08 Q740.035 1467.5 738.09 1468.38 L738.09 1451.02 Z\" fill=\"#000000\" fill-rule=\"evenodd\" fill-opacity=\"1\" /><path clip-path=\"url(#clip080)\" d=\"M768.206 1479.7 L773.09 1479.7 L773.09 1485.58 L768.206 1485.58 L768.206 1479.7 Z\" fill=\"#000000\" fill-rule=\"evenodd\" fill-opacity=\"1\" /><path clip-path=\"url(#clip080)\" d=\"M782.095 1451.02 L804.317 1451.02 L804.317 1453.01 L791.771 1485.58 L786.886 1485.58 L798.692 1454.96 L782.095 1454.96 L782.095 1451.02 Z\" fill=\"#000000\" fill-rule=\"evenodd\" fill-opacity=\"1\" /><path clip-path=\"url(#clip080)\" d=\"M1190.87 1481.64 L1198.51 1481.64 L1198.51 1455.28 L1190.2 1456.95 L1190.2 1452.69 L1198.47 1451.02 L1203.14 1451.02 L1203.14 1481.64 L1210.78 1481.64 L1210.78 1485.58 L1190.87 1485.58 L1190.87 1481.64 Z\" fill=\"#000000\" fill-rule=\"evenodd\" fill-opacity=\"1\" /><path clip-path=\"url(#clip080)\" d=\"M1220.27 1451.02 L1238.63 1451.02 L1238.63 1454.96 L1224.56 1454.96 L1224.56 1463.43 Q1225.57 1463.08 1226.59 1462.92 Q1227.61 1462.73 1228.63 1462.73 Q1234.42 1462.73 1237.8 1465.9 Q1241.18 1469.08 1241.18 1474.49 Q1241.18 1480.07 1237.7 1483.17 Q1234.23 1486.25 1227.91 1486.25 Q1225.74 1486.25 1223.47 1485.88 Q1221.22 1485.51 1218.81 1484.77 L1218.81 1480.07 Q1220.9 1481.2 1223.12 1481.76 Q1225.34 1482.32 1227.82 1482.32 Q1231.82 1482.32 1234.16 1480.21 Q1236.5 1478.1 1236.5 1474.49 Q1236.5 1470.88 1234.16 1468.77 Q1231.82 1466.67 1227.82 1466.67 Q1225.94 1466.67 1224.07 1467.08 Q1222.22 1467.5 1220.27 1468.38 L1220.27 1451.02 Z\" fill=\"#000000\" fill-rule=\"evenodd\" fill-opacity=\"1\" /><path clip-path=\"url(#clip080)\" d=\"M1250.39 1479.7 L1255.27 1479.7 L1255.27 1485.58 L1250.39 1485.58 L1250.39 1479.7 Z\" fill=\"#000000\" fill-rule=\"evenodd\" fill-opacity=\"1\" /><path clip-path=\"url(#clip080)\" d=\"M1275.46 1469.17 Q1272.12 1469.17 1270.2 1470.95 Q1268.3 1472.73 1268.3 1475.86 Q1268.3 1478.98 1270.2 1480.77 Q1272.12 1482.55 1275.46 1482.55 Q1278.79 1482.55 1280.71 1480.77 Q1282.63 1478.96 1282.63 1475.86 Q1282.63 1472.73 1280.71 1470.95 Q1278.81 1469.17 1275.46 1469.17 M1270.78 1467.18 Q1267.77 1466.44 1266.08 1464.38 Q1264.42 1462.32 1264.42 1459.35 Q1264.42 1455.21 1267.36 1452.8 Q1270.32 1450.39 1275.46 1450.39 Q1280.62 1450.39 1283.56 1452.8 Q1286.5 1455.21 1286.5 1459.35 Q1286.5 1462.32 1284.81 1464.38 Q1283.14 1466.44 1280.16 1467.18 Q1283.54 1467.96 1285.41 1470.26 Q1287.31 1472.55 1287.31 1475.86 Q1287.31 1480.88 1284.23 1483.57 Q1281.18 1486.25 1275.46 1486.25 Q1269.74 1486.25 1266.66 1483.57 Q1263.61 1480.88 1263.61 1475.86 Q1263.61 1472.55 1265.5 1470.26 Q1267.4 1467.96 1270.78 1467.18 M1269.07 1459.79 Q1269.07 1462.48 1270.74 1463.98 Q1272.43 1465.49 1275.46 1465.49 Q1278.47 1465.49 1280.16 1463.98 Q1281.87 1462.48 1281.87 1459.79 Q1281.87 1457.11 1280.16 1455.6 Q1278.47 1454.1 1275.46 1454.1 Q1272.43 1454.1 1270.74 1455.6 Q1269.07 1457.11 1269.07 1459.79 Z\" fill=\"#000000\" fill-rule=\"evenodd\" fill-opacity=\"1\" /><path clip-path=\"url(#clip080)\" d=\"M1673.51 1481.64 L1681.15 1481.64 L1681.15 1455.28 L1672.84 1456.95 L1672.84 1452.69 L1681.1 1451.02 L1685.78 1451.02 L1685.78 1481.64 L1693.42 1481.64 L1693.42 1485.58 L1673.51 1485.58 L1673.51 1481.64 Z\" fill=\"#000000\" fill-rule=\"evenodd\" fill-opacity=\"1\" /><path clip-path=\"url(#clip080)\" d=\"M1702.91 1451.02 L1721.26 1451.02 L1721.26 1454.96 L1707.19 1454.96 L1707.19 1463.43 Q1708.21 1463.08 1709.23 1462.92 Q1710.24 1462.73 1711.26 1462.73 Q1717.05 1462.73 1720.43 1465.9 Q1723.81 1469.08 1723.81 1474.49 Q1723.81 1480.07 1720.34 1483.17 Q1716.87 1486.25 1710.55 1486.25 Q1708.37 1486.25 1706.1 1485.88 Q1703.86 1485.51 1701.45 1484.77 L1701.45 1480.07 Q1703.53 1481.2 1705.75 1481.76 Q1707.98 1482.32 1710.45 1482.32 Q1714.46 1482.32 1716.8 1480.21 Q1719.13 1478.1 1719.13 1474.49 Q1719.13 1470.88 1716.8 1468.77 Q1714.46 1466.67 1710.45 1466.67 Q1708.58 1466.67 1706.7 1467.08 Q1704.85 1467.5 1702.91 1468.38 L1702.91 1451.02 Z\" fill=\"#000000\" fill-rule=\"evenodd\" fill-opacity=\"1\" /><path clip-path=\"url(#clip080)\" d=\"M1733.02 1479.7 L1737.91 1479.7 L1737.91 1485.58 L1733.02 1485.58 L1733.02 1479.7 Z\" fill=\"#000000\" fill-rule=\"evenodd\" fill-opacity=\"1\" /><path clip-path=\"url(#clip080)\" d=\"M1748.23 1484.86 L1748.23 1480.6 Q1749.99 1481.44 1751.8 1481.88 Q1753.6 1482.32 1755.34 1482.32 Q1759.97 1482.32 1762.4 1479.21 Q1764.85 1476.09 1765.2 1469.75 Q1763.86 1471.74 1761.8 1472.8 Q1759.74 1473.87 1757.24 1473.87 Q1752.05 1473.87 1749.02 1470.74 Q1746.01 1467.59 1746.01 1462.15 Q1746.01 1456.83 1749.16 1453.61 Q1752.3 1450.39 1757.54 1450.39 Q1763.53 1450.39 1766.68 1455 Q1769.85 1459.58 1769.85 1468.33 Q1769.85 1476.51 1765.96 1481.39 Q1762.1 1486.25 1755.55 1486.25 Q1753.79 1486.25 1751.98 1485.9 Q1750.18 1485.56 1748.23 1484.86 M1757.54 1470.21 Q1760.68 1470.21 1762.51 1468.06 Q1764.36 1465.9 1764.36 1462.15 Q1764.36 1458.43 1762.51 1456.27 Q1760.68 1454.1 1757.54 1454.1 Q1754.39 1454.1 1752.54 1456.27 Q1750.71 1458.43 1750.71 1462.15 Q1750.71 1465.9 1752.54 1468.06 Q1754.39 1470.21 1757.54 1470.21 Z\" fill=\"#000000\" fill-rule=\"evenodd\" fill-opacity=\"1\" /><path clip-path=\"url(#clip080)\" d=\"M2156 1481.64 L2163.64 1481.64 L2163.64 1455.28 L2155.33 1456.95 L2155.33 1452.69 L2163.6 1451.02 L2168.27 1451.02 L2168.27 1481.64 L2175.91 1481.64 L2175.91 1485.58 L2156 1485.58 L2156 1481.64 Z\" fill=\"#000000\" fill-rule=\"evenodd\" fill-opacity=\"1\" /><path clip-path=\"url(#clip080)\" d=\"M2195.93 1466.44 Q2192.79 1466.44 2190.93 1468.59 Q2189.11 1470.74 2189.11 1474.49 Q2189.11 1478.22 2190.93 1480.39 Q2192.79 1482.55 2195.93 1482.55 Q2199.08 1482.55 2200.91 1480.39 Q2202.76 1478.22 2202.76 1474.49 Q2202.76 1470.74 2200.91 1468.59 Q2199.08 1466.44 2195.93 1466.44 M2205.22 1451.78 L2205.22 1456.04 Q2203.46 1455.21 2201.65 1454.77 Q2199.87 1454.33 2198.11 1454.33 Q2193.48 1454.33 2191.03 1457.45 Q2188.6 1460.58 2188.25 1466.9 Q2189.61 1464.89 2191.68 1463.82 Q2193.74 1462.73 2196.21 1462.73 Q2201.42 1462.73 2204.43 1465.9 Q2207.46 1469.05 2207.46 1474.49 Q2207.46 1479.82 2204.31 1483.03 Q2201.17 1486.25 2195.93 1486.25 Q2189.94 1486.25 2186.77 1481.67 Q2183.6 1477.06 2183.6 1468.33 Q2183.6 1460.14 2187.49 1455.28 Q2191.37 1450.39 2197.92 1450.39 Q2199.68 1450.39 2201.47 1450.74 Q2203.27 1451.09 2205.22 1451.78 Z\" fill=\"#000000\" fill-rule=\"evenodd\" fill-opacity=\"1\" /><path clip-path=\"url(#clip080)\" d=\"M2215.52 1479.7 L2220.4 1479.7 L2220.4 1485.58 L2215.52 1485.58 L2215.52 1479.7 Z\" fill=\"#000000\" fill-rule=\"evenodd\" fill-opacity=\"1\" /><path clip-path=\"url(#clip080)\" d=\"M2240.59 1454.1 Q2236.98 1454.1 2235.15 1457.66 Q2233.34 1461.2 2233.34 1468.33 Q2233.34 1475.44 2235.15 1479.01 Q2236.98 1482.55 2240.59 1482.55 Q2244.22 1482.55 2246.03 1479.01 Q2247.86 1475.44 2247.86 1468.33 Q2247.86 1461.2 2246.03 1457.66 Q2244.22 1454.1 2240.59 1454.1 M2240.59 1450.39 Q2246.4 1450.39 2249.45 1455 Q2252.53 1459.58 2252.53 1468.33 Q2252.53 1477.06 2249.45 1481.67 Q2246.4 1486.25 2240.59 1486.25 Q2234.78 1486.25 2231.7 1481.67 Q2228.64 1477.06 2228.64 1468.33 Q2228.64 1459.58 2231.7 1455 Q2234.78 1450.39 2240.59 1450.39 Z\" fill=\"#000000\" fill-rule=\"evenodd\" fill-opacity=\"1\" /><path clip-path=\"url(#clip080)\" d=\"M1131.45 1539.24 Q1133.64 1535.29 1136.7 1533.41 Q1139.76 1531.54 1143.89 1531.54 Q1149.46 1531.54 1152.49 1535.45 Q1155.51 1539.33 1155.51 1546.53 L1155.51 1568.04 L1149.62 1568.04 L1149.62 1546.72 Q1149.62 1541.59 1147.81 1539.11 Q1145.99 1536.63 1142.27 1536.63 Q1137.72 1536.63 1135.08 1539.65 Q1132.43 1542.68 1132.43 1547.9 L1132.43 1568.04 L1126.55 1568.04 L1126.55 1546.72 Q1126.55 1541.56 1124.73 1539.11 Q1122.92 1536.63 1119.13 1536.63 Q1114.64 1536.63 1112 1539.68 Q1109.36 1542.71 1109.36 1547.9 L1109.36 1568.04 L1103.47 1568.04 L1103.47 1532.4 L1109.36 1532.4 L1109.36 1537.93 Q1111.36 1534.66 1114.17 1533.1 Q1116.97 1531.54 1120.82 1531.54 Q1124.7 1531.54 1127.41 1533.51 Q1130.14 1535.48 1131.45 1539.24 Z\" fill=\"#000000\" fill-rule=\"evenodd\" fill-opacity=\"1\" /><path clip-path=\"url(#clip080)\" d=\"M1167.19 1532.4 L1173.05 1532.4 L1173.05 1568.04 L1167.19 1568.04 L1167.19 1532.4 M1167.19 1518.52 L1173.05 1518.52 L1173.05 1525.93 L1167.19 1525.93 L1167.19 1518.52 Z\" fill=\"#000000\" fill-rule=\"evenodd\" fill-opacity=\"1\" /><path clip-path=\"url(#clip080)\" d=\"M1185.3 1518.52 L1191.16 1518.52 L1191.16 1568.04 L1185.3 1568.04 L1185.3 1518.52 Z\" fill=\"#000000\" fill-rule=\"evenodd\" fill-opacity=\"1\" /><path clip-path=\"url(#clip080)\" d=\"M1203.41 1518.52 L1209.27 1518.52 L1209.27 1568.04 L1203.41 1568.04 L1203.41 1518.52 Z\" fill=\"#000000\" fill-rule=\"evenodd\" fill-opacity=\"1\" /><path clip-path=\"url(#clip080)\" d=\"M1221.52 1532.4 L1227.38 1532.4 L1227.38 1568.04 L1221.52 1568.04 L1221.52 1532.4 M1221.52 1518.52 L1227.38 1518.52 L1227.38 1525.93 L1221.52 1525.93 L1221.52 1518.52 Z\" fill=\"#000000\" fill-rule=\"evenodd\" fill-opacity=\"1\" /><path clip-path=\"url(#clip080)\" d=\"M1262.36 1533.45 L1262.36 1538.98 Q1259.88 1537.71 1257.2 1537.07 Q1254.53 1536.44 1251.66 1536.44 Q1247.3 1536.44 1245.11 1537.77 Q1242.94 1539.11 1242.94 1541.79 Q1242.94 1543.82 1244.5 1545 Q1246.06 1546.15 1250.77 1547.2 L1252.78 1547.64 Q1259.02 1548.98 1261.63 1551.43 Q1264.27 1553.85 1264.27 1558.21 Q1264.27 1563.17 1260.32 1566.07 Q1256.41 1568.97 1249.53 1568.97 Q1246.67 1568.97 1243.55 1568.39 Q1240.46 1567.85 1237.02 1566.74 L1237.02 1560.69 Q1240.27 1562.38 1243.42 1563.24 Q1246.57 1564.07 1249.66 1564.07 Q1253.8 1564.07 1256.02 1562.66 Q1258.25 1561.23 1258.25 1558.65 Q1258.25 1556.27 1256.63 1554.99 Q1255.04 1553.72 1249.6 1552.54 L1247.56 1552.07 Q1242.12 1550.92 1239.7 1548.56 Q1237.28 1546.18 1237.28 1542.04 Q1237.28 1537.01 1240.84 1534.27 Q1244.41 1531.54 1250.96 1531.54 Q1254.21 1531.54 1257.08 1532.01 Q1259.94 1532.49 1262.36 1533.45 Z\" fill=\"#000000\" fill-rule=\"evenodd\" fill-opacity=\"1\" /><path clip-path=\"url(#clip080)\" d=\"M1304.09 1548.76 L1304.09 1551.62 L1277.16 1551.62 Q1277.54 1557.67 1280.79 1560.85 Q1284.07 1564 1289.89 1564 Q1293.26 1564 1296.42 1563.17 Q1299.6 1562.35 1302.72 1560.69 L1302.72 1566.23 Q1299.57 1567.57 1296.26 1568.27 Q1292.95 1568.97 1289.54 1568.97 Q1281.01 1568.97 1276.01 1564 Q1271.05 1559.04 1271.05 1550.57 Q1271.05 1541.82 1275.76 1536.69 Q1280.5 1531.54 1288.52 1531.54 Q1295.71 1531.54 1299.88 1536.18 Q1304.09 1540.8 1304.09 1548.76 M1298.23 1547.04 Q1298.17 1542.23 1295.52 1539.37 Q1292.91 1536.5 1288.59 1536.5 Q1283.68 1536.5 1280.72 1539.27 Q1277.8 1542.04 1277.35 1547.07 L1298.23 1547.04 Z\" fill=\"#000000\" fill-rule=\"evenodd\" fill-opacity=\"1\" /><path clip-path=\"url(#clip080)\" d=\"M1339.35 1533.76 L1339.35 1539.24 Q1336.87 1537.87 1334.35 1537.2 Q1331.87 1536.5 1329.33 1536.5 Q1323.63 1536.5 1320.48 1540.13 Q1317.33 1543.73 1317.33 1550.25 Q1317.33 1556.78 1320.48 1560.4 Q1323.63 1564 1329.33 1564 Q1331.87 1564 1334.35 1563.33 Q1336.87 1562.63 1339.35 1561.26 L1339.35 1566.68 Q1336.9 1567.82 1334.26 1568.39 Q1331.65 1568.97 1328.69 1568.97 Q1320.64 1568.97 1315.89 1563.91 Q1311.15 1558.85 1311.15 1550.25 Q1311.15 1541.53 1315.93 1536.53 Q1320.73 1531.54 1329.07 1531.54 Q1331.78 1531.54 1334.35 1532.11 Q1336.93 1532.65 1339.35 1533.76 Z\" fill=\"#000000\" fill-rule=\"evenodd\" fill-opacity=\"1\" /><path clip-path=\"url(#clip080)\" d=\"M1363.35 1536.5 Q1358.64 1536.5 1355.9 1540.19 Q1353.17 1543.85 1353.17 1550.25 Q1353.17 1556.65 1355.87 1560.34 Q1358.61 1564 1363.35 1564 Q1368.03 1564 1370.77 1560.31 Q1373.5 1556.62 1373.5 1550.25 Q1373.5 1543.92 1370.77 1540.23 Q1368.03 1536.5 1363.35 1536.5 M1363.35 1531.54 Q1370.99 1531.54 1375.35 1536.5 Q1379.71 1541.47 1379.71 1550.25 Q1379.71 1559 1375.35 1564 Q1370.99 1568.97 1363.35 1568.97 Q1355.68 1568.97 1351.32 1564 Q1346.99 1559 1346.99 1550.25 Q1346.99 1541.47 1351.32 1536.5 Q1355.68 1531.54 1363.35 1531.54 Z\" fill=\"#000000\" fill-rule=\"evenodd\" fill-opacity=\"1\" /><path clip-path=\"url(#clip080)\" d=\"M1419.05 1546.53 L1419.05 1568.04 L1413.19 1568.04 L1413.19 1546.72 Q1413.19 1541.66 1411.22 1539.14 Q1409.25 1536.63 1405.3 1536.63 Q1400.56 1536.63 1397.82 1539.65 Q1395.08 1542.68 1395.08 1547.9 L1395.08 1568.04 L1389.2 1568.04 L1389.2 1532.4 L1395.08 1532.4 L1395.08 1537.93 Q1397.18 1534.72 1400.02 1533.13 Q1402.88 1531.54 1406.61 1531.54 Q1412.75 1531.54 1415.9 1535.36 Q1419.05 1539.14 1419.05 1546.53 Z\" fill=\"#000000\" fill-rule=\"evenodd\" fill-opacity=\"1\" /><path clip-path=\"url(#clip080)\" d=\"M1454.19 1537.81 L1454.19 1518.52 L1460.05 1518.52 L1460.05 1568.04 L1454.19 1568.04 L1454.19 1562.7 Q1452.34 1565.88 1449.51 1567.44 Q1446.71 1568.97 1442.76 1568.97 Q1436.3 1568.97 1432.23 1563.81 Q1428.19 1558.65 1428.19 1550.25 Q1428.19 1541.85 1432.23 1536.69 Q1436.3 1531.54 1442.76 1531.54 Q1446.71 1531.54 1449.51 1533.1 Q1452.34 1534.62 1454.19 1537.81 M1434.23 1550.25 Q1434.23 1556.71 1436.87 1560.4 Q1439.55 1564.07 1444.2 1564.07 Q1448.84 1564.07 1451.52 1560.4 Q1454.19 1556.71 1454.19 1550.25 Q1454.19 1543.79 1451.52 1540.13 Q1448.84 1536.44 1444.2 1536.44 Q1439.55 1536.44 1436.87 1540.13 Q1434.23 1543.79 1434.23 1550.25 Z\" fill=\"#000000\" fill-rule=\"evenodd\" fill-opacity=\"1\" /><path clip-path=\"url(#clip080)\" d=\"M1494.83 1533.45 L1494.83 1538.98 Q1492.35 1537.71 1489.68 1537.07 Q1487 1536.44 1484.14 1536.44 Q1479.78 1536.44 1477.58 1537.77 Q1475.42 1539.11 1475.42 1541.79 Q1475.42 1543.82 1476.98 1545 Q1478.54 1546.15 1483.25 1547.2 L1485.25 1547.64 Q1491.49 1548.98 1494.1 1551.43 Q1496.74 1553.85 1496.74 1558.21 Q1496.74 1563.17 1492.8 1566.07 Q1488.88 1568.97 1482.01 1568.97 Q1479.14 1568.97 1476.02 1568.39 Q1472.94 1567.85 1469.5 1566.74 L1469.5 1560.69 Q1472.75 1562.38 1475.9 1563.24 Q1479.05 1564.07 1482.13 1564.07 Q1486.27 1564.07 1488.5 1562.66 Q1490.73 1561.23 1490.73 1558.65 Q1490.73 1556.27 1489.11 1554.99 Q1487.51 1553.72 1482.07 1552.54 L1480.03 1552.07 Q1474.59 1550.92 1472.17 1548.56 Q1469.75 1546.18 1469.75 1542.04 Q1469.75 1537.01 1473.32 1534.27 Q1476.88 1531.54 1483.44 1531.54 Q1486.69 1531.54 1489.55 1532.01 Q1492.42 1532.49 1494.83 1533.45 Z\" fill=\"#000000\" fill-rule=\"evenodd\" fill-opacity=\"1\" /><polyline clip-path=\"url(#clip082)\" style=\"stroke:#000000; stroke-linecap:butt; stroke-linejoin:round; stroke-width:2; stroke-opacity:0.1; fill:none\" points=\"\n  247.459,1384.24 2352.76,1384.24 \n  \"/>\n<polyline clip-path=\"url(#clip082)\" style=\"stroke:#000000; stroke-linecap:butt; stroke-linejoin:round; stroke-width:2; stroke-opacity:0.1; fill:none\" points=\"\n  247.459,1089.23 2352.76,1089.23 \n  \"/>\n<polyline clip-path=\"url(#clip082)\" style=\"stroke:#000000; stroke-linecap:butt; stroke-linejoin:round; stroke-width:2; stroke-opacity:0.1; fill:none\" points=\"\n  247.459,794.214 2352.76,794.214 \n  \"/>\n<polyline clip-path=\"url(#clip082)\" style=\"stroke:#000000; stroke-linecap:butt; stroke-linejoin:round; stroke-width:2; stroke-opacity:0.1; fill:none\" points=\"\n  247.459,499.202 2352.76,499.202 \n  \"/>\n<polyline clip-path=\"url(#clip082)\" style=\"stroke:#000000; stroke-linecap:butt; stroke-linejoin:round; stroke-width:2; stroke-opacity:0.1; fill:none\" points=\"\n  247.459,204.19 2352.76,204.19 \n  \"/>\n<polyline clip-path=\"url(#clip080)\" style=\"stroke:#000000; stroke-linecap:butt; stroke-linejoin:round; stroke-width:4; stroke-opacity:1; fill:none\" points=\"\n  247.459,1423.18 247.459,47.2441 \n  \"/>\n<polyline clip-path=\"url(#clip080)\" style=\"stroke:#000000; stroke-linecap:butt; stroke-linejoin:round; stroke-width:4; stroke-opacity:1; fill:none\" points=\"\n  247.459,1384.24 266.356,1384.24 \n  \"/>\n<polyline clip-path=\"url(#clip080)\" style=\"stroke:#000000; stroke-linecap:butt; stroke-linejoin:round; stroke-width:4; stroke-opacity:1; fill:none\" points=\"\n  247.459,1089.23 266.356,1089.23 \n  \"/>\n<polyline clip-path=\"url(#clip080)\" style=\"stroke:#000000; stroke-linecap:butt; stroke-linejoin:round; stroke-width:4; stroke-opacity:1; fill:none\" points=\"\n  247.459,794.214 266.356,794.214 \n  \"/>\n<polyline clip-path=\"url(#clip080)\" style=\"stroke:#000000; stroke-linecap:butt; stroke-linejoin:round; stroke-width:4; stroke-opacity:1; fill:none\" points=\"\n  247.459,499.202 266.356,499.202 \n  \"/>\n<polyline clip-path=\"url(#clip080)\" style=\"stroke:#000000; stroke-linecap:butt; stroke-linejoin:round; stroke-width:4; stroke-opacity:1; fill:none\" points=\"\n  247.459,204.19 266.356,204.19 \n  \"/>\n<path clip-path=\"url(#clip080)\" d=\"M154.283 1370.04 Q150.672 1370.04 148.843 1373.6 Q147.038 1377.14 147.038 1384.27 Q147.038 1391.38 148.843 1394.94 Q150.672 1398.49 154.283 1398.49 Q157.917 1398.49 159.723 1394.94 Q161.552 1391.38 161.552 1384.27 Q161.552 1377.14 159.723 1373.6 Q157.917 1370.04 154.283 1370.04 M154.283 1366.33 Q160.093 1366.33 163.149 1370.94 Q166.227 1375.52 166.227 1384.27 Q166.227 1393 163.149 1397.61 Q160.093 1402.19 154.283 1402.19 Q148.473 1402.19 145.394 1397.61 Q142.339 1393 142.339 1384.27 Q142.339 1375.52 145.394 1370.94 Q148.473 1366.33 154.283 1366.33 Z\" fill=\"#000000\" fill-rule=\"evenodd\" fill-opacity=\"1\" /><path clip-path=\"url(#clip080)\" d=\"M174.445 1395.64 L179.329 1395.64 L179.329 1401.52 L174.445 1401.52 L174.445 1395.64 Z\" fill=\"#000000\" fill-rule=\"evenodd\" fill-opacity=\"1\" /><path clip-path=\"url(#clip080)\" d=\"M199.514 1370.04 Q195.903 1370.04 194.075 1373.6 Q192.269 1377.14 192.269 1384.27 Q192.269 1391.38 194.075 1394.94 Q195.903 1398.49 199.514 1398.49 Q203.149 1398.49 204.954 1394.94 Q206.783 1391.38 206.783 1384.27 Q206.783 1377.14 204.954 1373.6 Q203.149 1370.04 199.514 1370.04 M199.514 1366.33 Q205.324 1366.33 208.38 1370.94 Q211.459 1375.52 211.459 1384.27 Q211.459 1393 208.38 1397.61 Q205.324 1402.19 199.514 1402.19 Q193.704 1402.19 190.625 1397.61 Q187.57 1393 187.57 1384.27 Q187.57 1375.52 190.625 1370.94 Q193.704 1366.33 199.514 1366.33 Z\" fill=\"#000000\" fill-rule=\"evenodd\" fill-opacity=\"1\" /><path clip-path=\"url(#clip080)\" d=\"M149.306 1102.57 L165.626 1102.57 L165.626 1106.51 L143.681 1106.51 L143.681 1102.57 Q146.343 1099.82 150.927 1095.19 Q155.533 1090.53 156.714 1089.19 Q158.959 1086.67 159.839 1084.93 Q160.741 1083.17 160.741 1081.48 Q160.741 1078.73 158.797 1076.99 Q156.876 1075.26 153.774 1075.26 Q151.575 1075.26 149.121 1076.02 Q146.691 1076.78 143.913 1078.34 L143.913 1073.61 Q146.737 1072.48 149.191 1071.9 Q151.644 1071.32 153.681 1071.32 Q159.052 1071.32 162.246 1074.01 Q165.44 1076.69 165.44 1081.18 Q165.44 1083.31 164.63 1085.23 Q163.843 1087.13 161.737 1089.72 Q161.158 1090.4 158.056 1093.61 Q154.954 1096.81 149.306 1102.57 Z\" fill=\"#000000\" fill-rule=\"evenodd\" fill-opacity=\"1\" /><path clip-path=\"url(#clip080)\" d=\"M175.44 1100.63 L180.325 1100.63 L180.325 1106.51 L175.44 1106.51 L175.44 1100.63 Z\" fill=\"#000000\" fill-rule=\"evenodd\" fill-opacity=\"1\" /><path clip-path=\"url(#clip080)\" d=\"M190.556 1071.95 L208.912 1071.95 L208.912 1075.88 L194.838 1075.88 L194.838 1084.35 Q195.857 1084.01 196.875 1083.84 Q197.894 1083.66 198.912 1083.66 Q204.699 1083.66 208.079 1086.83 Q211.459 1090 211.459 1095.42 Q211.459 1101 207.987 1104.1 Q204.514 1107.18 198.195 1107.18 Q196.019 1107.18 193.75 1106.81 Q191.505 1106.44 189.098 1105.7 L189.098 1101 Q191.181 1102.13 193.403 1102.69 Q195.625 1103.24 198.102 1103.24 Q202.107 1103.24 204.445 1101.14 Q206.783 1099.03 206.783 1095.42 Q206.783 1091.81 204.445 1089.7 Q202.107 1087.59 198.102 1087.59 Q196.227 1087.59 194.352 1088.01 Q192.5 1088.43 190.556 1089.31 L190.556 1071.95 Z\" fill=\"#000000\" fill-rule=\"evenodd\" fill-opacity=\"1\" /><path clip-path=\"url(#clip080)\" d=\"M144.329 776.934 L162.686 776.934 L162.686 780.87 L148.612 780.87 L148.612 789.342 Q149.63 788.994 150.649 788.832 Q151.667 788.647 152.686 788.647 Q158.473 788.647 161.852 791.819 Q165.232 794.99 165.232 800.406 Q165.232 805.985 161.76 809.087 Q158.288 812.166 151.968 812.166 Q149.792 812.166 147.524 811.795 Q145.279 811.425 142.871 810.684 L142.871 805.985 Q144.954 807.119 147.177 807.675 Q149.399 808.23 151.876 808.23 Q155.88 808.23 158.218 806.124 Q160.556 804.018 160.556 800.406 Q160.556 796.795 158.218 794.689 Q155.88 792.582 151.876 792.582 Q150.001 792.582 148.126 792.999 Q146.274 793.416 144.329 794.295 L144.329 776.934 Z\" fill=\"#000000\" fill-rule=\"evenodd\" fill-opacity=\"1\" /><path clip-path=\"url(#clip080)\" d=\"M174.445 805.615 L179.329 805.615 L179.329 811.494 L174.445 811.494 L174.445 805.615 Z\" fill=\"#000000\" fill-rule=\"evenodd\" fill-opacity=\"1\" /><path clip-path=\"url(#clip080)\" d=\"M199.514 780.013 Q195.903 780.013 194.075 783.578 Q192.269 787.119 192.269 794.249 Q192.269 801.356 194.075 804.92 Q195.903 808.462 199.514 808.462 Q203.149 808.462 204.954 804.92 Q206.783 801.356 206.783 794.249 Q206.783 787.119 204.954 783.578 Q203.149 780.013 199.514 780.013 M199.514 776.309 Q205.324 776.309 208.38 780.916 Q211.459 785.499 211.459 794.249 Q211.459 802.976 208.38 807.582 Q205.324 812.166 199.514 812.166 Q193.704 812.166 190.625 807.582 Q187.57 802.976 187.57 794.249 Q187.57 785.499 190.625 780.916 Q193.704 776.309 199.514 776.309 Z\" fill=\"#000000\" fill-rule=\"evenodd\" fill-opacity=\"1\" /><path clip-path=\"url(#clip080)\" d=\"M144.098 481.922 L166.32 481.922 L166.32 483.913 L153.774 516.482 L148.89 516.482 L160.695 485.858 L144.098 485.858 L144.098 481.922 Z\" fill=\"#000000\" fill-rule=\"evenodd\" fill-opacity=\"1\" /><path clip-path=\"url(#clip080)\" d=\"M175.44 510.603 L180.325 510.603 L180.325 516.482 L175.44 516.482 L175.44 510.603 Z\" fill=\"#000000\" fill-rule=\"evenodd\" fill-opacity=\"1\" /><path clip-path=\"url(#clip080)\" d=\"M190.556 481.922 L208.912 481.922 L208.912 485.858 L194.838 485.858 L194.838 494.33 Q195.857 493.983 196.875 493.82 Q197.894 493.635 198.912 493.635 Q204.699 493.635 208.079 496.807 Q211.459 499.978 211.459 505.395 Q211.459 510.973 207.987 514.075 Q204.514 517.154 198.195 517.154 Q196.019 517.154 193.75 516.783 Q191.505 516.413 189.098 515.672 L189.098 510.973 Q191.181 512.107 193.403 512.663 Q195.625 513.219 198.102 513.219 Q202.107 513.219 204.445 511.112 Q206.783 509.006 206.783 505.395 Q206.783 501.783 204.445 499.677 Q202.107 497.57 198.102 497.57 Q196.227 497.57 194.352 497.987 Q192.5 498.404 190.556 499.283 L190.556 481.922 Z\" fill=\"#000000\" fill-rule=\"evenodd\" fill-opacity=\"1\" /><path clip-path=\"url(#clip080)\" d=\"M114.931 217.535 L122.57 217.535 L122.57 191.17 L114.26 192.836 L114.26 188.577 L122.524 186.91 L127.2 186.91 L127.2 217.535 L134.839 217.535 L134.839 221.47 L114.931 221.47 L114.931 217.535 Z\" fill=\"#000000\" fill-rule=\"evenodd\" fill-opacity=\"1\" /><path clip-path=\"url(#clip080)\" d=\"M154.283 189.989 Q150.672 189.989 148.843 193.554 Q147.038 197.096 147.038 204.225 Q147.038 211.332 148.843 214.896 Q150.672 218.438 154.283 218.438 Q157.917 218.438 159.723 214.896 Q161.552 211.332 161.552 204.225 Q161.552 197.096 159.723 193.554 Q157.917 189.989 154.283 189.989 M154.283 186.285 Q160.093 186.285 163.149 190.892 Q166.227 195.475 166.227 204.225 Q166.227 212.952 163.149 217.558 Q160.093 222.142 154.283 222.142 Q148.473 222.142 145.394 217.558 Q142.339 212.952 142.339 204.225 Q142.339 195.475 145.394 190.892 Q148.473 186.285 154.283 186.285 Z\" fill=\"#000000\" fill-rule=\"evenodd\" fill-opacity=\"1\" /><path clip-path=\"url(#clip080)\" d=\"M174.445 215.591 L179.329 215.591 L179.329 221.47 L174.445 221.47 L174.445 215.591 Z\" fill=\"#000000\" fill-rule=\"evenodd\" fill-opacity=\"1\" /><path clip-path=\"url(#clip080)\" d=\"M199.514 189.989 Q195.903 189.989 194.075 193.554 Q192.269 197.096 192.269 204.225 Q192.269 211.332 194.075 214.896 Q195.903 218.438 199.514 218.438 Q203.149 218.438 204.954 214.896 Q206.783 211.332 206.783 204.225 Q206.783 197.096 204.954 193.554 Q203.149 189.989 199.514 189.989 M199.514 186.285 Q205.324 186.285 208.38 190.892 Q211.459 195.475 211.459 204.225 Q211.459 212.952 208.38 217.558 Q205.324 222.142 199.514 222.142 Q193.704 222.142 190.625 217.558 Q187.57 212.952 187.57 204.225 Q187.57 195.475 190.625 190.892 Q193.704 186.285 199.514 186.285 Z\" fill=\"#000000\" fill-rule=\"evenodd\" fill-opacity=\"1\" /><path clip-path=\"url(#clip080)\" d=\"M29.7248 796.386 L35.1993 796.386 Q33.8307 798.869 33.1623 801.383 Q32.4621 803.866 32.4621 806.412 Q32.4621 812.11 36.0905 815.261 Q39.6872 818.412 46.212 818.412 Q52.7369 818.412 56.3653 815.261 Q59.9619 812.11 59.9619 806.412 Q59.9619 803.866 59.2935 801.383 Q58.5933 798.869 57.2247 796.386 L62.6355 796.386 Q63.7814 798.837 64.3543 801.479 Q64.9272 804.089 64.9272 807.049 Q64.9272 815.102 59.8664 819.844 Q54.8057 824.586 46.212 824.586 Q37.491 824.586 32.4939 819.812 Q27.4968 815.006 27.4968 806.667 Q27.4968 803.962 28.0697 801.383 Q28.6108 798.805 29.7248 796.386 Z\" fill=\"#000000\" fill-rule=\"evenodd\" fill-opacity=\"1\" /><path clip-path=\"url(#clip080)\" d=\"M32.4621 772.388 Q32.4621 777.098 36.1542 779.836 Q39.8145 782.573 46.212 782.573 Q52.6095 782.573 56.3017 779.867 Q59.9619 777.13 59.9619 772.388 Q59.9619 767.709 56.2698 764.972 Q52.5777 762.234 46.212 762.234 Q39.8781 762.234 36.186 764.972 Q32.4621 767.709 32.4621 772.388 M27.4968 772.388 Q27.4968 764.749 32.4621 760.388 Q37.4273 756.028 46.212 756.028 Q54.9649 756.028 59.9619 760.388 Q64.9272 764.749 64.9272 772.388 Q64.9272 780.058 59.9619 784.419 Q54.9649 788.748 46.212 788.748 Q37.4273 788.748 32.4621 784.419 Q27.4968 780.058 27.4968 772.388 Z\" fill=\"#000000\" fill-rule=\"evenodd\" fill-opacity=\"1\" /><path clip-path=\"url(#clip080)\" d=\"M49.9359 746.925 L28.3562 746.925 L28.3562 741.068 L49.7131 741.068 Q54.7739 741.068 57.3202 739.095 Q59.8346 737.122 59.8346 733.175 Q59.8346 728.432 56.8109 725.695 Q53.7872 722.926 48.5673 722.926 L28.3562 722.926 L28.3562 717.07 L64.0042 717.07 L64.0042 722.926 L58.5296 722.926 Q61.7762 725.059 63.3676 727.891 Q64.9272 730.692 64.9272 734.416 Q64.9272 740.559 61.1078 743.742 Q57.2883 746.925 49.9359 746.925 M27.4968 732.188 L27.4968 732.188 Z\" fill=\"#000000\" fill-rule=\"evenodd\" fill-opacity=\"1\" /><path clip-path=\"url(#clip080)\" d=\"M42.4881 675.374 L64.0042 675.374 L64.0042 681.231 L42.679 681.231 Q37.6183 681.231 35.1038 683.204 Q32.5894 685.178 32.5894 689.124 Q32.5894 693.867 35.6131 696.604 Q38.6368 699.341 43.8567 699.341 L64.0042 699.341 L64.0042 705.229 L28.3562 705.229 L28.3562 699.341 L33.8944 699.341 Q30.6797 697.241 29.0883 694.408 Q27.4968 691.543 27.4968 687.819 Q27.4968 681.676 31.3163 678.525 Q35.1038 675.374 42.4881 675.374 Z\" fill=\"#000000\" fill-rule=\"evenodd\" fill-opacity=\"1\" /><path clip-path=\"url(#clip080)\" d=\"M18.2347 657.9 L28.3562 657.9 L28.3562 645.837 L32.9077 645.837 L32.9077 657.9 L52.2594 657.9 Q56.6199 657.9 57.8613 656.723 Q59.1026 655.513 59.1026 651.853 L59.1026 645.837 L64.0042 645.837 L64.0042 651.853 Q64.0042 658.633 61.4897 661.211 Q58.9434 663.789 52.2594 663.789 L32.9077 663.789 L32.9077 668.086 L28.3562 668.086 L28.3562 663.789 L18.2347 663.789 L18.2347 657.9 Z\" fill=\"#000000\" fill-rule=\"evenodd\" fill-opacity=\"1\" /><path clip-path=\"url(#clip082)\" d=\"\nM273.581 1148.23 L273.581 1384.24 L321.84 1384.24 L321.84 1148.23 L273.581 1148.23 L273.581 1148.23  Z\n  \" fill=\"#009af9\" fill-rule=\"evenodd\" fill-opacity=\"1\"/>\n<polyline clip-path=\"url(#clip082)\" style=\"stroke:#000000; stroke-linecap:butt; stroke-linejoin:round; stroke-width:4; stroke-opacity:1; fill:none\" points=\"\n  273.581,1148.23 273.581,1384.24 321.84,1384.24 321.84,1148.23 273.581,1148.23 \n  \"/>\n<path clip-path=\"url(#clip082)\" d=\"\nM321.84 1148.23 L321.84 1384.24 L370.099 1384.24 L370.099 1148.23 L321.84 1148.23 L321.84 1148.23  Z\n  \" fill=\"#009af9\" fill-rule=\"evenodd\" fill-opacity=\"1\"/>\n<polyline clip-path=\"url(#clip082)\" style=\"stroke:#000000; stroke-linecap:butt; stroke-linejoin:round; stroke-width:4; stroke-opacity:1; fill:none\" points=\"\n  321.84,1148.23 321.84,1384.24 370.099,1384.24 370.099,1148.23 321.84,1148.23 \n  \"/>\n<path clip-path=\"url(#clip082)\" d=\"\nM370.099 1384.24 L370.099 1384.24 L418.357 1384.24 L418.357 1384.24 L370.099 1384.24 L370.099 1384.24  Z\n  \" fill=\"#009af9\" fill-rule=\"evenodd\" fill-opacity=\"1\"/>\n<polyline clip-path=\"url(#clip082)\" style=\"stroke:#000000; stroke-linecap:butt; stroke-linejoin:round; stroke-width:4; stroke-opacity:1; fill:none\" points=\"\n  370.099,1384.24 370.099,1384.24 418.357,1384.24 370.099,1384.24 \n  \"/>\n<path clip-path=\"url(#clip082)\" d=\"\nM418.357 1384.24 L418.357 1384.24 L466.616 1384.24 L466.616 1384.24 L418.357 1384.24 L418.357 1384.24  Z\n  \" fill=\"#009af9\" fill-rule=\"evenodd\" fill-opacity=\"1\"/>\n<polyline clip-path=\"url(#clip082)\" style=\"stroke:#000000; stroke-linecap:butt; stroke-linejoin:round; stroke-width:4; stroke-opacity:1; fill:none\" points=\"\n  418.357,1384.24 418.357,1384.24 466.616,1384.24 418.357,1384.24 \n  \"/>\n<path clip-path=\"url(#clip082)\" d=\"\nM466.616 1148.23 L466.616 1384.24 L514.875 1384.24 L514.875 1148.23 L466.616 1148.23 L466.616 1148.23  Z\n  \" fill=\"#009af9\" fill-rule=\"evenodd\" fill-opacity=\"1\"/>\n<polyline clip-path=\"url(#clip082)\" style=\"stroke:#000000; stroke-linecap:butt; stroke-linejoin:round; stroke-width:4; stroke-opacity:1; fill:none\" points=\"\n  466.616,1148.23 466.616,1384.24 514.875,1384.24 514.875,1148.23 466.616,1148.23 \n  \"/>\n<path clip-path=\"url(#clip082)\" d=\"\nM514.875 1148.23 L514.875 1384.24 L563.134 1384.24 L563.134 1148.23 L514.875 1148.23 L514.875 1148.23  Z\n  \" fill=\"#009af9\" fill-rule=\"evenodd\" fill-opacity=\"1\"/>\n<polyline clip-path=\"url(#clip082)\" style=\"stroke:#000000; stroke-linecap:butt; stroke-linejoin:round; stroke-width:4; stroke-opacity:1; fill:none\" points=\"\n  514.875,1148.23 514.875,1384.24 563.134,1384.24 563.134,1148.23 514.875,1148.23 \n  \"/>\n<path clip-path=\"url(#clip082)\" d=\"\nM563.134 794.214 L563.134 1384.24 L611.393 1384.24 L611.393 794.214 L563.134 794.214 L563.134 794.214  Z\n  \" fill=\"#009af9\" fill-rule=\"evenodd\" fill-opacity=\"1\"/>\n<polyline clip-path=\"url(#clip082)\" style=\"stroke:#000000; stroke-linecap:butt; stroke-linejoin:round; stroke-width:4; stroke-opacity:1; fill:none\" points=\"\n  563.134,794.214 563.134,1384.24 611.393,1384.24 611.393,794.214 563.134,794.214 \n  \"/>\n<path clip-path=\"url(#clip082)\" d=\"\nM611.393 794.214 L611.393 1384.24 L659.651 1384.24 L659.651 794.214 L611.393 794.214 L611.393 794.214  Z\n  \" fill=\"#009af9\" fill-rule=\"evenodd\" fill-opacity=\"1\"/>\n<polyline clip-path=\"url(#clip082)\" style=\"stroke:#000000; stroke-linecap:butt; stroke-linejoin:round; stroke-width:4; stroke-opacity:1; fill:none\" points=\"\n  611.393,794.214 611.393,1384.24 659.651,1384.24 659.651,794.214 611.393,794.214 \n  \"/>\n<path clip-path=\"url(#clip082)\" d=\"\nM659.651 1030.22 L659.651 1384.24 L707.91 1384.24 L707.91 1030.22 L659.651 1030.22 L659.651 1030.22  Z\n  \" fill=\"#009af9\" fill-rule=\"evenodd\" fill-opacity=\"1\"/>\n<polyline clip-path=\"url(#clip082)\" style=\"stroke:#000000; stroke-linecap:butt; stroke-linejoin:round; stroke-width:4; stroke-opacity:1; fill:none\" points=\"\n  659.651,1030.22 659.651,1384.24 707.91,1384.24 707.91,1030.22 659.651,1030.22 \n  \"/>\n<path clip-path=\"url(#clip082)\" d=\"\nM707.91 912.219 L707.91 1384.24 L756.169 1384.24 L756.169 912.219 L707.91 912.219 L707.91 912.219  Z\n  \" fill=\"#009af9\" fill-rule=\"evenodd\" fill-opacity=\"1\"/>\n<polyline clip-path=\"url(#clip082)\" style=\"stroke:#000000; stroke-linecap:butt; stroke-linejoin:round; stroke-width:4; stroke-opacity:1; fill:none\" points=\"\n  707.91,912.219 707.91,1384.24 756.169,1384.24 756.169,912.219 707.91,912.219 \n  \"/>\n<path clip-path=\"url(#clip082)\" d=\"\nM756.169 676.21 L756.169 1384.24 L804.428 1384.24 L804.428 676.21 L756.169 676.21 L756.169 676.21  Z\n  \" fill=\"#009af9\" fill-rule=\"evenodd\" fill-opacity=\"1\"/>\n<polyline clip-path=\"url(#clip082)\" style=\"stroke:#000000; stroke-linecap:butt; stroke-linejoin:round; stroke-width:4; stroke-opacity:1; fill:none\" points=\"\n  756.169,676.21 756.169,1384.24 804.428,1384.24 804.428,676.21 756.169,676.21 \n  \"/>\n<path clip-path=\"url(#clip082)\" d=\"\nM804.428 676.21 L804.428 1384.24 L852.686 1384.24 L852.686 676.21 L804.428 676.21 L804.428 676.21  Z\n  \" fill=\"#009af9\" fill-rule=\"evenodd\" fill-opacity=\"1\"/>\n<polyline clip-path=\"url(#clip082)\" style=\"stroke:#000000; stroke-linecap:butt; stroke-linejoin:round; stroke-width:4; stroke-opacity:1; fill:none\" points=\"\n  804.428,676.21 804.428,1384.24 852.686,1384.24 852.686,676.21 804.428,676.21 \n  \"/>\n<path clip-path=\"url(#clip082)\" d=\"\nM852.686 676.21 L852.686 1384.24 L900.945 1384.24 L900.945 676.21 L852.686 676.21 L852.686 676.21  Z\n  \" fill=\"#009af9\" fill-rule=\"evenodd\" fill-opacity=\"1\"/>\n<polyline clip-path=\"url(#clip082)\" style=\"stroke:#000000; stroke-linecap:butt; stroke-linejoin:round; stroke-width:4; stroke-opacity:1; fill:none\" points=\"\n  852.686,676.21 852.686,1384.24 900.945,1384.24 900.945,676.21 852.686,676.21 \n  \"/>\n<path clip-path=\"url(#clip082)\" d=\"\nM900.945 204.19 L900.945 1384.24 L949.204 1384.24 L949.204 204.19 L900.945 204.19 L900.945 204.19  Z\n  \" fill=\"#009af9\" fill-rule=\"evenodd\" fill-opacity=\"1\"/>\n<polyline clip-path=\"url(#clip082)\" style=\"stroke:#000000; stroke-linecap:butt; stroke-linejoin:round; stroke-width:4; stroke-opacity:1; fill:none\" points=\"\n  900.945,204.19 900.945,1384.24 949.204,1384.24 949.204,204.19 900.945,204.19 \n  \"/>\n<path clip-path=\"url(#clip082)\" d=\"\nM949.204 676.21 L949.204 1384.24 L997.463 1384.24 L997.463 676.21 L949.204 676.21 L949.204 676.21  Z\n  \" fill=\"#009af9\" fill-rule=\"evenodd\" fill-opacity=\"1\"/>\n<polyline clip-path=\"url(#clip082)\" style=\"stroke:#000000; stroke-linecap:butt; stroke-linejoin:round; stroke-width:4; stroke-opacity:1; fill:none\" points=\"\n  949.204,676.21 949.204,1384.24 997.463,1384.24 997.463,676.21 949.204,676.21 \n  \"/>\n<path clip-path=\"url(#clip082)\" d=\"\nM997.463 204.19 L997.463 1384.24 L1045.72 1384.24 L1045.72 204.19 L997.463 204.19 L997.463 204.19  Z\n  \" fill=\"#009af9\" fill-rule=\"evenodd\" fill-opacity=\"1\"/>\n<polyline clip-path=\"url(#clip082)\" style=\"stroke:#000000; stroke-linecap:butt; stroke-linejoin:round; stroke-width:4; stroke-opacity:1; fill:none\" points=\"\n  997.463,204.19 997.463,1384.24 1045.72,1384.24 1045.72,204.19 997.463,204.19 \n  \"/>\n<path clip-path=\"url(#clip082)\" d=\"\nM1045.72 440.2 L1045.72 1384.24 L1093.98 1384.24 L1093.98 440.2 L1045.72 440.2 L1045.72 440.2  Z\n  \" fill=\"#009af9\" fill-rule=\"evenodd\" fill-opacity=\"1\"/>\n<polyline clip-path=\"url(#clip082)\" style=\"stroke:#000000; stroke-linecap:butt; stroke-linejoin:round; stroke-width:4; stroke-opacity:1; fill:none\" points=\"\n  1045.72,440.2 1045.72,1384.24 1093.98,1384.24 1093.98,440.2 1045.72,440.2 \n  \"/>\n<path clip-path=\"url(#clip082)\" d=\"\nM1093.98 322.195 L1093.98 1384.24 L1142.24 1384.24 L1142.24 322.195 L1093.98 322.195 L1093.98 322.195  Z\n  \" fill=\"#009af9\" fill-rule=\"evenodd\" fill-opacity=\"1\"/>\n<polyline clip-path=\"url(#clip082)\" style=\"stroke:#000000; stroke-linecap:butt; stroke-linejoin:round; stroke-width:4; stroke-opacity:1; fill:none\" points=\"\n  1093.98,322.195 1093.98,1384.24 1142.24,1384.24 1142.24,322.195 1093.98,322.195 \n  \"/>\n<path clip-path=\"url(#clip082)\" d=\"\nM1142.24 322.195 L1142.24 1384.24 L1190.5 1384.24 L1190.5 322.195 L1142.24 322.195 L1142.24 322.195  Z\n  \" fill=\"#009af9\" fill-rule=\"evenodd\" fill-opacity=\"1\"/>\n<polyline clip-path=\"url(#clip082)\" style=\"stroke:#000000; stroke-linecap:butt; stroke-linejoin:round; stroke-width:4; stroke-opacity:1; fill:none\" points=\"\n  1142.24,322.195 1142.24,1384.24 1190.5,1384.24 1190.5,322.195 1142.24,322.195 \n  \"/>\n<path clip-path=\"url(#clip082)\" d=\"\nM1190.5 322.195 L1190.5 1384.24 L1238.76 1384.24 L1238.76 322.195 L1190.5 322.195 L1190.5 322.195  Z\n  \" fill=\"#009af9\" fill-rule=\"evenodd\" fill-opacity=\"1\"/>\n<polyline clip-path=\"url(#clip082)\" style=\"stroke:#000000; stroke-linecap:butt; stroke-linejoin:round; stroke-width:4; stroke-opacity:1; fill:none\" points=\"\n  1190.5,322.195 1190.5,1384.24 1238.76,1384.24 1238.76,322.195 1190.5,322.195 \n  \"/>\n<path clip-path=\"url(#clip082)\" d=\"\nM1238.76 794.214 L1238.76 1384.24 L1287.02 1384.24 L1287.02 794.214 L1238.76 794.214 L1238.76 794.214  Z\n  \" fill=\"#009af9\" fill-rule=\"evenodd\" fill-opacity=\"1\"/>\n<polyline clip-path=\"url(#clip082)\" style=\"stroke:#000000; stroke-linecap:butt; stroke-linejoin:round; stroke-width:4; stroke-opacity:1; fill:none\" points=\"\n  1238.76,794.214 1238.76,1384.24 1287.02,1384.24 1287.02,794.214 1238.76,794.214 \n  \"/>\n<path clip-path=\"url(#clip082)\" d=\"\nM1287.02 204.19 L1287.02 1384.24 L1335.27 1384.24 L1335.27 204.19 L1287.02 204.19 L1287.02 204.19  Z\n  \" fill=\"#009af9\" fill-rule=\"evenodd\" fill-opacity=\"1\"/>\n<polyline clip-path=\"url(#clip082)\" style=\"stroke:#000000; stroke-linecap:butt; stroke-linejoin:round; stroke-width:4; stroke-opacity:1; fill:none\" points=\"\n  1287.02,204.19 1287.02,1384.24 1335.27,1384.24 1335.27,204.19 1287.02,204.19 \n  \"/>\n<path clip-path=\"url(#clip082)\" d=\"\nM1335.27 676.21 L1335.27 1384.24 L1383.53 1384.24 L1383.53 676.21 L1335.27 676.21 L1335.27 676.21  Z\n  \" fill=\"#009af9\" fill-rule=\"evenodd\" fill-opacity=\"1\"/>\n<polyline clip-path=\"url(#clip082)\" style=\"stroke:#000000; stroke-linecap:butt; stroke-linejoin:round; stroke-width:4; stroke-opacity:1; fill:none\" points=\"\n  1335.27,676.21 1335.27,1384.24 1383.53,1384.24 1383.53,676.21 1335.27,676.21 \n  \"/>\n<path clip-path=\"url(#clip082)\" d=\"\nM1383.53 558.205 L1383.53 1384.24 L1431.79 1384.24 L1431.79 558.205 L1383.53 558.205 L1383.53 558.205  Z\n  \" fill=\"#009af9\" fill-rule=\"evenodd\" fill-opacity=\"1\"/>\n<polyline clip-path=\"url(#clip082)\" style=\"stroke:#000000; stroke-linecap:butt; stroke-linejoin:round; stroke-width:4; stroke-opacity:1; fill:none\" points=\"\n  1383.53,558.205 1383.53,1384.24 1431.79,1384.24 1431.79,558.205 1383.53,558.205 \n  \"/>\n<path clip-path=\"url(#clip082)\" d=\"\nM1431.79 794.214 L1431.79 1384.24 L1480.05 1384.24 L1480.05 794.214 L1431.79 794.214 L1431.79 794.214  Z\n  \" fill=\"#009af9\" fill-rule=\"evenodd\" fill-opacity=\"1\"/>\n<polyline clip-path=\"url(#clip082)\" style=\"stroke:#000000; stroke-linecap:butt; stroke-linejoin:round; stroke-width:4; stroke-opacity:1; fill:none\" points=\"\n  1431.79,794.214 1431.79,1384.24 1480.05,1384.24 1480.05,794.214 1431.79,794.214 \n  \"/>\n<path clip-path=\"url(#clip082)\" d=\"\nM1480.05 558.205 L1480.05 1384.24 L1528.31 1384.24 L1528.31 558.205 L1480.05 558.205 L1480.05 558.205  Z\n  \" fill=\"#009af9\" fill-rule=\"evenodd\" fill-opacity=\"1\"/>\n<polyline clip-path=\"url(#clip082)\" style=\"stroke:#000000; stroke-linecap:butt; stroke-linejoin:round; stroke-width:4; stroke-opacity:1; fill:none\" points=\"\n  1480.05,558.205 1480.05,1384.24 1528.31,1384.24 1528.31,558.205 1480.05,558.205 \n  \"/>\n<path clip-path=\"url(#clip082)\" d=\"\nM1528.31 794.214 L1528.31 1384.24 L1576.57 1384.24 L1576.57 794.214 L1528.31 794.214 L1528.31 794.214  Z\n  \" fill=\"#009af9\" fill-rule=\"evenodd\" fill-opacity=\"1\"/>\n<polyline clip-path=\"url(#clip082)\" style=\"stroke:#000000; stroke-linecap:butt; stroke-linejoin:round; stroke-width:4; stroke-opacity:1; fill:none\" points=\"\n  1528.31,794.214 1528.31,1384.24 1576.57,1384.24 1576.57,794.214 1528.31,794.214 \n  \"/>\n<path clip-path=\"url(#clip082)\" d=\"\nM1576.57 794.214 L1576.57 1384.24 L1624.83 1384.24 L1624.83 794.214 L1576.57 794.214 L1576.57 794.214  Z\n  \" fill=\"#009af9\" fill-rule=\"evenodd\" fill-opacity=\"1\"/>\n<polyline clip-path=\"url(#clip082)\" style=\"stroke:#000000; stroke-linecap:butt; stroke-linejoin:round; stroke-width:4; stroke-opacity:1; fill:none\" points=\"\n  1576.57,794.214 1576.57,1384.24 1624.83,1384.24 1624.83,794.214 1576.57,794.214 \n  \"/>\n<path clip-path=\"url(#clip082)\" d=\"\nM1624.83 794.214 L1624.83 1384.24 L1673.09 1384.24 L1673.09 794.214 L1624.83 794.214 L1624.83 794.214  Z\n  \" fill=\"#009af9\" fill-rule=\"evenodd\" fill-opacity=\"1\"/>\n<polyline clip-path=\"url(#clip082)\" style=\"stroke:#000000; stroke-linecap:butt; stroke-linejoin:round; stroke-width:4; stroke-opacity:1; fill:none\" points=\"\n  1624.83,794.214 1624.83,1384.24 1673.09,1384.24 1673.09,794.214 1624.83,794.214 \n  \"/>\n<path clip-path=\"url(#clip082)\" d=\"\nM1673.09 676.21 L1673.09 1384.24 L1721.34 1384.24 L1721.34 676.21 L1673.09 676.21 L1673.09 676.21  Z\n  \" fill=\"#009af9\" fill-rule=\"evenodd\" fill-opacity=\"1\"/>\n<polyline clip-path=\"url(#clip082)\" style=\"stroke:#000000; stroke-linecap:butt; stroke-linejoin:round; stroke-width:4; stroke-opacity:1; fill:none\" points=\"\n  1673.09,676.21 1673.09,1384.24 1721.34,1384.24 1721.34,676.21 1673.09,676.21 \n  \"/>\n<path clip-path=\"url(#clip082)\" d=\"\nM1721.34 86.1857 L1721.34 1384.24 L1769.6 1384.24 L1769.6 86.1857 L1721.34 86.1857 L1721.34 86.1857  Z\n  \" fill=\"#009af9\" fill-rule=\"evenodd\" fill-opacity=\"1\"/>\n<polyline clip-path=\"url(#clip082)\" style=\"stroke:#000000; stroke-linecap:butt; stroke-linejoin:round; stroke-width:4; stroke-opacity:1; fill:none\" points=\"\n  1721.34,86.1857 1721.34,1384.24 1769.6,1384.24 1769.6,86.1857 1721.34,86.1857 \n  \"/>\n<path clip-path=\"url(#clip082)\" d=\"\nM1769.6 794.214 L1769.6 1384.24 L1817.86 1384.24 L1817.86 794.214 L1769.6 794.214 L1769.6 794.214  Z\n  \" fill=\"#009af9\" fill-rule=\"evenodd\" fill-opacity=\"1\"/>\n<polyline clip-path=\"url(#clip082)\" style=\"stroke:#000000; stroke-linecap:butt; stroke-linejoin:round; stroke-width:4; stroke-opacity:1; fill:none\" points=\"\n  1769.6,794.214 1769.6,1384.24 1817.86,1384.24 1817.86,794.214 1769.6,794.214 \n  \"/>\n<path clip-path=\"url(#clip082)\" d=\"\nM1817.86 912.219 L1817.86 1384.24 L1866.12 1384.24 L1866.12 912.219 L1817.86 912.219 L1817.86 912.219  Z\n  \" fill=\"#009af9\" fill-rule=\"evenodd\" fill-opacity=\"1\"/>\n<polyline clip-path=\"url(#clip082)\" style=\"stroke:#000000; stroke-linecap:butt; stroke-linejoin:round; stroke-width:4; stroke-opacity:1; fill:none\" points=\"\n  1817.86,912.219 1817.86,1384.24 1866.12,1384.24 1866.12,912.219 1817.86,912.219 \n  \"/>\n<path clip-path=\"url(#clip082)\" d=\"\nM1866.12 794.214 L1866.12 1384.24 L1914.38 1384.24 L1914.38 794.214 L1866.12 794.214 L1866.12 794.214  Z\n  \" fill=\"#009af9\" fill-rule=\"evenodd\" fill-opacity=\"1\"/>\n<polyline clip-path=\"url(#clip082)\" style=\"stroke:#000000; stroke-linecap:butt; stroke-linejoin:round; stroke-width:4; stroke-opacity:1; fill:none\" points=\"\n  1866.12,794.214 1866.12,1384.24 1914.38,1384.24 1914.38,794.214 1866.12,794.214 \n  \"/>\n<path clip-path=\"url(#clip082)\" d=\"\nM1914.38 558.205 L1914.38 1384.24 L1962.64 1384.24 L1962.64 558.205 L1914.38 558.205 L1914.38 558.205  Z\n  \" fill=\"#009af9\" fill-rule=\"evenodd\" fill-opacity=\"1\"/>\n<polyline clip-path=\"url(#clip082)\" style=\"stroke:#000000; stroke-linecap:butt; stroke-linejoin:round; stroke-width:4; stroke-opacity:1; fill:none\" points=\"\n  1914.38,558.205 1914.38,1384.24 1962.64,1384.24 1962.64,558.205 1914.38,558.205 \n  \"/>\n<path clip-path=\"url(#clip082)\" d=\"\nM1962.64 912.219 L1962.64 1384.24 L2010.9 1384.24 L2010.9 912.219 L1962.64 912.219 L1962.64 912.219  Z\n  \" fill=\"#009af9\" fill-rule=\"evenodd\" fill-opacity=\"1\"/>\n<polyline clip-path=\"url(#clip082)\" style=\"stroke:#000000; stroke-linecap:butt; stroke-linejoin:round; stroke-width:4; stroke-opacity:1; fill:none\" points=\"\n  1962.64,912.219 1962.64,1384.24 2010.9,1384.24 2010.9,912.219 1962.64,912.219 \n  \"/>\n<path clip-path=\"url(#clip082)\" d=\"\nM2010.9 794.214 L2010.9 1384.24 L2059.16 1384.24 L2059.16 794.214 L2010.9 794.214 L2010.9 794.214  Z\n  \" fill=\"#009af9\" fill-rule=\"evenodd\" fill-opacity=\"1\"/>\n<polyline clip-path=\"url(#clip082)\" style=\"stroke:#000000; stroke-linecap:butt; stroke-linejoin:round; stroke-width:4; stroke-opacity:1; fill:none\" points=\"\n  2010.9,794.214 2010.9,1384.24 2059.16,1384.24 2059.16,794.214 2010.9,794.214 \n  \"/>\n<path clip-path=\"url(#clip082)\" d=\"\nM2059.16 1030.22 L2059.16 1384.24 L2107.41 1384.24 L2107.41 1030.22 L2059.16 1030.22 L2059.16 1030.22  Z\n  \" fill=\"#009af9\" fill-rule=\"evenodd\" fill-opacity=\"1\"/>\n<polyline clip-path=\"url(#clip082)\" style=\"stroke:#000000; stroke-linecap:butt; stroke-linejoin:round; stroke-width:4; stroke-opacity:1; fill:none\" points=\"\n  2059.16,1030.22 2059.16,1384.24 2107.41,1384.24 2107.41,1030.22 2059.16,1030.22 \n  \"/>\n<path clip-path=\"url(#clip082)\" d=\"\nM2107.41 676.21 L2107.41 1384.24 L2155.67 1384.24 L2155.67 676.21 L2107.41 676.21 L2107.41 676.21  Z\n  \" fill=\"#009af9\" fill-rule=\"evenodd\" fill-opacity=\"1\"/>\n<polyline clip-path=\"url(#clip082)\" style=\"stroke:#000000; stroke-linecap:butt; stroke-linejoin:round; stroke-width:4; stroke-opacity:1; fill:none\" points=\"\n  2107.41,676.21 2107.41,1384.24 2155.67,1384.24 2155.67,676.21 2107.41,676.21 \n  \"/>\n<path clip-path=\"url(#clip082)\" d=\"\nM2155.67 912.219 L2155.67 1384.24 L2203.93 1384.24 L2203.93 912.219 L2155.67 912.219 L2155.67 912.219  Z\n  \" fill=\"#009af9\" fill-rule=\"evenodd\" fill-opacity=\"1\"/>\n<polyline clip-path=\"url(#clip082)\" style=\"stroke:#000000; stroke-linecap:butt; stroke-linejoin:round; stroke-width:4; stroke-opacity:1; fill:none\" points=\"\n  2155.67,912.219 2155.67,1384.24 2203.93,1384.24 2203.93,912.219 2155.67,912.219 \n  \"/>\n<path clip-path=\"url(#clip082)\" d=\"\nM2203.93 794.214 L2203.93 1384.24 L2252.19 1384.24 L2252.19 794.214 L2203.93 794.214 L2203.93 794.214  Z\n  \" fill=\"#009af9\" fill-rule=\"evenodd\" fill-opacity=\"1\"/>\n<polyline clip-path=\"url(#clip082)\" style=\"stroke:#000000; stroke-linecap:butt; stroke-linejoin:round; stroke-width:4; stroke-opacity:1; fill:none\" points=\"\n  2203.93,794.214 2203.93,1384.24 2252.19,1384.24 2252.19,794.214 2203.93,794.214 \n  \"/>\n<path clip-path=\"url(#clip082)\" d=\"\nM2252.19 912.219 L2252.19 1384.24 L2300.45 1384.24 L2300.45 912.219 L2252.19 912.219 L2252.19 912.219  Z\n  \" fill=\"#009af9\" fill-rule=\"evenodd\" fill-opacity=\"1\"/>\n<polyline clip-path=\"url(#clip082)\" style=\"stroke:#000000; stroke-linecap:butt; stroke-linejoin:round; stroke-width:4; stroke-opacity:1; fill:none\" points=\"\n  2252.19,912.219 2252.19,1384.24 2300.45,1384.24 2300.45,912.219 2252.19,912.219 \n  \"/>\n<path clip-path=\"url(#clip082)\" d=\"\nM2300.45 1148.23 L2300.45 1384.24 L2348.71 1384.24 L2348.71 1148.23 L2300.45 1148.23 L2300.45 1148.23  Z\n  \" fill=\"#009af9\" fill-rule=\"evenodd\" fill-opacity=\"1\"/>\n<polyline clip-path=\"url(#clip082)\" style=\"stroke:#000000; stroke-linecap:butt; stroke-linejoin:round; stroke-width:4; stroke-opacity:1; fill:none\" points=\"\n  2300.45,1148.23 2300.45,1384.24 2348.71,1384.24 2348.71,1148.23 2300.45,1148.23 \n  \"/>\n<path clip-path=\"url(#clip082)\" d=\"\nM2348.71 1030.22 L2348.71 1384.24 L2396.97 1384.24 L2396.97 1030.22 L2348.71 1030.22 L2348.71 1030.22  Z\n  \" fill=\"#009af9\" fill-rule=\"evenodd\" fill-opacity=\"1\"/>\n<polyline clip-path=\"url(#clip082)\" style=\"stroke:#000000; stroke-linecap:butt; stroke-linejoin:round; stroke-width:4; stroke-opacity:1; fill:none\" points=\"\n  2348.71,1030.22 2348.71,1384.24 2396.97,1384.24 2396.97,1030.22 2348.71,1030.22 \n  \"/>\n<path clip-path=\"url(#clip082)\" d=\"\nM2396.97 1266.23 L2396.97 1384.24 L2445.23 1384.24 L2445.23 1266.23 L2396.97 1266.23 L2396.97 1266.23  Z\n  \" fill=\"#009af9\" fill-rule=\"evenodd\" fill-opacity=\"1\"/>\n<polyline clip-path=\"url(#clip082)\" style=\"stroke:#000000; stroke-linecap:butt; stroke-linejoin:round; stroke-width:4; stroke-opacity:1; fill:none\" points=\"\n  2396.97,1266.23 2396.97,1384.24 2445.23,1384.24 2445.23,1266.23 2396.97,1266.23 \n  \"/>\n<path clip-path=\"url(#clip082)\" d=\"\nM2445.23 1384.24 L2445.23 1384.24 L2493.48 1384.24 L2493.48 1384.24 L2445.23 1384.24 L2445.23 1384.24  Z\n  \" fill=\"#009af9\" fill-rule=\"evenodd\" fill-opacity=\"1\"/>\n<polyline clip-path=\"url(#clip082)\" style=\"stroke:#000000; stroke-linecap:butt; stroke-linejoin:round; stroke-width:4; stroke-opacity:1; fill:none\" points=\"\n  2445.23,1384.24 2445.23,1384.24 2493.48,1384.24 2445.23,1384.24 \n  \"/>\n<path clip-path=\"url(#clip082)\" d=\"\nM2493.48 912.219 L2493.48 1384.24 L2541.74 1384.24 L2541.74 912.219 L2493.48 912.219 L2493.48 912.219  Z\n  \" fill=\"#009af9\" fill-rule=\"evenodd\" fill-opacity=\"1\"/>\n<polyline clip-path=\"url(#clip082)\" style=\"stroke:#000000; stroke-linecap:butt; stroke-linejoin:round; stroke-width:4; stroke-opacity:1; fill:none\" points=\"\n  2493.48,912.219 2493.48,1384.24 2541.74,1384.24 2541.74,912.219 2493.48,912.219 \n  \"/>\n<path clip-path=\"url(#clip082)\" d=\"\nM2541.74 1148.23 L2541.74 1384.24 L2590 1384.24 L2590 1148.23 L2541.74 1148.23 L2541.74 1148.23  Z\n  \" fill=\"#009af9\" fill-rule=\"evenodd\" fill-opacity=\"1\"/>\n<polyline clip-path=\"url(#clip082)\" style=\"stroke:#000000; stroke-linecap:butt; stroke-linejoin:round; stroke-width:4; stroke-opacity:1; fill:none\" points=\"\n  2541.74,1148.23 2541.74,1384.24 2590,1384.24 2590,1148.23 2541.74,1148.23 \n  \"/>\n<path clip-path=\"url(#clip082)\" d=\"\nM2590 1148.23 L2590 1384.24 L2638.26 1384.24 L2638.26 1148.23 L2590 1148.23 L2590 1148.23  Z\n  \" fill=\"#009af9\" fill-rule=\"evenodd\" fill-opacity=\"1\"/>\n<polyline clip-path=\"url(#clip082)\" style=\"stroke:#000000; stroke-linecap:butt; stroke-linejoin:round; stroke-width:4; stroke-opacity:1; fill:none\" points=\"\n  2590,1148.23 2590,1384.24 2638.26,1384.24 2638.26,1148.23 2590,1148.23 \n  \"/>\n<path clip-path=\"url(#clip082)\" d=\"\nM2638.26 1030.22 L2638.26 1384.24 L2686.52 1384.24 L2686.52 1030.22 L2638.26 1030.22 L2638.26 1030.22  Z\n  \" fill=\"#009af9\" fill-rule=\"evenodd\" fill-opacity=\"1\"/>\n<polyline clip-path=\"url(#clip082)\" style=\"stroke:#000000; stroke-linecap:butt; stroke-linejoin:round; stroke-width:4; stroke-opacity:1; fill:none\" points=\"\n  2638.26,1030.22 2638.26,1384.24 2686.52,1384.24 2686.52,1030.22 2638.26,1030.22 \n  \"/>\n<path clip-path=\"url(#clip082)\" d=\"\nM2686.52 1148.23 L2686.52 1384.24 L2734.78 1384.24 L2734.78 1148.23 L2686.52 1148.23 L2686.52 1148.23  Z\n  \" fill=\"#009af9\" fill-rule=\"evenodd\" fill-opacity=\"1\"/>\n<polyline clip-path=\"url(#clip082)\" style=\"stroke:#000000; stroke-linecap:butt; stroke-linejoin:round; stroke-width:4; stroke-opacity:1; fill:none\" points=\"\n  2686.52,1148.23 2686.52,1384.24 2734.78,1384.24 2734.78,1148.23 2686.52,1148.23 \n  \"/>\n<path clip-path=\"url(#clip082)\" d=\"\nM2734.78 1030.22 L2734.78 1384.24 L2783.04 1384.24 L2783.04 1030.22 L2734.78 1030.22 L2734.78 1030.22  Z\n  \" fill=\"#009af9\" fill-rule=\"evenodd\" fill-opacity=\"1\"/>\n<polyline clip-path=\"url(#clip082)\" style=\"stroke:#000000; stroke-linecap:butt; stroke-linejoin:round; stroke-width:4; stroke-opacity:1; fill:none\" points=\"\n  2734.78,1030.22 2734.78,1384.24 2783.04,1384.24 2783.04,1030.22 2734.78,1030.22 \n  \"/>\n<path clip-path=\"url(#clip082)\" d=\"\nM2783.04 1384.24 L2783.04 1384.24 L2831.3 1384.24 L2831.3 1384.24 L2783.04 1384.24 L2783.04 1384.24  Z\n  \" fill=\"#009af9\" fill-rule=\"evenodd\" fill-opacity=\"1\"/>\n<polyline clip-path=\"url(#clip082)\" style=\"stroke:#000000; stroke-linecap:butt; stroke-linejoin:round; stroke-width:4; stroke-opacity:1; fill:none\" points=\"\n  2783.04,1384.24 2783.04,1384.24 2831.3,1384.24 2783.04,1384.24 \n  \"/>\n<path clip-path=\"url(#clip082)\" d=\"\nM2831.3 1148.23 L2831.3 1384.24 L2879.55 1384.24 L2879.55 1148.23 L2831.3 1148.23 L2831.3 1148.23  Z\n  \" fill=\"#009af9\" fill-rule=\"evenodd\" fill-opacity=\"1\"/>\n<polyline clip-path=\"url(#clip082)\" style=\"stroke:#000000; stroke-linecap:butt; stroke-linejoin:round; stroke-width:4; stroke-opacity:1; fill:none\" points=\"\n  2831.3,1148.23 2831.3,1384.24 2879.55,1384.24 2879.55,1148.23 2831.3,1148.23 \n  \"/>\n<path clip-path=\"url(#clip082)\" d=\"\nM2879.55 1148.23 L2879.55 1384.24 L2927.81 1384.24 L2927.81 1148.23 L2879.55 1148.23 L2879.55 1148.23  Z\n  \" fill=\"#009af9\" fill-rule=\"evenodd\" fill-opacity=\"1\"/>\n<polyline clip-path=\"url(#clip082)\" style=\"stroke:#000000; stroke-linecap:butt; stroke-linejoin:round; stroke-width:4; stroke-opacity:1; fill:none\" points=\"\n  2879.55,1148.23 2879.55,1384.24 2927.81,1384.24 2927.81,1148.23 2879.55,1148.23 \n  \"/>\n<path clip-path=\"url(#clip082)\" d=\"\nM2927.81 1030.22 L2927.81 1384.24 L2976.07 1384.24 L2976.07 1030.22 L2927.81 1030.22 L2927.81 1030.22  Z\n  \" fill=\"#009af9\" fill-rule=\"evenodd\" fill-opacity=\"1\"/>\n<polyline clip-path=\"url(#clip082)\" style=\"stroke:#000000; stroke-linecap:butt; stroke-linejoin:round; stroke-width:4; stroke-opacity:1; fill:none\" points=\"\n  2927.81,1030.22 2927.81,1384.24 2976.07,1384.24 2976.07,1030.22 2927.81,1030.22 \n  \"/>\n<path clip-path=\"url(#clip082)\" d=\"\nM2976.07 1148.23 L2976.07 1384.24 L3024.33 1384.24 L3024.33 1148.23 L2976.07 1148.23 L2976.07 1148.23  Z\n  \" fill=\"#009af9\" fill-rule=\"evenodd\" fill-opacity=\"1\"/>\n<polyline clip-path=\"url(#clip082)\" style=\"stroke:#000000; stroke-linecap:butt; stroke-linejoin:round; stroke-width:4; stroke-opacity:1; fill:none\" points=\"\n  2976.07,1148.23 2976.07,1384.24 3024.33,1384.24 3024.33,1148.23 2976.07,1148.23 \n  \"/>\n<path clip-path=\"url(#clip082)\" d=\"\nM3024.33 1148.23 L3024.33 1384.24 L3072.59 1384.24 L3072.59 1148.23 L3024.33 1148.23 L3024.33 1148.23  Z\n  \" fill=\"#009af9\" fill-rule=\"evenodd\" fill-opacity=\"1\"/>\n<polyline clip-path=\"url(#clip082)\" style=\"stroke:#000000; stroke-linecap:butt; stroke-linejoin:round; stroke-width:4; stroke-opacity:1; fill:none\" points=\"\n  3024.33,1148.23 3024.33,1384.24 3072.59,1384.24 3072.59,1148.23 3024.33,1148.23 \n  \"/>\n<path clip-path=\"url(#clip082)\" d=\"\nM3072.59 1384.24 L3072.59 1384.24 L3120.85 1384.24 L3120.85 1384.24 L3072.59 1384.24 L3072.59 1384.24  Z\n  \" fill=\"#009af9\" fill-rule=\"evenodd\" fill-opacity=\"1\"/>\n<polyline clip-path=\"url(#clip082)\" style=\"stroke:#000000; stroke-linecap:butt; stroke-linejoin:round; stroke-width:4; stroke-opacity:1; fill:none\" points=\"\n  3072.59,1384.24 3072.59,1384.24 3120.85,1384.24 3072.59,1384.24 \n  \"/>\n<path clip-path=\"url(#clip082)\" d=\"\nM3120.85 1148.23 L3120.85 1384.24 L3169.11 1384.24 L3169.11 1148.23 L3120.85 1148.23 L3120.85 1148.23  Z\n  \" fill=\"#009af9\" fill-rule=\"evenodd\" fill-opacity=\"1\"/>\n<polyline clip-path=\"url(#clip082)\" style=\"stroke:#000000; stroke-linecap:butt; stroke-linejoin:round; stroke-width:4; stroke-opacity:1; fill:none\" points=\"\n  3120.85,1148.23 3120.85,1384.24 3169.11,1384.24 3169.11,1148.23 3120.85,1148.23 \n  \"/>\n<path clip-path=\"url(#clip082)\" d=\"\nM3169.11 1266.23 L3169.11 1384.24 L3217.37 1384.24 L3217.37 1266.23 L3169.11 1266.23 L3169.11 1266.23  Z\n  \" fill=\"#009af9\" fill-rule=\"evenodd\" fill-opacity=\"1\"/>\n<polyline clip-path=\"url(#clip082)\" style=\"stroke:#000000; stroke-linecap:butt; stroke-linejoin:round; stroke-width:4; stroke-opacity:1; fill:none\" points=\"\n  3169.11,1266.23 3169.11,1384.24 3217.37,1384.24 3217.37,1266.23 3169.11,1266.23 \n  \"/>\n<path clip-path=\"url(#clip082)\" d=\"\nM3217.37 1266.23 L3217.37 1384.24 L3265.62 1384.24 L3265.62 1266.23 L3217.37 1266.23 L3217.37 1266.23  Z\n  \" fill=\"#009af9\" fill-rule=\"evenodd\" fill-opacity=\"1\"/>\n<polyline clip-path=\"url(#clip082)\" style=\"stroke:#000000; stroke-linecap:butt; stroke-linejoin:round; stroke-width:4; stroke-opacity:1; fill:none\" points=\"\n  3217.37,1266.23 3217.37,1384.24 3265.62,1384.24 3265.62,1266.23 3217.37,1266.23 \n  \"/>\n<path clip-path=\"url(#clip082)\" d=\"\nM3265.62 912.219 L3265.62 1384.24 L3313.88 1384.24 L3313.88 912.219 L3265.62 912.219 L3265.62 912.219  Z\n  \" fill=\"#009af9\" fill-rule=\"evenodd\" fill-opacity=\"1\"/>\n<polyline clip-path=\"url(#clip082)\" style=\"stroke:#000000; stroke-linecap:butt; stroke-linejoin:round; stroke-width:4; stroke-opacity:1; fill:none\" points=\"\n  3265.62,912.219 3265.62,1384.24 3313.88,1384.24 3313.88,912.219 3265.62,912.219 \n  \"/>\n<path clip-path=\"url(#clip082)\" d=\"\nM3313.88 1266.23 L3313.88 1384.24 L3362.14 1384.24 L3362.14 1266.23 L3313.88 1266.23 L3313.88 1266.23  Z\n  \" fill=\"#009af9\" fill-rule=\"evenodd\" fill-opacity=\"1\"/>\n<polyline clip-path=\"url(#clip082)\" style=\"stroke:#000000; stroke-linecap:butt; stroke-linejoin:round; stroke-width:4; stroke-opacity:1; fill:none\" points=\"\n  3313.88,1266.23 3313.88,1384.24 3362.14,1384.24 3362.14,1266.23 3313.88,1266.23 \n  \"/>\n<path clip-path=\"url(#clip082)\" d=\"\nM3362.14 1148.23 L3362.14 1384.24 L3410.4 1384.24 L3410.4 1148.23 L3362.14 1148.23 L3362.14 1148.23  Z\n  \" fill=\"#009af9\" fill-rule=\"evenodd\" fill-opacity=\"1\"/>\n<polyline clip-path=\"url(#clip082)\" style=\"stroke:#000000; stroke-linecap:butt; stroke-linejoin:round; stroke-width:4; stroke-opacity:1; fill:none\" points=\"\n  3362.14,1148.23 3362.14,1384.24 3410.4,1384.24 3410.4,1148.23 3362.14,1148.23 \n  \"/>\n<path clip-path=\"url(#clip082)\" d=\"\nM3410.4 1148.23 L3410.4 1384.24 L3458.66 1384.24 L3458.66 1148.23 L3410.4 1148.23 L3410.4 1148.23  Z\n  \" fill=\"#009af9\" fill-rule=\"evenodd\" fill-opacity=\"1\"/>\n<polyline clip-path=\"url(#clip082)\" style=\"stroke:#000000; stroke-linecap:butt; stroke-linejoin:round; stroke-width:4; stroke-opacity:1; fill:none\" points=\"\n  3410.4,1148.23 3410.4,1384.24 3458.66,1384.24 3458.66,1148.23 3410.4,1148.23 \n  \"/>\n<path clip-path=\"url(#clip082)\" d=\"\nM3458.66 1148.23 L3458.66 1384.24 L3506.92 1384.24 L3506.92 1148.23 L3458.66 1148.23 L3458.66 1148.23  Z\n  \" fill=\"#009af9\" fill-rule=\"evenodd\" fill-opacity=\"1\"/>\n<polyline clip-path=\"url(#clip082)\" style=\"stroke:#000000; stroke-linecap:butt; stroke-linejoin:round; stroke-width:4; stroke-opacity:1; fill:none\" points=\"\n  3458.66,1148.23 3458.66,1384.24 3506.92,1384.24 3506.92,1148.23 3458.66,1148.23 \n  \"/>\n<path clip-path=\"url(#clip082)\" d=\"\nM3506.92 1384.24 L3506.92 1384.24 L3555.18 1384.24 L3555.18 1384.24 L3506.92 1384.24 L3506.92 1384.24  Z\n  \" fill=\"#009af9\" fill-rule=\"evenodd\" fill-opacity=\"1\"/>\n<polyline clip-path=\"url(#clip082)\" style=\"stroke:#000000; stroke-linecap:butt; stroke-linejoin:round; stroke-width:4; stroke-opacity:1; fill:none\" points=\"\n  3506.92,1384.24 3506.92,1384.24 3555.18,1384.24 3506.92,1384.24 \n  \"/>\n<path clip-path=\"url(#clip082)\" d=\"\nM3555.18 1384.24 L3555.18 1384.24 L3603.44 1384.24 L3603.44 1384.24 L3555.18 1384.24 L3555.18 1384.24  Z\n  \" fill=\"#009af9\" fill-rule=\"evenodd\" fill-opacity=\"1\"/>\n<polyline clip-path=\"url(#clip082)\" style=\"stroke:#000000; stroke-linecap:butt; stroke-linejoin:round; stroke-width:4; stroke-opacity:1; fill:none\" points=\"\n  3555.18,1384.24 3555.18,1384.24 3603.44,1384.24 3555.18,1384.24 \n  \"/>\n<path clip-path=\"url(#clip082)\" d=\"\nM3603.44 1030.22 L3603.44 1384.24 L3651.69 1384.24 L3651.69 1030.22 L3603.44 1030.22 L3603.44 1030.22  Z\n  \" fill=\"#009af9\" fill-rule=\"evenodd\" fill-opacity=\"1\"/>\n<polyline clip-path=\"url(#clip082)\" style=\"stroke:#000000; stroke-linecap:butt; stroke-linejoin:round; stroke-width:4; stroke-opacity:1; fill:none\" points=\"\n  3603.44,1030.22 3603.44,1384.24 3651.69,1384.24 3651.69,1030.22 3603.44,1030.22 \n  \"/>\n<path clip-path=\"url(#clip082)\" d=\"\nM3651.69 1384.24 L3651.69 1384.24 L3699.95 1384.24 L3699.95 1384.24 L3651.69 1384.24 L3651.69 1384.24  Z\n  \" fill=\"#009af9\" fill-rule=\"evenodd\" fill-opacity=\"1\"/>\n<polyline clip-path=\"url(#clip082)\" style=\"stroke:#000000; stroke-linecap:butt; stroke-linejoin:round; stroke-width:4; stroke-opacity:1; fill:none\" points=\"\n  3651.69,1384.24 3651.69,1384.24 3699.95,1384.24 3651.69,1384.24 \n  \"/>\n<path clip-path=\"url(#clip082)\" d=\"\nM3699.95 1384.24 L3699.95 1384.24 L3748.21 1384.24 L3748.21 1384.24 L3699.95 1384.24 L3699.95 1384.24  Z\n  \" fill=\"#009af9\" fill-rule=\"evenodd\" fill-opacity=\"1\"/>\n<polyline clip-path=\"url(#clip082)\" style=\"stroke:#000000; stroke-linecap:butt; stroke-linejoin:round; stroke-width:4; stroke-opacity:1; fill:none\" points=\"\n  3699.95,1384.24 3699.95,1384.24 3748.21,1384.24 3699.95,1384.24 \n  \"/>\n<path clip-path=\"url(#clip082)\" d=\"\nM3748.21 1266.23 L3748.21 1384.24 L3796.47 1384.24 L3796.47 1266.23 L3748.21 1266.23 L3748.21 1266.23  Z\n  \" fill=\"#009af9\" fill-rule=\"evenodd\" fill-opacity=\"1\"/>\n<polyline clip-path=\"url(#clip082)\" style=\"stroke:#000000; stroke-linecap:butt; stroke-linejoin:round; stroke-width:4; stroke-opacity:1; fill:none\" points=\"\n  3748.21,1266.23 3748.21,1384.24 3796.47,1384.24 3796.47,1266.23 3748.21,1266.23 \n  \"/>\n<path clip-path=\"url(#clip082)\" d=\"\nM3796.47 1384.24 L3796.47 1384.24 L3844.73 1384.24 L3844.73 1384.24 L3796.47 1384.24 L3796.47 1384.24  Z\n  \" fill=\"#009af9\" fill-rule=\"evenodd\" fill-opacity=\"1\"/>\n<polyline clip-path=\"url(#clip082)\" style=\"stroke:#000000; stroke-linecap:butt; stroke-linejoin:round; stroke-width:4; stroke-opacity:1; fill:none\" points=\"\n  3796.47,1384.24 3796.47,1384.24 3844.73,1384.24 3796.47,1384.24 \n  \"/>\n<path clip-path=\"url(#clip082)\" d=\"\nM3844.73 1384.24 L3844.73 1384.24 L3892.99 1384.24 L3892.99 1384.24 L3844.73 1384.24 L3844.73 1384.24  Z\n  \" fill=\"#009af9\" fill-rule=\"evenodd\" fill-opacity=\"1\"/>\n<polyline clip-path=\"url(#clip082)\" style=\"stroke:#000000; stroke-linecap:butt; stroke-linejoin:round; stroke-width:4; stroke-opacity:1; fill:none\" points=\"\n  3844.73,1384.24 3844.73,1384.24 3892.99,1384.24 3844.73,1384.24 \n  \"/>\n<path clip-path=\"url(#clip082)\" d=\"\nM3892.99 1384.24 L3892.99 1384.24 L3941.25 1384.24 L3941.25 1384.24 L3892.99 1384.24 L3892.99 1384.24  Z\n  \" fill=\"#009af9\" fill-rule=\"evenodd\" fill-opacity=\"1\"/>\n<polyline clip-path=\"url(#clip082)\" style=\"stroke:#000000; stroke-linecap:butt; stroke-linejoin:round; stroke-width:4; stroke-opacity:1; fill:none\" points=\"\n  3892.99,1384.24 3892.99,1384.24 3941.25,1384.24 3892.99,1384.24 \n  \"/>\n<path clip-path=\"url(#clip082)\" d=\"\nM3941.25 1384.24 L3941.25 1384.24 L3989.51 1384.24 L3989.51 1384.24 L3941.25 1384.24 L3941.25 1384.24  Z\n  \" fill=\"#009af9\" fill-rule=\"evenodd\" fill-opacity=\"1\"/>\n<polyline clip-path=\"url(#clip082)\" style=\"stroke:#000000; stroke-linecap:butt; stroke-linejoin:round; stroke-width:4; stroke-opacity:1; fill:none\" points=\"\n  3941.25,1384.24 3941.25,1384.24 3989.51,1384.24 3941.25,1384.24 \n  \"/>\n<path clip-path=\"url(#clip082)\" d=\"\nM3989.51 1384.24 L3989.51 1384.24 L4037.77 1384.24 L4037.77 1384.24 L3989.51 1384.24 L3989.51 1384.24  Z\n  \" fill=\"#009af9\" fill-rule=\"evenodd\" fill-opacity=\"1\"/>\n<polyline clip-path=\"url(#clip082)\" style=\"stroke:#000000; stroke-linecap:butt; stroke-linejoin:round; stroke-width:4; stroke-opacity:1; fill:none\" points=\"\n  3989.51,1384.24 3989.51,1384.24 4037.77,1384.24 3989.51,1384.24 \n  \"/>\n<path clip-path=\"url(#clip082)\" d=\"\nM4037.77 1384.24 L4037.77 1384.24 L4086.02 1384.24 L4086.02 1384.24 L4037.77 1384.24 L4037.77 1384.24  Z\n  \" fill=\"#009af9\" fill-rule=\"evenodd\" fill-opacity=\"1\"/>\n<polyline clip-path=\"url(#clip082)\" style=\"stroke:#000000; stroke-linecap:butt; stroke-linejoin:round; stroke-width:4; stroke-opacity:1; fill:none\" points=\"\n  4037.77,1384.24 4037.77,1384.24 4086.02,1384.24 4037.77,1384.24 \n  \"/>\n<path clip-path=\"url(#clip082)\" d=\"\nM4086.02 1384.24 L4086.02 1384.24 L4134.28 1384.24 L4134.28 1384.24 L4086.02 1384.24 L4086.02 1384.24  Z\n  \" fill=\"#009af9\" fill-rule=\"evenodd\" fill-opacity=\"1\"/>\n<polyline clip-path=\"url(#clip082)\" style=\"stroke:#000000; stroke-linecap:butt; stroke-linejoin:round; stroke-width:4; stroke-opacity:1; fill:none\" points=\"\n  4086.02,1384.24 4086.02,1384.24 4134.28,1384.24 4086.02,1384.24 \n  \"/>\n<path clip-path=\"url(#clip082)\" d=\"\nM4134.28 1384.24 L4134.28 1384.24 L4182.54 1384.24 L4182.54 1384.24 L4134.28 1384.24 L4134.28 1384.24  Z\n  \" fill=\"#009af9\" fill-rule=\"evenodd\" fill-opacity=\"1\"/>\n<polyline clip-path=\"url(#clip082)\" style=\"stroke:#000000; stroke-linecap:butt; stroke-linejoin:round; stroke-width:4; stroke-opacity:1; fill:none\" points=\"\n  4134.28,1384.24 4134.28,1384.24 4182.54,1384.24 4134.28,1384.24 \n  \"/>\n<path clip-path=\"url(#clip082)\" d=\"\nM4182.54 1266.23 L4182.54 1384.24 L4230.8 1384.24 L4230.8 1266.23 L4182.54 1266.23 L4182.54 1266.23  Z\n  \" fill=\"#009af9\" fill-rule=\"evenodd\" fill-opacity=\"1\"/>\n<polyline clip-path=\"url(#clip082)\" style=\"stroke:#000000; stroke-linecap:butt; stroke-linejoin:round; stroke-width:4; stroke-opacity:1; fill:none\" points=\"\n  4182.54,1266.23 4182.54,1384.24 4230.8,1384.24 4230.8,1266.23 4182.54,1266.23 \n  \"/>\n<path clip-path=\"url(#clip082)\" d=\"\nM4230.8 1384.24 L4230.8 1384.24 L4279.06 1384.24 L4279.06 1384.24 L4230.8 1384.24 L4230.8 1384.24  Z\n  \" fill=\"#009af9\" fill-rule=\"evenodd\" fill-opacity=\"1\"/>\n<polyline clip-path=\"url(#clip082)\" style=\"stroke:#000000; stroke-linecap:butt; stroke-linejoin:round; stroke-width:4; stroke-opacity:1; fill:none\" points=\"\n  4230.8,1384.24 4230.8,1384.24 4279.06,1384.24 4230.8,1384.24 \n  \"/>\n<path clip-path=\"url(#clip082)\" d=\"\nM4279.06 1148.23 L4279.06 1384.24 L4327.32 1384.24 L4327.32 1148.23 L4279.06 1148.23 L4279.06 1148.23  Z\n  \" fill=\"#009af9\" fill-rule=\"evenodd\" fill-opacity=\"1\"/>\n<polyline clip-path=\"url(#clip082)\" style=\"stroke:#000000; stroke-linecap:butt; stroke-linejoin:round; stroke-width:4; stroke-opacity:1; fill:none\" points=\"\n  4279.06,1148.23 4279.06,1384.24 4327.32,1384.24 4327.32,1148.23 4279.06,1148.23 \n  \"/>\n<path clip-path=\"url(#clip082)\" d=\"\nM4327.32 1384.24 L4327.32 1384.24 L4375.58 1384.24 L4375.58 1384.24 L4327.32 1384.24 L4327.32 1384.24  Z\n  \" fill=\"#009af9\" fill-rule=\"evenodd\" fill-opacity=\"1\"/>\n<polyline clip-path=\"url(#clip082)\" style=\"stroke:#000000; stroke-linecap:butt; stroke-linejoin:round; stroke-width:4; stroke-opacity:1; fill:none\" points=\"\n  4327.32,1384.24 4327.32,1384.24 4375.58,1384.24 4327.32,1384.24 \n  \"/>\n<path clip-path=\"url(#clip082)\" d=\"\nM4375.58 1266.23 L4375.58 1384.24 L4423.84 1384.24 L4423.84 1266.23 L4375.58 1266.23 L4375.58 1266.23  Z\n  \" fill=\"#009af9\" fill-rule=\"evenodd\" fill-opacity=\"1\"/>\n<polyline clip-path=\"url(#clip082)\" style=\"stroke:#000000; stroke-linecap:butt; stroke-linejoin:round; stroke-width:4; stroke-opacity:1; fill:none\" points=\"\n  4375.58,1266.23 4375.58,1384.24 4423.84,1384.24 4423.84,1266.23 4375.58,1266.23 \n  \"/>\n<path clip-path=\"url(#clip082)\" d=\"\nM4423.84 1384.24 L4423.84 1384.24 L4472.09 1384.24 L4472.09 1384.24 L4423.84 1384.24 L4423.84 1384.24  Z\n  \" fill=\"#009af9\" fill-rule=\"evenodd\" fill-opacity=\"1\"/>\n<polyline clip-path=\"url(#clip082)\" style=\"stroke:#000000; stroke-linecap:butt; stroke-linejoin:round; stroke-width:4; stroke-opacity:1; fill:none\" points=\"\n  4423.84,1384.24 4423.84,1384.24 4472.09,1384.24 4423.84,1384.24 \n  \"/>\n<path clip-path=\"url(#clip082)\" d=\"\nM4472.09 1384.24 L4472.09 1384.24 L4520.35 1384.24 L4520.35 1384.24 L4472.09 1384.24 L4472.09 1384.24  Z\n  \" fill=\"#009af9\" fill-rule=\"evenodd\" fill-opacity=\"1\"/>\n<polyline clip-path=\"url(#clip082)\" style=\"stroke:#000000; stroke-linecap:butt; stroke-linejoin:round; stroke-width:4; stroke-opacity:1; fill:none\" points=\"\n  4472.09,1384.24 4472.09,1384.24 4520.35,1384.24 4472.09,1384.24 \n  \"/>\n<path clip-path=\"url(#clip082)\" d=\"\nM4520.35 1384.24 L4520.35 1384.24 L4568.61 1384.24 L4568.61 1384.24 L4520.35 1384.24 L4520.35 1384.24  Z\n  \" fill=\"#009af9\" fill-rule=\"evenodd\" fill-opacity=\"1\"/>\n<polyline clip-path=\"url(#clip082)\" style=\"stroke:#000000; stroke-linecap:butt; stroke-linejoin:round; stroke-width:4; stroke-opacity:1; fill:none\" points=\"\n  4520.35,1384.24 4520.35,1384.24 4568.61,1384.24 4520.35,1384.24 \n  \"/>\n<path clip-path=\"url(#clip082)\" d=\"\nM4568.61 1266.23 L4568.61 1384.24 L4616.87 1384.24 L4616.87 1266.23 L4568.61 1266.23 L4568.61 1266.23  Z\n  \" fill=\"#009af9\" fill-rule=\"evenodd\" fill-opacity=\"1\"/>\n<polyline clip-path=\"url(#clip082)\" style=\"stroke:#000000; stroke-linecap:butt; stroke-linejoin:round; stroke-width:4; stroke-opacity:1; fill:none\" points=\"\n  4568.61,1266.23 4568.61,1384.24 4616.87,1384.24 4616.87,1266.23 4568.61,1266.23 \n  \"/>\n<path clip-path=\"url(#clip082)\" d=\"\nM4616.87 1384.24 L4616.87 1384.24 L4665.13 1384.24 L4665.13 1384.24 L4616.87 1384.24 L4616.87 1384.24  Z\n  \" fill=\"#009af9\" fill-rule=\"evenodd\" fill-opacity=\"1\"/>\n<polyline clip-path=\"url(#clip082)\" style=\"stroke:#000000; stroke-linecap:butt; stroke-linejoin:round; stroke-width:4; stroke-opacity:1; fill:none\" points=\"\n  4616.87,1384.24 4616.87,1384.24 4665.13,1384.24 4616.87,1384.24 \n  \"/>\n<path clip-path=\"url(#clip082)\" d=\"\nM4665.13 1384.24 L4665.13 1384.24 L4713.39 1384.24 L4713.39 1384.24 L4665.13 1384.24 L4665.13 1384.24  Z\n  \" fill=\"#009af9\" fill-rule=\"evenodd\" fill-opacity=\"1\"/>\n<polyline clip-path=\"url(#clip082)\" style=\"stroke:#000000; stroke-linecap:butt; stroke-linejoin:round; stroke-width:4; stroke-opacity:1; fill:none\" points=\"\n  4665.13,1384.24 4665.13,1384.24 4713.39,1384.24 4665.13,1384.24 \n  \"/>\n<path clip-path=\"url(#clip082)\" d=\"\nM4713.39 1384.24 L4713.39 1384.24 L4761.65 1384.24 L4761.65 1384.24 L4713.39 1384.24 L4713.39 1384.24  Z\n  \" fill=\"#009af9\" fill-rule=\"evenodd\" fill-opacity=\"1\"/>\n<polyline clip-path=\"url(#clip082)\" style=\"stroke:#000000; stroke-linecap:butt; stroke-linejoin:round; stroke-width:4; stroke-opacity:1; fill:none\" points=\"\n  4713.39,1384.24 4713.39,1384.24 4761.65,1384.24 4713.39,1384.24 \n  \"/>\n<path clip-path=\"url(#clip082)\" d=\"\nM4761.65 1266.23 L4761.65 1384.24 L4809.91 1384.24 L4809.91 1266.23 L4761.65 1266.23 L4761.65 1266.23  Z\n  \" fill=\"#009af9\" fill-rule=\"evenodd\" fill-opacity=\"1\"/>\n<polyline clip-path=\"url(#clip082)\" style=\"stroke:#000000; stroke-linecap:butt; stroke-linejoin:round; stroke-width:4; stroke-opacity:1; fill:none\" points=\"\n  4761.65,1266.23 4761.65,1384.24 4809.91,1384.24 4809.91,1266.23 4761.65,1266.23 \n  \"/>\n<path clip-path=\"url(#clip082)\" d=\"\nM4809.91 1384.24 L4809.91 1384.24 L4858.16 1384.24 L4858.16 1384.24 L4809.91 1384.24 L4809.91 1384.24  Z\n  \" fill=\"#009af9\" fill-rule=\"evenodd\" fill-opacity=\"1\"/>\n<polyline clip-path=\"url(#clip082)\" style=\"stroke:#000000; stroke-linecap:butt; stroke-linejoin:round; stroke-width:4; stroke-opacity:1; fill:none\" points=\"\n  4809.91,1384.24 4809.91,1384.24 4858.16,1384.24 4809.91,1384.24 \n  \"/>\n<path clip-path=\"url(#clip082)\" d=\"\nM4858.16 1384.24 L4858.16 1384.24 L4906.42 1384.24 L4906.42 1384.24 L4858.16 1384.24 L4858.16 1384.24  Z\n  \" fill=\"#009af9\" fill-rule=\"evenodd\" fill-opacity=\"1\"/>\n<polyline clip-path=\"url(#clip082)\" style=\"stroke:#000000; stroke-linecap:butt; stroke-linejoin:round; stroke-width:4; stroke-opacity:1; fill:none\" points=\"\n  4858.16,1384.24 4858.16,1384.24 4906.42,1384.24 4858.16,1384.24 \n  \"/>\n<path clip-path=\"url(#clip082)\" d=\"\nM4906.42 1266.23 L4906.42 1384.24 L4954.68 1384.24 L4954.68 1266.23 L4906.42 1266.23 L4906.42 1266.23  Z\n  \" fill=\"#009af9\" fill-rule=\"evenodd\" fill-opacity=\"1\"/>\n<polyline clip-path=\"url(#clip082)\" style=\"stroke:#000000; stroke-linecap:butt; stroke-linejoin:round; stroke-width:4; stroke-opacity:1; fill:none\" points=\"\n  4906.42,1266.23 4906.42,1384.24 4954.68,1384.24 4954.68,1266.23 4906.42,1266.23 \n  \"/>\n<path clip-path=\"url(#clip082)\" d=\"\nM4954.68 1384.24 L4954.68 1384.24 L5002.94 1384.24 L5002.94 1384.24 L4954.68 1384.24 L4954.68 1384.24  Z\n  \" fill=\"#009af9\" fill-rule=\"evenodd\" fill-opacity=\"1\"/>\n<polyline clip-path=\"url(#clip082)\" style=\"stroke:#000000; stroke-linecap:butt; stroke-linejoin:round; stroke-width:4; stroke-opacity:1; fill:none\" points=\"\n  4954.68,1384.24 4954.68,1384.24 5002.94,1384.24 4954.68,1384.24 \n  \"/>\n<path clip-path=\"url(#clip082)\" d=\"\nM5002.94 1266.23 L5002.94 1384.24 L5051.2 1384.24 L5051.2 1266.23 L5002.94 1266.23 L5002.94 1266.23  Z\n  \" fill=\"#009af9\" fill-rule=\"evenodd\" fill-opacity=\"1\"/>\n<polyline clip-path=\"url(#clip082)\" style=\"stroke:#000000; stroke-linecap:butt; stroke-linejoin:round; stroke-width:4; stroke-opacity:1; fill:none\" points=\"\n  5002.94,1266.23 5002.94,1384.24 5051.2,1384.24 5051.2,1266.23 5002.94,1266.23 \n  \"/>\n<path clip-path=\"url(#clip082)\" d=\"\nM5051.2 1384.24 L5051.2 1384.24 L5099.46 1384.24 L5099.46 1384.24 L5051.2 1384.24 L5051.2 1384.24  Z\n  \" fill=\"#009af9\" fill-rule=\"evenodd\" fill-opacity=\"1\"/>\n<polyline clip-path=\"url(#clip082)\" style=\"stroke:#000000; stroke-linecap:butt; stroke-linejoin:round; stroke-width:4; stroke-opacity:1; fill:none\" points=\"\n  5051.2,1384.24 5051.2,1384.24 5099.46,1384.24 5051.2,1384.24 \n  \"/>\n<path clip-path=\"url(#clip082)\" d=\"\nM5099.46 1266.23 L5099.46 1384.24 L5147.72 1384.24 L5147.72 1266.23 L5099.46 1266.23 L5099.46 1266.23  Z\n  \" fill=\"#009af9\" fill-rule=\"evenodd\" fill-opacity=\"1\"/>\n<polyline clip-path=\"url(#clip082)\" style=\"stroke:#000000; stroke-linecap:butt; stroke-linejoin:round; stroke-width:4; stroke-opacity:1; fill:none\" points=\"\n  5099.46,1266.23 5099.46,1384.24 5147.72,1384.24 5147.72,1266.23 5099.46,1266.23 \n  \"/>\n<path clip-path=\"url(#clip082)\" d=\"\nM5147.72 1384.24 L5147.72 1384.24 L5195.98 1384.24 L5195.98 1384.24 L5147.72 1384.24 L5147.72 1384.24  Z\n  \" fill=\"#009af9\" fill-rule=\"evenodd\" fill-opacity=\"1\"/>\n<polyline clip-path=\"url(#clip082)\" style=\"stroke:#000000; stroke-linecap:butt; stroke-linejoin:round; stroke-width:4; stroke-opacity:1; fill:none\" points=\"\n  5147.72,1384.24 5147.72,1384.24 5195.98,1384.24 5147.72,1384.24 \n  \"/>\n<path clip-path=\"url(#clip082)\" d=\"\nM5195.98 1384.24 L5195.98 1384.24 L5244.23 1384.24 L5244.23 1384.24 L5195.98 1384.24 L5195.98 1384.24  Z\n  \" fill=\"#009af9\" fill-rule=\"evenodd\" fill-opacity=\"1\"/>\n<polyline clip-path=\"url(#clip082)\" style=\"stroke:#000000; stroke-linecap:butt; stroke-linejoin:round; stroke-width:4; stroke-opacity:1; fill:none\" points=\"\n  5195.98,1384.24 5195.98,1384.24 5244.23,1384.24 5195.98,1384.24 \n  \"/>\n<path clip-path=\"url(#clip082)\" d=\"\nM5244.23 1266.23 L5244.23 1384.24 L5292.49 1384.24 L5292.49 1266.23 L5244.23 1266.23 L5244.23 1266.23  Z\n  \" fill=\"#009af9\" fill-rule=\"evenodd\" fill-opacity=\"1\"/>\n<polyline clip-path=\"url(#clip082)\" style=\"stroke:#000000; stroke-linecap:butt; stroke-linejoin:round; stroke-width:4; stroke-opacity:1; fill:none\" points=\"\n  5244.23,1266.23 5244.23,1384.24 5292.49,1384.24 5292.49,1266.23 5244.23,1266.23 \n  \"/>\n<path clip-path=\"url(#clip082)\" d=\"\nM5292.49 1384.24 L5292.49 1384.24 L5340.75 1384.24 L5340.75 1384.24 L5292.49 1384.24 L5292.49 1384.24  Z\n  \" fill=\"#009af9\" fill-rule=\"evenodd\" fill-opacity=\"1\"/>\n<polyline clip-path=\"url(#clip082)\" style=\"stroke:#000000; stroke-linecap:butt; stroke-linejoin:round; stroke-width:4; stroke-opacity:1; fill:none\" points=\"\n  5292.49,1384.24 5292.49,1384.24 5340.75,1384.24 5292.49,1384.24 \n  \"/>\n<path clip-path=\"url(#clip082)\" d=\"\nM5340.75 1266.23 L5340.75 1384.24 L5389.01 1384.24 L5389.01 1266.23 L5340.75 1266.23 L5340.75 1266.23  Z\n  \" fill=\"#009af9\" fill-rule=\"evenodd\" fill-opacity=\"1\"/>\n<polyline clip-path=\"url(#clip082)\" style=\"stroke:#000000; stroke-linecap:butt; stroke-linejoin:round; stroke-width:4; stroke-opacity:1; fill:none\" points=\"\n  5340.75,1266.23 5340.75,1384.24 5389.01,1384.24 5389.01,1266.23 5340.75,1266.23 \n  \"/>\n<path clip-path=\"url(#clip082)\" d=\"\nM5389.01 1384.24 L5389.01 1384.24 L5437.27 1384.24 L5437.27 1384.24 L5389.01 1384.24 L5389.01 1384.24  Z\n  \" fill=\"#009af9\" fill-rule=\"evenodd\" fill-opacity=\"1\"/>\n<polyline clip-path=\"url(#clip082)\" style=\"stroke:#000000; stroke-linecap:butt; stroke-linejoin:round; stroke-width:4; stroke-opacity:1; fill:none\" points=\"\n  5389.01,1384.24 5389.01,1384.24 5437.27,1384.24 5389.01,1384.24 \n  \"/>\n<path clip-path=\"url(#clip082)\" d=\"\nM5437.27 1384.24 L5437.27 1384.24 L5485.53 1384.24 L5485.53 1384.24 L5437.27 1384.24 L5437.27 1384.24  Z\n  \" fill=\"#009af9\" fill-rule=\"evenodd\" fill-opacity=\"1\"/>\n<polyline clip-path=\"url(#clip082)\" style=\"stroke:#000000; stroke-linecap:butt; stroke-linejoin:round; stroke-width:4; stroke-opacity:1; fill:none\" points=\"\n  5437.27,1384.24 5437.27,1384.24 5485.53,1384.24 5437.27,1384.24 \n  \"/>\n<path clip-path=\"url(#clip082)\" d=\"\nM5485.53 1384.24 L5485.53 1384.24 L5533.79 1384.24 L5533.79 1384.24 L5485.53 1384.24 L5485.53 1384.24  Z\n  \" fill=\"#009af9\" fill-rule=\"evenodd\" fill-opacity=\"1\"/>\n<polyline clip-path=\"url(#clip082)\" style=\"stroke:#000000; stroke-linecap:butt; stroke-linejoin:round; stroke-width:4; stroke-opacity:1; fill:none\" points=\"\n  5485.53,1384.24 5485.53,1384.24 5533.79,1384.24 5485.53,1384.24 \n  \"/>\n<path clip-path=\"url(#clip082)\" d=\"\nM5533.79 1384.24 L5533.79 1384.24 L5582.05 1384.24 L5582.05 1384.24 L5533.79 1384.24 L5533.79 1384.24  Z\n  \" fill=\"#009af9\" fill-rule=\"evenodd\" fill-opacity=\"1\"/>\n<polyline clip-path=\"url(#clip082)\" style=\"stroke:#000000; stroke-linecap:butt; stroke-linejoin:round; stroke-width:4; stroke-opacity:1; fill:none\" points=\"\n  5533.79,1384.24 5533.79,1384.24 5582.05,1384.24 5533.79,1384.24 \n  \"/>\n<path clip-path=\"url(#clip082)\" d=\"\nM5582.05 1384.24 L5582.05 1384.24 L5630.3 1384.24 L5630.3 1384.24 L5582.05 1384.24 L5582.05 1384.24  Z\n  \" fill=\"#009af9\" fill-rule=\"evenodd\" fill-opacity=\"1\"/>\n<polyline clip-path=\"url(#clip082)\" style=\"stroke:#000000; stroke-linecap:butt; stroke-linejoin:round; stroke-width:4; stroke-opacity:1; fill:none\" points=\"\n  5582.05,1384.24 5582.05,1384.24 5630.3,1384.24 5582.05,1384.24 \n  \"/>\n<path clip-path=\"url(#clip082)\" d=\"\nM5630.3 1384.24 L5630.3 1384.24 L5678.56 1384.24 L5678.56 1384.24 L5630.3 1384.24 L5630.3 1384.24  Z\n  \" fill=\"#009af9\" fill-rule=\"evenodd\" fill-opacity=\"1\"/>\n<polyline clip-path=\"url(#clip082)\" style=\"stroke:#000000; stroke-linecap:butt; stroke-linejoin:round; stroke-width:4; stroke-opacity:1; fill:none\" points=\"\n  5630.3,1384.24 5630.3,1384.24 5678.56,1384.24 5630.3,1384.24 \n  \"/>\n<path clip-path=\"url(#clip082)\" d=\"\nM5678.56 1266.23 L5678.56 1384.24 L5726.82 1384.24 L5726.82 1266.23 L5678.56 1266.23 L5678.56 1266.23  Z\n  \" fill=\"#009af9\" fill-rule=\"evenodd\" fill-opacity=\"1\"/>\n<polyline clip-path=\"url(#clip082)\" style=\"stroke:#000000; stroke-linecap:butt; stroke-linejoin:round; stroke-width:4; stroke-opacity:1; fill:none\" points=\"\n  5678.56,1266.23 5678.56,1384.24 5726.82,1384.24 5726.82,1266.23 5678.56,1266.23 \n  \"/>\n<path clip-path=\"url(#clip082)\" d=\"\nM5726.82 1266.23 L5726.82 1384.24 L5775.08 1384.24 L5775.08 1266.23 L5726.82 1266.23 L5726.82 1266.23  Z\n  \" fill=\"#009af9\" fill-rule=\"evenodd\" fill-opacity=\"1\"/>\n<polyline clip-path=\"url(#clip082)\" style=\"stroke:#000000; stroke-linecap:butt; stroke-linejoin:round; stroke-width:4; stroke-opacity:1; fill:none\" points=\"\n  5726.82,1266.23 5726.82,1384.24 5775.08,1384.24 5775.08,1266.23 5726.82,1266.23 \n  \"/>\n<path clip-path=\"url(#clip082)\" d=\"\nM5775.08 1384.24 L5775.08 1384.24 L5823.34 1384.24 L5823.34 1384.24 L5775.08 1384.24 L5775.08 1384.24  Z\n  \" fill=\"#009af9\" fill-rule=\"evenodd\" fill-opacity=\"1\"/>\n<polyline clip-path=\"url(#clip082)\" style=\"stroke:#000000; stroke-linecap:butt; stroke-linejoin:round; stroke-width:4; stroke-opacity:1; fill:none\" points=\"\n  5775.08,1384.24 5775.08,1384.24 5823.34,1384.24 5775.08,1384.24 \n  \"/>\n<path clip-path=\"url(#clip082)\" d=\"\nM5823.34 1384.24 L5823.34 1384.24 L5871.6 1384.24 L5871.6 1384.24 L5823.34 1384.24 L5823.34 1384.24  Z\n  \" fill=\"#009af9\" fill-rule=\"evenodd\" fill-opacity=\"1\"/>\n<polyline clip-path=\"url(#clip082)\" style=\"stroke:#000000; stroke-linecap:butt; stroke-linejoin:round; stroke-width:4; stroke-opacity:1; fill:none\" points=\"\n  5823.34,1384.24 5823.34,1384.24 5871.6,1384.24 5823.34,1384.24 \n  \"/>\n<path clip-path=\"url(#clip082)\" d=\"\nM5871.6 1384.24 L5871.6 1384.24 L5919.86 1384.24 L5919.86 1384.24 L5871.6 1384.24 L5871.6 1384.24  Z\n  \" fill=\"#009af9\" fill-rule=\"evenodd\" fill-opacity=\"1\"/>\n<polyline clip-path=\"url(#clip082)\" style=\"stroke:#000000; stroke-linecap:butt; stroke-linejoin:round; stroke-width:4; stroke-opacity:1; fill:none\" points=\"\n  5871.6,1384.24 5871.6,1384.24 5919.86,1384.24 5871.6,1384.24 \n  \"/>\n<path clip-path=\"url(#clip082)\" d=\"\nM5919.86 1384.24 L5919.86 1384.24 L5968.12 1384.24 L5968.12 1384.24 L5919.86 1384.24 L5919.86 1384.24  Z\n  \" fill=\"#009af9\" fill-rule=\"evenodd\" fill-opacity=\"1\"/>\n<polyline clip-path=\"url(#clip082)\" style=\"stroke:#000000; stroke-linecap:butt; stroke-linejoin:round; stroke-width:4; stroke-opacity:1; fill:none\" points=\"\n  5919.86,1384.24 5919.86,1384.24 5968.12,1384.24 5919.86,1384.24 \n  \"/>\n<path clip-path=\"url(#clip082)\" d=\"\nM5968.12 1384.24 L5968.12 1384.24 L6016.37 1384.24 L6016.37 1384.24 L5968.12 1384.24 L5968.12 1384.24  Z\n  \" fill=\"#009af9\" fill-rule=\"evenodd\" fill-opacity=\"1\"/>\n<polyline clip-path=\"url(#clip082)\" style=\"stroke:#000000; stroke-linecap:butt; stroke-linejoin:round; stroke-width:4; stroke-opacity:1; fill:none\" points=\"\n  5968.12,1384.24 5968.12,1384.24 6016.37,1384.24 5968.12,1384.24 \n  \"/>\n<path clip-path=\"url(#clip082)\" d=\"\nM6016.37 1384.24 L6016.37 1384.24 L6064.63 1384.24 L6064.63 1384.24 L6016.37 1384.24 L6016.37 1384.24  Z\n  \" fill=\"#009af9\" fill-rule=\"evenodd\" fill-opacity=\"1\"/>\n<polyline clip-path=\"url(#clip082)\" style=\"stroke:#000000; stroke-linecap:butt; stroke-linejoin:round; stroke-width:4; stroke-opacity:1; fill:none\" points=\"\n  6016.37,1384.24 6016.37,1384.24 6064.63,1384.24 6016.37,1384.24 \n  \"/>\n<path clip-path=\"url(#clip082)\" d=\"\nM6064.63 1266.23 L6064.63 1384.24 L6112.89 1384.24 L6112.89 1266.23 L6064.63 1266.23 L6064.63 1266.23  Z\n  \" fill=\"#009af9\" fill-rule=\"evenodd\" fill-opacity=\"1\"/>\n<polyline clip-path=\"url(#clip082)\" style=\"stroke:#000000; stroke-linecap:butt; stroke-linejoin:round; stroke-width:4; stroke-opacity:1; fill:none\" points=\"\n  6064.63,1266.23 6064.63,1384.24 6112.89,1384.24 6112.89,1266.23 6064.63,1266.23 \n  \"/>\n<path clip-path=\"url(#clip082)\" d=\"\nM6112.89 1266.23 L6112.89 1384.24 L6161.15 1384.24 L6161.15 1266.23 L6112.89 1266.23 L6112.89 1266.23  Z\n  \" fill=\"#009af9\" fill-rule=\"evenodd\" fill-opacity=\"1\"/>\n<polyline clip-path=\"url(#clip082)\" style=\"stroke:#000000; stroke-linecap:butt; stroke-linejoin:round; stroke-width:4; stroke-opacity:1; fill:none\" points=\"\n  6112.89,1266.23 6112.89,1384.24 6161.15,1384.24 6161.15,1266.23 6112.89,1266.23 \n  \"/>\n<path clip-path=\"url(#clip082)\" d=\"\nM6161.15 1384.24 L6161.15 1384.24 L6209.41 1384.24 L6209.41 1384.24 L6161.15 1384.24 L6161.15 1384.24  Z\n  \" fill=\"#009af9\" fill-rule=\"evenodd\" fill-opacity=\"1\"/>\n<polyline clip-path=\"url(#clip082)\" style=\"stroke:#000000; stroke-linecap:butt; stroke-linejoin:round; stroke-width:4; stroke-opacity:1; fill:none\" points=\"\n  6161.15,1384.24 6161.15,1384.24 6209.41,1384.24 6161.15,1384.24 \n  \"/>\n<path clip-path=\"url(#clip082)\" d=\"\nM6209.41 1266.23 L6209.41 1384.24 L6257.67 1384.24 L6257.67 1266.23 L6209.41 1266.23 L6209.41 1266.23  Z\n  \" fill=\"#009af9\" fill-rule=\"evenodd\" fill-opacity=\"1\"/>\n<polyline clip-path=\"url(#clip082)\" style=\"stroke:#000000; stroke-linecap:butt; stroke-linejoin:round; stroke-width:4; stroke-opacity:1; fill:none\" points=\"\n  6209.41,1266.23 6209.41,1384.24 6257.67,1384.24 6257.67,1266.23 6209.41,1266.23 \n  \"/>\n<path clip-path=\"url(#clip082)\" d=\"\nM6257.67 1384.24 L6257.67 1384.24 L6305.93 1384.24 L6305.93 1384.24 L6257.67 1384.24 L6257.67 1384.24  Z\n  \" fill=\"#009af9\" fill-rule=\"evenodd\" fill-opacity=\"1\"/>\n<polyline clip-path=\"url(#clip082)\" style=\"stroke:#000000; stroke-linecap:butt; stroke-linejoin:round; stroke-width:4; stroke-opacity:1; fill:none\" points=\"\n  6257.67,1384.24 6257.67,1384.24 6305.93,1384.24 6257.67,1384.24 \n  \"/>\n<path clip-path=\"url(#clip082)\" d=\"\nM6305.93 1384.24 L6305.93 1384.24 L6354.19 1384.24 L6354.19 1384.24 L6305.93 1384.24 L6305.93 1384.24  Z\n  \" fill=\"#009af9\" fill-rule=\"evenodd\" fill-opacity=\"1\"/>\n<polyline clip-path=\"url(#clip082)\" style=\"stroke:#000000; stroke-linecap:butt; stroke-linejoin:round; stroke-width:4; stroke-opacity:1; fill:none\" points=\"\n  6305.93,1384.24 6305.93,1384.24 6354.19,1384.24 6305.93,1384.24 \n  \"/>\n<path clip-path=\"url(#clip082)\" d=\"\nM6354.19 1384.24 L6354.19 1384.24 L6402.44 1384.24 L6402.44 1384.24 L6354.19 1384.24 L6354.19 1384.24  Z\n  \" fill=\"#009af9\" fill-rule=\"evenodd\" fill-opacity=\"1\"/>\n<polyline clip-path=\"url(#clip082)\" style=\"stroke:#000000; stroke-linecap:butt; stroke-linejoin:round; stroke-width:4; stroke-opacity:1; fill:none\" points=\"\n  6354.19,1384.24 6354.19,1384.24 6402.44,1384.24 6354.19,1384.24 \n  \"/>\n<path clip-path=\"url(#clip082)\" d=\"\nM6402.44 1384.24 L6402.44 1384.24 L6450.7 1384.24 L6450.7 1384.24 L6402.44 1384.24 L6402.44 1384.24  Z\n  \" fill=\"#009af9\" fill-rule=\"evenodd\" fill-opacity=\"1\"/>\n<polyline clip-path=\"url(#clip082)\" style=\"stroke:#000000; stroke-linecap:butt; stroke-linejoin:round; stroke-width:4; stroke-opacity:1; fill:none\" points=\"\n  6402.44,1384.24 6402.44,1384.24 6450.7,1384.24 6402.44,1384.24 \n  \"/>\n<path clip-path=\"url(#clip082)\" d=\"\nM6450.7 1384.24 L6450.7 1384.24 L6498.96 1384.24 L6498.96 1384.24 L6450.7 1384.24 L6450.7 1384.24  Z\n  \" fill=\"#009af9\" fill-rule=\"evenodd\" fill-opacity=\"1\"/>\n<polyline clip-path=\"url(#clip082)\" style=\"stroke:#000000; stroke-linecap:butt; stroke-linejoin:round; stroke-width:4; stroke-opacity:1; fill:none\" points=\"\n  6450.7,1384.24 6450.7,1384.24 6498.96,1384.24 6450.7,1384.24 \n  \"/>\n<path clip-path=\"url(#clip082)\" d=\"\nM6498.96 1384.24 L6498.96 1384.24 L6547.22 1384.24 L6547.22 1384.24 L6498.96 1384.24 L6498.96 1384.24  Z\n  \" fill=\"#009af9\" fill-rule=\"evenodd\" fill-opacity=\"1\"/>\n<polyline clip-path=\"url(#clip082)\" style=\"stroke:#000000; stroke-linecap:butt; stroke-linejoin:round; stroke-width:4; stroke-opacity:1; fill:none\" points=\"\n  6498.96,1384.24 6498.96,1384.24 6547.22,1384.24 6498.96,1384.24 \n  \"/>\n<path clip-path=\"url(#clip082)\" d=\"\nM6547.22 1384.24 L6547.22 1384.24 L6595.48 1384.24 L6595.48 1384.24 L6547.22 1384.24 L6547.22 1384.24  Z\n  \" fill=\"#009af9\" fill-rule=\"evenodd\" fill-opacity=\"1\"/>\n<polyline clip-path=\"url(#clip082)\" style=\"stroke:#000000; stroke-linecap:butt; stroke-linejoin:round; stroke-width:4; stroke-opacity:1; fill:none\" points=\"\n  6547.22,1384.24 6547.22,1384.24 6595.48,1384.24 6547.22,1384.24 \n  \"/>\n<path clip-path=\"url(#clip082)\" d=\"\nM6595.48 1384.24 L6595.48 1384.24 L6643.74 1384.24 L6643.74 1384.24 L6595.48 1384.24 L6595.48 1384.24  Z\n  \" fill=\"#009af9\" fill-rule=\"evenodd\" fill-opacity=\"1\"/>\n<polyline clip-path=\"url(#clip082)\" style=\"stroke:#000000; stroke-linecap:butt; stroke-linejoin:round; stroke-width:4; stroke-opacity:1; fill:none\" points=\"\n  6595.48,1384.24 6595.48,1384.24 6643.74,1384.24 6595.48,1384.24 \n  \"/>\n<path clip-path=\"url(#clip082)\" d=\"\nM6643.74 1384.24 L6643.74 1384.24 L6692 1384.24 L6692 1384.24 L6643.74 1384.24 L6643.74 1384.24  Z\n  \" fill=\"#009af9\" fill-rule=\"evenodd\" fill-opacity=\"1\"/>\n<polyline clip-path=\"url(#clip082)\" style=\"stroke:#000000; stroke-linecap:butt; stroke-linejoin:round; stroke-width:4; stroke-opacity:1; fill:none\" points=\"\n  6643.74,1384.24 6643.74,1384.24 6692,1384.24 6643.74,1384.24 \n  \"/>\n<path clip-path=\"url(#clip082)\" d=\"\nM6692 1384.24 L6692 1384.24 L6740.26 1384.24 L6740.26 1384.24 L6692 1384.24 L6692 1384.24  Z\n  \" fill=\"#009af9\" fill-rule=\"evenodd\" fill-opacity=\"1\"/>\n<polyline clip-path=\"url(#clip082)\" style=\"stroke:#000000; stroke-linecap:butt; stroke-linejoin:round; stroke-width:4; stroke-opacity:1; fill:none\" points=\"\n  6692,1384.24 6692,1384.24 6740.26,1384.24 6692,1384.24 \n  \"/>\n<path clip-path=\"url(#clip082)\" d=\"\nM6740.26 1384.24 L6740.26 1384.24 L6788.51 1384.24 L6788.51 1384.24 L6740.26 1384.24 L6740.26 1384.24  Z\n  \" fill=\"#009af9\" fill-rule=\"evenodd\" fill-opacity=\"1\"/>\n<polyline clip-path=\"url(#clip082)\" style=\"stroke:#000000; stroke-linecap:butt; stroke-linejoin:round; stroke-width:4; stroke-opacity:1; fill:none\" points=\"\n  6740.26,1384.24 6740.26,1384.24 6788.51,1384.24 6740.26,1384.24 \n  \"/>\n<path clip-path=\"url(#clip082)\" d=\"\nM6788.51 1384.24 L6788.51 1384.24 L6836.77 1384.24 L6836.77 1384.24 L6788.51 1384.24 L6788.51 1384.24  Z\n  \" fill=\"#009af9\" fill-rule=\"evenodd\" fill-opacity=\"1\"/>\n<polyline clip-path=\"url(#clip082)\" style=\"stroke:#000000; stroke-linecap:butt; stroke-linejoin:round; stroke-width:4; stroke-opacity:1; fill:none\" points=\"\n  6788.51,1384.24 6788.51,1384.24 6836.77,1384.24 6788.51,1384.24 \n  \"/>\n<path clip-path=\"url(#clip082)\" d=\"\nM6836.77 1384.24 L6836.77 1384.24 L6885.03 1384.24 L6885.03 1384.24 L6836.77 1384.24 L6836.77 1384.24  Z\n  \" fill=\"#009af9\" fill-rule=\"evenodd\" fill-opacity=\"1\"/>\n<polyline clip-path=\"url(#clip082)\" style=\"stroke:#000000; stroke-linecap:butt; stroke-linejoin:round; stroke-width:4; stroke-opacity:1; fill:none\" points=\"\n  6836.77,1384.24 6836.77,1384.24 6885.03,1384.24 6836.77,1384.24 \n  \"/>\n<path clip-path=\"url(#clip082)\" d=\"\nM6885.03 1384.24 L6885.03 1384.24 L6933.29 1384.24 L6933.29 1384.24 L6885.03 1384.24 L6885.03 1384.24  Z\n  \" fill=\"#009af9\" fill-rule=\"evenodd\" fill-opacity=\"1\"/>\n<polyline clip-path=\"url(#clip082)\" style=\"stroke:#000000; stroke-linecap:butt; stroke-linejoin:round; stroke-width:4; stroke-opacity:1; fill:none\" points=\"\n  6885.03,1384.24 6885.03,1384.24 6933.29,1384.24 6885.03,1384.24 \n  \"/>\n<path clip-path=\"url(#clip082)\" d=\"\nM6933.29 1384.24 L6933.29 1384.24 L6981.55 1384.24 L6981.55 1384.24 L6933.29 1384.24 L6933.29 1384.24  Z\n  \" fill=\"#009af9\" fill-rule=\"evenodd\" fill-opacity=\"1\"/>\n<polyline clip-path=\"url(#clip082)\" style=\"stroke:#000000; stroke-linecap:butt; stroke-linejoin:round; stroke-width:4; stroke-opacity:1; fill:none\" points=\"\n  6933.29,1384.24 6933.29,1384.24 6981.55,1384.24 6933.29,1384.24 \n  \"/>\n<path clip-path=\"url(#clip082)\" d=\"\nM6981.55 1384.24 L6981.55 1384.24 L7029.81 1384.24 L7029.81 1384.24 L6981.55 1384.24 L6981.55 1384.24  Z\n  \" fill=\"#009af9\" fill-rule=\"evenodd\" fill-opacity=\"1\"/>\n<polyline clip-path=\"url(#clip082)\" style=\"stroke:#000000; stroke-linecap:butt; stroke-linejoin:round; stroke-width:4; stroke-opacity:1; fill:none\" points=\"\n  6981.55,1384.24 6981.55,1384.24 7029.81,1384.24 6981.55,1384.24 \n  \"/>\n<path clip-path=\"url(#clip082)\" d=\"\nM7029.81 1266.23 L7029.81 1384.24 L7078.07 1384.24 L7078.07 1266.23 L7029.81 1266.23 L7029.81 1266.23  Z\n  \" fill=\"#009af9\" fill-rule=\"evenodd\" fill-opacity=\"1\"/>\n<polyline clip-path=\"url(#clip082)\" style=\"stroke:#000000; stroke-linecap:butt; stroke-linejoin:round; stroke-width:4; stroke-opacity:1; fill:none\" points=\"\n  7029.81,1266.23 7029.81,1384.24 7078.07,1384.24 7078.07,1266.23 7029.81,1266.23 \n  \"/>\n<path clip-path=\"url(#clip082)\" d=\"\nM7078.07 1384.24 L7078.07 1384.24 L7126.33 1384.24 L7126.33 1384.24 L7078.07 1384.24 L7078.07 1384.24  Z\n  \" fill=\"#009af9\" fill-rule=\"evenodd\" fill-opacity=\"1\"/>\n<polyline clip-path=\"url(#clip082)\" style=\"stroke:#000000; stroke-linecap:butt; stroke-linejoin:round; stroke-width:4; stroke-opacity:1; fill:none\" points=\"\n  7078.07,1384.24 7078.07,1384.24 7126.33,1384.24 7078.07,1384.24 \n  \"/>\n<path clip-path=\"url(#clip082)\" d=\"\nM7126.33 1384.24 L7126.33 1384.24 L7174.58 1384.24 L7174.58 1384.24 L7126.33 1384.24 L7126.33 1384.24  Z\n  \" fill=\"#009af9\" fill-rule=\"evenodd\" fill-opacity=\"1\"/>\n<polyline clip-path=\"url(#clip082)\" style=\"stroke:#000000; stroke-linecap:butt; stroke-linejoin:round; stroke-width:4; stroke-opacity:1; fill:none\" points=\"\n  7126.33,1384.24 7126.33,1384.24 7174.58,1384.24 7126.33,1384.24 \n  \"/>\n<path clip-path=\"url(#clip082)\" d=\"\nM7174.58 1266.23 L7174.58 1384.24 L7222.84 1384.24 L7222.84 1266.23 L7174.58 1266.23 L7174.58 1266.23  Z\n  \" fill=\"#009af9\" fill-rule=\"evenodd\" fill-opacity=\"1\"/>\n<polyline clip-path=\"url(#clip082)\" style=\"stroke:#000000; stroke-linecap:butt; stroke-linejoin:round; stroke-width:4; stroke-opacity:1; fill:none\" points=\"\n  7174.58,1266.23 7174.58,1384.24 7222.84,1384.24 7222.84,1266.23 7174.58,1266.23 \n  \"/>\n<path clip-path=\"url(#clip082)\" d=\"\nM7222.84 1384.24 L7222.84 1384.24 L7271.1 1384.24 L7271.1 1384.24 L7222.84 1384.24 L7222.84 1384.24  Z\n  \" fill=\"#009af9\" fill-rule=\"evenodd\" fill-opacity=\"1\"/>\n<polyline clip-path=\"url(#clip082)\" style=\"stroke:#000000; stroke-linecap:butt; stroke-linejoin:round; stroke-width:4; stroke-opacity:1; fill:none\" points=\"\n  7222.84,1384.24 7222.84,1384.24 7271.1,1384.24 7222.84,1384.24 \n  \"/>\n<path clip-path=\"url(#clip082)\" d=\"\nM7271.1 1384.24 L7271.1 1384.24 L7319.36 1384.24 L7319.36 1384.24 L7271.1 1384.24 L7271.1 1384.24  Z\n  \" fill=\"#009af9\" fill-rule=\"evenodd\" fill-opacity=\"1\"/>\n<polyline clip-path=\"url(#clip082)\" style=\"stroke:#000000; stroke-linecap:butt; stroke-linejoin:round; stroke-width:4; stroke-opacity:1; fill:none\" points=\"\n  7271.1,1384.24 7271.1,1384.24 7319.36,1384.24 7271.1,1384.24 \n  \"/>\n<path clip-path=\"url(#clip082)\" d=\"\nM7319.36 1266.23 L7319.36 1384.24 L7367.62 1384.24 L7367.62 1266.23 L7319.36 1266.23 L7319.36 1266.23  Z\n  \" fill=\"#009af9\" fill-rule=\"evenodd\" fill-opacity=\"1\"/>\n<polyline clip-path=\"url(#clip082)\" style=\"stroke:#000000; stroke-linecap:butt; stroke-linejoin:round; stroke-width:4; stroke-opacity:1; fill:none\" points=\"\n  7319.36,1266.23 7319.36,1384.24 7367.62,1384.24 7367.62,1266.23 7319.36,1266.23 \n  \"/>\n<path clip-path=\"url(#clip082)\" d=\"\nM7367.62 1384.24 L7367.62 1384.24 L7415.88 1384.24 L7415.88 1384.24 L7367.62 1384.24 L7367.62 1384.24  Z\n  \" fill=\"#009af9\" fill-rule=\"evenodd\" fill-opacity=\"1\"/>\n<polyline clip-path=\"url(#clip082)\" style=\"stroke:#000000; stroke-linecap:butt; stroke-linejoin:round; stroke-width:4; stroke-opacity:1; fill:none\" points=\"\n  7367.62,1384.24 7367.62,1384.24 7415.88,1384.24 7367.62,1384.24 \n  \"/>\n<path clip-path=\"url(#clip082)\" d=\"\nM7415.88 1384.24 L7415.88 1384.24 L7464.14 1384.24 L7464.14 1384.24 L7415.88 1384.24 L7415.88 1384.24  Z\n  \" fill=\"#009af9\" fill-rule=\"evenodd\" fill-opacity=\"1\"/>\n<polyline clip-path=\"url(#clip082)\" style=\"stroke:#000000; stroke-linecap:butt; stroke-linejoin:round; stroke-width:4; stroke-opacity:1; fill:none\" points=\"\n  7415.88,1384.24 7415.88,1384.24 7464.14,1384.24 7415.88,1384.24 \n  \"/>\n<path clip-path=\"url(#clip082)\" d=\"\nM7464.14 1384.24 L7464.14 1384.24 L7512.4 1384.24 L7512.4 1384.24 L7464.14 1384.24 L7464.14 1384.24  Z\n  \" fill=\"#009af9\" fill-rule=\"evenodd\" fill-opacity=\"1\"/>\n<polyline clip-path=\"url(#clip082)\" style=\"stroke:#000000; stroke-linecap:butt; stroke-linejoin:round; stroke-width:4; stroke-opacity:1; fill:none\" points=\"\n  7464.14,1384.24 7464.14,1384.24 7512.4,1384.24 7464.14,1384.24 \n  \"/>\n<path clip-path=\"url(#clip082)\" d=\"\nM7512.4 1384.24 L7512.4 1384.24 L7560.66 1384.24 L7560.66 1384.24 L7512.4 1384.24 L7512.4 1384.24  Z\n  \" fill=\"#009af9\" fill-rule=\"evenodd\" fill-opacity=\"1\"/>\n<polyline clip-path=\"url(#clip082)\" style=\"stroke:#000000; stroke-linecap:butt; stroke-linejoin:round; stroke-width:4; stroke-opacity:1; fill:none\" points=\"\n  7512.4,1384.24 7512.4,1384.24 7560.66,1384.24 7512.4,1384.24 \n  \"/>\n<path clip-path=\"url(#clip082)\" d=\"\nM7560.66 1384.24 L7560.66 1384.24 L7608.91 1384.24 L7608.91 1384.24 L7560.66 1384.24 L7560.66 1384.24  Z\n  \" fill=\"#009af9\" fill-rule=\"evenodd\" fill-opacity=\"1\"/>\n<polyline clip-path=\"url(#clip082)\" style=\"stroke:#000000; stroke-linecap:butt; stroke-linejoin:round; stroke-width:4; stroke-opacity:1; fill:none\" points=\"\n  7560.66,1384.24 7560.66,1384.24 7608.91,1384.24 7560.66,1384.24 \n  \"/>\n<path clip-path=\"url(#clip082)\" d=\"\nM7608.91 1384.24 L7608.91 1384.24 L7657.17 1384.24 L7657.17 1384.24 L7608.91 1384.24 L7608.91 1384.24  Z\n  \" fill=\"#009af9\" fill-rule=\"evenodd\" fill-opacity=\"1\"/>\n<polyline clip-path=\"url(#clip082)\" style=\"stroke:#000000; stroke-linecap:butt; stroke-linejoin:round; stroke-width:4; stroke-opacity:1; fill:none\" points=\"\n  7608.91,1384.24 7608.91,1384.24 7657.17,1384.24 7608.91,1384.24 \n  \"/>\n<path clip-path=\"url(#clip082)\" d=\"\nM7657.17 1384.24 L7657.17 1384.24 L7705.43 1384.24 L7705.43 1384.24 L7657.17 1384.24 L7657.17 1384.24  Z\n  \" fill=\"#009af9\" fill-rule=\"evenodd\" fill-opacity=\"1\"/>\n<polyline clip-path=\"url(#clip082)\" style=\"stroke:#000000; stroke-linecap:butt; stroke-linejoin:round; stroke-width:4; stroke-opacity:1; fill:none\" points=\"\n  7657.17,1384.24 7657.17,1384.24 7705.43,1384.24 7657.17,1384.24 \n  \"/>\n<path clip-path=\"url(#clip082)\" d=\"\nM7705.43 1384.24 L7705.43 1384.24 L7753.69 1384.24 L7753.69 1384.24 L7705.43 1384.24 L7705.43 1384.24  Z\n  \" fill=\"#009af9\" fill-rule=\"evenodd\" fill-opacity=\"1\"/>\n<polyline clip-path=\"url(#clip082)\" style=\"stroke:#000000; stroke-linecap:butt; stroke-linejoin:round; stroke-width:4; stroke-opacity:1; fill:none\" points=\"\n  7705.43,1384.24 7705.43,1384.24 7753.69,1384.24 7705.43,1384.24 \n  \"/>\n<path clip-path=\"url(#clip082)\" d=\"\nM7753.69 1384.24 L7753.69 1384.24 L7801.95 1384.24 L7801.95 1384.24 L7753.69 1384.24 L7753.69 1384.24  Z\n  \" fill=\"#009af9\" fill-rule=\"evenodd\" fill-opacity=\"1\"/>\n<polyline clip-path=\"url(#clip082)\" style=\"stroke:#000000; stroke-linecap:butt; stroke-linejoin:round; stroke-width:4; stroke-opacity:1; fill:none\" points=\"\n  7753.69,1384.24 7753.69,1384.24 7801.95,1384.24 7753.69,1384.24 \n  \"/>\n<path clip-path=\"url(#clip082)\" d=\"\nM7801.95 1384.24 L7801.95 1384.24 L7850.21 1384.24 L7850.21 1384.24 L7801.95 1384.24 L7801.95 1384.24  Z\n  \" fill=\"#009af9\" fill-rule=\"evenodd\" fill-opacity=\"1\"/>\n<polyline clip-path=\"url(#clip082)\" style=\"stroke:#000000; stroke-linecap:butt; stroke-linejoin:round; stroke-width:4; stroke-opacity:1; fill:none\" points=\"\n  7801.95,1384.24 7801.95,1384.24 7850.21,1384.24 7801.95,1384.24 \n  \"/>\n<path clip-path=\"url(#clip082)\" d=\"\nM7850.21 1266.23 L7850.21 1384.24 L7898.47 1384.24 L7898.47 1266.23 L7850.21 1266.23 L7850.21 1266.23  Z\n  \" fill=\"#009af9\" fill-rule=\"evenodd\" fill-opacity=\"1\"/>\n<polyline clip-path=\"url(#clip082)\" style=\"stroke:#000000; stroke-linecap:butt; stroke-linejoin:round; stroke-width:4; stroke-opacity:1; fill:none\" points=\"\n  7850.21,1266.23 7850.21,1384.24 7898.47,1384.24 7898.47,1266.23 7850.21,1266.23 \n  \"/>\n<path clip-path=\"url(#clip082)\" d=\"\nM7898.47 1384.24 L7898.47 1384.24 L7946.73 1384.24 L7946.73 1384.24 L7898.47 1384.24 L7898.47 1384.24  Z\n  \" fill=\"#009af9\" fill-rule=\"evenodd\" fill-opacity=\"1\"/>\n<polyline clip-path=\"url(#clip082)\" style=\"stroke:#000000; stroke-linecap:butt; stroke-linejoin:round; stroke-width:4; stroke-opacity:1; fill:none\" points=\"\n  7898.47,1384.24 7898.47,1384.24 7946.73,1384.24 7898.47,1384.24 \n  \"/>\n<path clip-path=\"url(#clip082)\" d=\"\nM7946.73 1266.23 L7946.73 1384.24 L7994.98 1384.24 L7994.98 1266.23 L7946.73 1266.23 L7946.73 1266.23  Z\n  \" fill=\"#009af9\" fill-rule=\"evenodd\" fill-opacity=\"1\"/>\n<polyline clip-path=\"url(#clip082)\" style=\"stroke:#000000; stroke-linecap:butt; stroke-linejoin:round; stroke-width:4; stroke-opacity:1; fill:none\" points=\"\n  7946.73,1266.23 7946.73,1384.24 7994.98,1384.24 7994.98,1266.23 7946.73,1266.23 \n  \"/>\n<path clip-path=\"url(#clip082)\" d=\"\nM7994.98 1384.24 L7994.98 1384.24 L8043.24 1384.24 L8043.24 1384.24 L7994.98 1384.24 L7994.98 1384.24  Z\n  \" fill=\"#009af9\" fill-rule=\"evenodd\" fill-opacity=\"1\"/>\n<polyline clip-path=\"url(#clip082)\" style=\"stroke:#000000; stroke-linecap:butt; stroke-linejoin:round; stroke-width:4; stroke-opacity:1; fill:none\" points=\"\n  7994.98,1384.24 7994.98,1384.24 8043.24,1384.24 7994.98,1384.24 \n  \"/>\n<path clip-path=\"url(#clip082)\" d=\"\nM8043.24 1384.24 L8043.24 1384.24 L8091.5 1384.24 L8091.5 1384.24 L8043.24 1384.24 L8043.24 1384.24  Z\n  \" fill=\"#009af9\" fill-rule=\"evenodd\" fill-opacity=\"1\"/>\n<polyline clip-path=\"url(#clip082)\" style=\"stroke:#000000; stroke-linecap:butt; stroke-linejoin:round; stroke-width:4; stroke-opacity:1; fill:none\" points=\"\n  8043.24,1384.24 8043.24,1384.24 8091.5,1384.24 8043.24,1384.24 \n  \"/>\n<path clip-path=\"url(#clip082)\" d=\"\nM8091.5 1384.24 L8091.5 1384.24 L8139.76 1384.24 L8139.76 1384.24 L8091.5 1384.24 L8091.5 1384.24  Z\n  \" fill=\"#009af9\" fill-rule=\"evenodd\" fill-opacity=\"1\"/>\n<polyline clip-path=\"url(#clip082)\" style=\"stroke:#000000; stroke-linecap:butt; stroke-linejoin:round; stroke-width:4; stroke-opacity:1; fill:none\" points=\"\n  8091.5,1384.24 8091.5,1384.24 8139.76,1384.24 8091.5,1384.24 \n  \"/>\n<path clip-path=\"url(#clip082)\" d=\"\nM8139.76 1384.24 L8139.76 1384.24 L8188.02 1384.24 L8188.02 1384.24 L8139.76 1384.24 L8139.76 1384.24  Z\n  \" fill=\"#009af9\" fill-rule=\"evenodd\" fill-opacity=\"1\"/>\n<polyline clip-path=\"url(#clip082)\" style=\"stroke:#000000; stroke-linecap:butt; stroke-linejoin:round; stroke-width:4; stroke-opacity:1; fill:none\" points=\"\n  8139.76,1384.24 8139.76,1384.24 8188.02,1384.24 8139.76,1384.24 \n  \"/>\n<path clip-path=\"url(#clip082)\" d=\"\nM8188.02 1384.24 L8188.02 1384.24 L8236.28 1384.24 L8236.28 1384.24 L8188.02 1384.24 L8188.02 1384.24  Z\n  \" fill=\"#009af9\" fill-rule=\"evenodd\" fill-opacity=\"1\"/>\n<polyline clip-path=\"url(#clip082)\" style=\"stroke:#000000; stroke-linecap:butt; stroke-linejoin:round; stroke-width:4; stroke-opacity:1; fill:none\" points=\"\n  8188.02,1384.24 8188.02,1384.24 8236.28,1384.24 8188.02,1384.24 \n  \"/>\n<path clip-path=\"url(#clip082)\" d=\"\nM8236.28 1384.24 L8236.28 1384.24 L8284.54 1384.24 L8284.54 1384.24 L8236.28 1384.24 L8236.28 1384.24  Z\n  \" fill=\"#009af9\" fill-rule=\"evenodd\" fill-opacity=\"1\"/>\n<polyline clip-path=\"url(#clip082)\" style=\"stroke:#000000; stroke-linecap:butt; stroke-linejoin:round; stroke-width:4; stroke-opacity:1; fill:none\" points=\"\n  8236.28,1384.24 8236.28,1384.24 8284.54,1384.24 8236.28,1384.24 \n  \"/>\n<path clip-path=\"url(#clip082)\" d=\"\nM8284.54 1384.24 L8284.54 1384.24 L8332.8 1384.24 L8332.8 1384.24 L8284.54 1384.24 L8284.54 1384.24  Z\n  \" fill=\"#009af9\" fill-rule=\"evenodd\" fill-opacity=\"1\"/>\n<polyline clip-path=\"url(#clip082)\" style=\"stroke:#000000; stroke-linecap:butt; stroke-linejoin:round; stroke-width:4; stroke-opacity:1; fill:none\" points=\"\n  8284.54,1384.24 8284.54,1384.24 8332.8,1384.24 8284.54,1384.24 \n  \"/>\n<path clip-path=\"url(#clip082)\" d=\"\nM8332.8 1384.24 L8332.8 1384.24 L8381.05 1384.24 L8381.05 1384.24 L8332.8 1384.24 L8332.8 1384.24  Z\n  \" fill=\"#009af9\" fill-rule=\"evenodd\" fill-opacity=\"1\"/>\n<polyline clip-path=\"url(#clip082)\" style=\"stroke:#000000; stroke-linecap:butt; stroke-linejoin:round; stroke-width:4; stroke-opacity:1; fill:none\" points=\"\n  8332.8,1384.24 8332.8,1384.24 8381.05,1384.24 8332.8,1384.24 \n  \"/>\n<path clip-path=\"url(#clip082)\" d=\"\nM8381.05 1384.24 L8381.05 1384.24 L8429.31 1384.24 L8429.31 1384.24 L8381.05 1384.24 L8381.05 1384.24  Z\n  \" fill=\"#009af9\" fill-rule=\"evenodd\" fill-opacity=\"1\"/>\n<polyline clip-path=\"url(#clip082)\" style=\"stroke:#000000; stroke-linecap:butt; stroke-linejoin:round; stroke-width:4; stroke-opacity:1; fill:none\" points=\"\n  8381.05,1384.24 8381.05,1384.24 8429.31,1384.24 8381.05,1384.24 \n  \"/>\n<path clip-path=\"url(#clip082)\" d=\"\nM8429.31 1384.24 L8429.31 1384.24 L8477.57 1384.24 L8477.57 1384.24 L8429.31 1384.24 L8429.31 1384.24  Z\n  \" fill=\"#009af9\" fill-rule=\"evenodd\" fill-opacity=\"1\"/>\n<polyline clip-path=\"url(#clip082)\" style=\"stroke:#000000; stroke-linecap:butt; stroke-linejoin:round; stroke-width:4; stroke-opacity:1; fill:none\" points=\"\n  8429.31,1384.24 8429.31,1384.24 8477.57,1384.24 8429.31,1384.24 \n  \"/>\n<path clip-path=\"url(#clip082)\" d=\"\nM8477.57 1384.24 L8477.57 1384.24 L8525.83 1384.24 L8525.83 1384.24 L8477.57 1384.24 L8477.57 1384.24  Z\n  \" fill=\"#009af9\" fill-rule=\"evenodd\" fill-opacity=\"1\"/>\n<polyline clip-path=\"url(#clip082)\" style=\"stroke:#000000; stroke-linecap:butt; stroke-linejoin:round; stroke-width:4; stroke-opacity:1; fill:none\" points=\"\n  8477.57,1384.24 8477.57,1384.24 8525.83,1384.24 8477.57,1384.24 \n  \"/>\n<path clip-path=\"url(#clip082)\" d=\"\nM8525.83 1266.23 L8525.83 1384.24 L8574.09 1384.24 L8574.09 1266.23 L8525.83 1266.23 L8525.83 1266.23  Z\n  \" fill=\"#009af9\" fill-rule=\"evenodd\" fill-opacity=\"1\"/>\n<polyline clip-path=\"url(#clip082)\" style=\"stroke:#000000; stroke-linecap:butt; stroke-linejoin:round; stroke-width:4; stroke-opacity:1; fill:none\" points=\"\n  8525.83,1266.23 8525.83,1384.24 8574.09,1384.24 8574.09,1266.23 8525.83,1266.23 \n  \"/>\n<path clip-path=\"url(#clip082)\" d=\"\nM8574.09 1384.24 L8574.09 1384.24 L8622.35 1384.24 L8622.35 1384.24 L8574.09 1384.24 L8574.09 1384.24  Z\n  \" fill=\"#009af9\" fill-rule=\"evenodd\" fill-opacity=\"1\"/>\n<polyline clip-path=\"url(#clip082)\" style=\"stroke:#000000; stroke-linecap:butt; stroke-linejoin:round; stroke-width:4; stroke-opacity:1; fill:none\" points=\"\n  8574.09,1384.24 8574.09,1384.24 8622.35,1384.24 8574.09,1384.24 \n  \"/>\n<path clip-path=\"url(#clip082)\" d=\"\nM8622.35 1384.24 L8622.35 1384.24 L8670.61 1384.24 L8670.61 1384.24 L8622.35 1384.24 L8622.35 1384.24  Z\n  \" fill=\"#009af9\" fill-rule=\"evenodd\" fill-opacity=\"1\"/>\n<polyline clip-path=\"url(#clip082)\" style=\"stroke:#000000; stroke-linecap:butt; stroke-linejoin:round; stroke-width:4; stroke-opacity:1; fill:none\" points=\"\n  8622.35,1384.24 8622.35,1384.24 8670.61,1384.24 8622.35,1384.24 \n  \"/>\n<path clip-path=\"url(#clip082)\" d=\"\nM8670.61 1384.24 L8670.61 1384.24 L8718.87 1384.24 L8718.87 1384.24 L8670.61 1384.24 L8670.61 1384.24  Z\n  \" fill=\"#009af9\" fill-rule=\"evenodd\" fill-opacity=\"1\"/>\n<polyline clip-path=\"url(#clip082)\" style=\"stroke:#000000; stroke-linecap:butt; stroke-linejoin:round; stroke-width:4; stroke-opacity:1; fill:none\" points=\"\n  8670.61,1384.24 8670.61,1384.24 8718.87,1384.24 8670.61,1384.24 \n  \"/>\n<path clip-path=\"url(#clip082)\" d=\"\nM8718.87 1148.23 L8718.87 1384.24 L8767.12 1384.24 L8767.12 1148.23 L8718.87 1148.23 L8718.87 1148.23  Z\n  \" fill=\"#009af9\" fill-rule=\"evenodd\" fill-opacity=\"1\"/>\n<polyline clip-path=\"url(#clip082)\" style=\"stroke:#000000; stroke-linecap:butt; stroke-linejoin:round; stroke-width:4; stroke-opacity:1; fill:none\" points=\"\n  8718.87,1148.23 8718.87,1384.24 8767.12,1384.24 8767.12,1148.23 8718.87,1148.23 \n  \"/>\n<path clip-path=\"url(#clip082)\" d=\"\nM8767.12 1384.24 L8767.12 1384.24 L8815.38 1384.24 L8815.38 1384.24 L8767.12 1384.24 L8767.12 1384.24  Z\n  \" fill=\"#009af9\" fill-rule=\"evenodd\" fill-opacity=\"1\"/>\n<polyline clip-path=\"url(#clip082)\" style=\"stroke:#000000; stroke-linecap:butt; stroke-linejoin:round; stroke-width:4; stroke-opacity:1; fill:none\" points=\"\n  8767.12,1384.24 8767.12,1384.24 8815.38,1384.24 8767.12,1384.24 \n  \"/>\n<path clip-path=\"url(#clip082)\" d=\"\nM8815.38 1384.24 L8815.38 1384.24 L8863.64 1384.24 L8863.64 1384.24 L8815.38 1384.24 L8815.38 1384.24  Z\n  \" fill=\"#009af9\" fill-rule=\"evenodd\" fill-opacity=\"1\"/>\n<polyline clip-path=\"url(#clip082)\" style=\"stroke:#000000; stroke-linecap:butt; stroke-linejoin:round; stroke-width:4; stroke-opacity:1; fill:none\" points=\"\n  8815.38,1384.24 8815.38,1384.24 8863.64,1384.24 8815.38,1384.24 \n  \"/>\n<path clip-path=\"url(#clip082)\" d=\"\nM8863.64 1384.24 L8863.64 1384.24 L8911.9 1384.24 L8911.9 1384.24 L8863.64 1384.24 L8863.64 1384.24  Z\n  \" fill=\"#009af9\" fill-rule=\"evenodd\" fill-opacity=\"1\"/>\n<polyline clip-path=\"url(#clip082)\" style=\"stroke:#000000; stroke-linecap:butt; stroke-linejoin:round; stroke-width:4; stroke-opacity:1; fill:none\" points=\"\n  8863.64,1384.24 8863.64,1384.24 8911.9,1384.24 8863.64,1384.24 \n  \"/>\n<path clip-path=\"url(#clip082)\" d=\"\nM8911.9 1384.24 L8911.9 1384.24 L8960.16 1384.24 L8960.16 1384.24 L8911.9 1384.24 L8911.9 1384.24  Z\n  \" fill=\"#009af9\" fill-rule=\"evenodd\" fill-opacity=\"1\"/>\n<polyline clip-path=\"url(#clip082)\" style=\"stroke:#000000; stroke-linecap:butt; stroke-linejoin:round; stroke-width:4; stroke-opacity:1; fill:none\" points=\"\n  8911.9,1384.24 8911.9,1384.24 8960.16,1384.24 8911.9,1384.24 \n  \"/>\n<path clip-path=\"url(#clip082)\" d=\"\nM8960.16 1266.23 L8960.16 1384.24 L9008.42 1384.24 L9008.42 1266.23 L8960.16 1266.23 L8960.16 1266.23  Z\n  \" fill=\"#009af9\" fill-rule=\"evenodd\" fill-opacity=\"1\"/>\n<polyline clip-path=\"url(#clip082)\" style=\"stroke:#000000; stroke-linecap:butt; stroke-linejoin:round; stroke-width:4; stroke-opacity:1; fill:none\" points=\"\n  8960.16,1266.23 8960.16,1384.24 9008.42,1384.24 9008.42,1266.23 8960.16,1266.23 \n  \"/>\n<path clip-path=\"url(#clip082)\" d=\"\nM9008.42 1384.24 L9008.42 1384.24 L9056.68 1384.24 L9056.68 1384.24 L9008.42 1384.24 L9008.42 1384.24  Z\n  \" fill=\"#009af9\" fill-rule=\"evenodd\" fill-opacity=\"1\"/>\n<polyline clip-path=\"url(#clip082)\" style=\"stroke:#000000; stroke-linecap:butt; stroke-linejoin:round; stroke-width:4; stroke-opacity:1; fill:none\" points=\"\n  9008.42,1384.24 9008.42,1384.24 9056.68,1384.24 9008.42,1384.24 \n  \"/>\n<path clip-path=\"url(#clip082)\" d=\"\nM9056.68 1384.24 L9056.68 1384.24 L9104.94 1384.24 L9104.94 1384.24 L9056.68 1384.24 L9056.68 1384.24  Z\n  \" fill=\"#009af9\" fill-rule=\"evenodd\" fill-opacity=\"1\"/>\n<polyline clip-path=\"url(#clip082)\" style=\"stroke:#000000; stroke-linecap:butt; stroke-linejoin:round; stroke-width:4; stroke-opacity:1; fill:none\" points=\"\n  9056.68,1384.24 9056.68,1384.24 9104.94,1384.24 9056.68,1384.24 \n  \"/>\n<path clip-path=\"url(#clip082)\" d=\"\nM9104.94 1384.24 L9104.94 1384.24 L9153.19 1384.24 L9153.19 1384.24 L9104.94 1384.24 L9104.94 1384.24  Z\n  \" fill=\"#009af9\" fill-rule=\"evenodd\" fill-opacity=\"1\"/>\n<polyline clip-path=\"url(#clip082)\" style=\"stroke:#000000; stroke-linecap:butt; stroke-linejoin:round; stroke-width:4; stroke-opacity:1; fill:none\" points=\"\n  9104.94,1384.24 9104.94,1384.24 9153.19,1384.24 9104.94,1384.24 \n  \"/>\n<path clip-path=\"url(#clip082)\" d=\"\nM9153.19 1384.24 L9153.19 1384.24 L9201.45 1384.24 L9201.45 1384.24 L9153.19 1384.24 L9153.19 1384.24  Z\n  \" fill=\"#009af9\" fill-rule=\"evenodd\" fill-opacity=\"1\"/>\n<polyline clip-path=\"url(#clip082)\" style=\"stroke:#000000; stroke-linecap:butt; stroke-linejoin:round; stroke-width:4; stroke-opacity:1; fill:none\" points=\"\n  9153.19,1384.24 9153.19,1384.24 9201.45,1384.24 9153.19,1384.24 \n  \"/>\n<path clip-path=\"url(#clip082)\" d=\"\nM9201.45 1384.24 L9201.45 1384.24 L9249.71 1384.24 L9249.71 1384.24 L9201.45 1384.24 L9201.45 1384.24  Z\n  \" fill=\"#009af9\" fill-rule=\"evenodd\" fill-opacity=\"1\"/>\n<polyline clip-path=\"url(#clip082)\" style=\"stroke:#000000; stroke-linecap:butt; stroke-linejoin:round; stroke-width:4; stroke-opacity:1; fill:none\" points=\"\n  9201.45,1384.24 9201.45,1384.24 9249.71,1384.24 9201.45,1384.24 \n  \"/>\n<path clip-path=\"url(#clip082)\" d=\"\nM9249.71 1384.24 L9249.71 1384.24 L9297.97 1384.24 L9297.97 1384.24 L9249.71 1384.24 L9249.71 1384.24  Z\n  \" fill=\"#009af9\" fill-rule=\"evenodd\" fill-opacity=\"1\"/>\n<polyline clip-path=\"url(#clip082)\" style=\"stroke:#000000; stroke-linecap:butt; stroke-linejoin:round; stroke-width:4; stroke-opacity:1; fill:none\" points=\"\n  9249.71,1384.24 9249.71,1384.24 9297.97,1384.24 9249.71,1384.24 \n  \"/>\n<path clip-path=\"url(#clip082)\" d=\"\nM9297.97 1384.24 L9297.97 1384.24 L9346.23 1384.24 L9346.23 1384.24 L9297.97 1384.24 L9297.97 1384.24  Z\n  \" fill=\"#009af9\" fill-rule=\"evenodd\" fill-opacity=\"1\"/>\n<polyline clip-path=\"url(#clip082)\" style=\"stroke:#000000; stroke-linecap:butt; stroke-linejoin:round; stroke-width:4; stroke-opacity:1; fill:none\" points=\"\n  9297.97,1384.24 9297.97,1384.24 9346.23,1384.24 9297.97,1384.24 \n  \"/>\n<path clip-path=\"url(#clip082)\" d=\"\nM9346.23 1384.24 L9346.23 1384.24 L9394.49 1384.24 L9394.49 1384.24 L9346.23 1384.24 L9346.23 1384.24  Z\n  \" fill=\"#009af9\" fill-rule=\"evenodd\" fill-opacity=\"1\"/>\n<polyline clip-path=\"url(#clip082)\" style=\"stroke:#000000; stroke-linecap:butt; stroke-linejoin:round; stroke-width:4; stroke-opacity:1; fill:none\" points=\"\n  9346.23,1384.24 9346.23,1384.24 9394.49,1384.24 9346.23,1384.24 \n  \"/>\n<path clip-path=\"url(#clip082)\" d=\"\nM9394.49 1384.24 L9394.49 1384.24 L9442.75 1384.24 L9442.75 1384.24 L9394.49 1384.24 L9394.49 1384.24  Z\n  \" fill=\"#009af9\" fill-rule=\"evenodd\" fill-opacity=\"1\"/>\n<polyline clip-path=\"url(#clip082)\" style=\"stroke:#000000; stroke-linecap:butt; stroke-linejoin:round; stroke-width:4; stroke-opacity:1; fill:none\" points=\"\n  9394.49,1384.24 9394.49,1384.24 9442.75,1384.24 9394.49,1384.24 \n  \"/>\n<path clip-path=\"url(#clip082)\" d=\"\nM9442.75 1384.24 L9442.75 1384.24 L9491.01 1384.24 L9491.01 1384.24 L9442.75 1384.24 L9442.75 1384.24  Z\n  \" fill=\"#009af9\" fill-rule=\"evenodd\" fill-opacity=\"1\"/>\n<polyline clip-path=\"url(#clip082)\" style=\"stroke:#000000; stroke-linecap:butt; stroke-linejoin:round; stroke-width:4; stroke-opacity:1; fill:none\" points=\"\n  9442.75,1384.24 9442.75,1384.24 9491.01,1384.24 9442.75,1384.24 \n  \"/>\n<path clip-path=\"url(#clip082)\" d=\"\nM9491.01 1384.24 L9491.01 1384.24 L9539.26 1384.24 L9539.26 1384.24 L9491.01 1384.24 L9491.01 1384.24  Z\n  \" fill=\"#009af9\" fill-rule=\"evenodd\" fill-opacity=\"1\"/>\n<polyline clip-path=\"url(#clip082)\" style=\"stroke:#000000; stroke-linecap:butt; stroke-linejoin:round; stroke-width:4; stroke-opacity:1; fill:none\" points=\"\n  9491.01,1384.24 9491.01,1384.24 9539.26,1384.24 9491.01,1384.24 \n  \"/>\n<path clip-path=\"url(#clip082)\" d=\"\nM9539.26 1384.24 L9539.26 1384.24 L9587.52 1384.24 L9587.52 1384.24 L9539.26 1384.24 L9539.26 1384.24  Z\n  \" fill=\"#009af9\" fill-rule=\"evenodd\" fill-opacity=\"1\"/>\n<polyline clip-path=\"url(#clip082)\" style=\"stroke:#000000; stroke-linecap:butt; stroke-linejoin:round; stroke-width:4; stroke-opacity:1; fill:none\" points=\"\n  9539.26,1384.24 9539.26,1384.24 9587.52,1384.24 9539.26,1384.24 \n  \"/>\n<path clip-path=\"url(#clip082)\" d=\"\nM9587.52 1384.24 L9587.52 1384.24 L9635.78 1384.24 L9635.78 1384.24 L9587.52 1384.24 L9587.52 1384.24  Z\n  \" fill=\"#009af9\" fill-rule=\"evenodd\" fill-opacity=\"1\"/>\n<polyline clip-path=\"url(#clip082)\" style=\"stroke:#000000; stroke-linecap:butt; stroke-linejoin:round; stroke-width:4; stroke-opacity:1; fill:none\" points=\"\n  9587.52,1384.24 9587.52,1384.24 9635.78,1384.24 9587.52,1384.24 \n  \"/>\n<path clip-path=\"url(#clip082)\" d=\"\nM9635.78 1384.24 L9635.78 1384.24 L9684.04 1384.24 L9684.04 1384.24 L9635.78 1384.24 L9635.78 1384.24  Z\n  \" fill=\"#009af9\" fill-rule=\"evenodd\" fill-opacity=\"1\"/>\n<polyline clip-path=\"url(#clip082)\" style=\"stroke:#000000; stroke-linecap:butt; stroke-linejoin:round; stroke-width:4; stroke-opacity:1; fill:none\" points=\"\n  9635.78,1384.24 9635.78,1384.24 9684.04,1384.24 9635.78,1384.24 \n  \"/>\n<path clip-path=\"url(#clip082)\" d=\"\nM9684.04 1266.23 L9684.04 1384.24 L9732.3 1384.24 L9732.3 1266.23 L9684.04 1266.23 L9684.04 1266.23  Z\n  \" fill=\"#009af9\" fill-rule=\"evenodd\" fill-opacity=\"1\"/>\n<polyline clip-path=\"url(#clip082)\" style=\"stroke:#000000; stroke-linecap:butt; stroke-linejoin:round; stroke-width:4; stroke-opacity:1; fill:none\" points=\"\n  9684.04,1266.23 9684.04,1384.24 9732.3,1384.24 9732.3,1266.23 9684.04,1266.23 \n  \"/>\n<path clip-path=\"url(#clip082)\" d=\"\nM9732.3 1384.24 L9732.3 1384.24 L9780.56 1384.24 L9780.56 1384.24 L9732.3 1384.24 L9732.3 1384.24  Z\n  \" fill=\"#009af9\" fill-rule=\"evenodd\" fill-opacity=\"1\"/>\n<polyline clip-path=\"url(#clip082)\" style=\"stroke:#000000; stroke-linecap:butt; stroke-linejoin:round; stroke-width:4; stroke-opacity:1; fill:none\" points=\"\n  9732.3,1384.24 9732.3,1384.24 9780.56,1384.24 9732.3,1384.24 \n  \"/>\n<path clip-path=\"url(#clip082)\" d=\"\nM9780.56 1384.24 L9780.56 1384.24 L9828.82 1384.24 L9828.82 1384.24 L9780.56 1384.24 L9780.56 1384.24  Z\n  \" fill=\"#009af9\" fill-rule=\"evenodd\" fill-opacity=\"1\"/>\n<polyline clip-path=\"url(#clip082)\" style=\"stroke:#000000; stroke-linecap:butt; stroke-linejoin:round; stroke-width:4; stroke-opacity:1; fill:none\" points=\"\n  9780.56,1384.24 9780.56,1384.24 9828.82,1384.24 9780.56,1384.24 \n  \"/>\n<path clip-path=\"url(#clip082)\" d=\"\nM9828.82 1384.24 L9828.82 1384.24 L9877.08 1384.24 L9877.08 1384.24 L9828.82 1384.24 L9828.82 1384.24  Z\n  \" fill=\"#009af9\" fill-rule=\"evenodd\" fill-opacity=\"1\"/>\n<polyline clip-path=\"url(#clip082)\" style=\"stroke:#000000; stroke-linecap:butt; stroke-linejoin:round; stroke-width:4; stroke-opacity:1; fill:none\" points=\"\n  9828.82,1384.24 9828.82,1384.24 9877.08,1384.24 9828.82,1384.24 \n  \"/>\n<path clip-path=\"url(#clip082)\" d=\"\nM9877.08 1384.24 L9877.08 1384.24 L9925.33 1384.24 L9925.33 1384.24 L9877.08 1384.24 L9877.08 1384.24  Z\n  \" fill=\"#009af9\" fill-rule=\"evenodd\" fill-opacity=\"1\"/>\n<polyline clip-path=\"url(#clip082)\" style=\"stroke:#000000; stroke-linecap:butt; stroke-linejoin:round; stroke-width:4; stroke-opacity:1; fill:none\" points=\"\n  9877.08,1384.24 9877.08,1384.24 9925.33,1384.24 9877.08,1384.24 \n  \"/>\n<path clip-path=\"url(#clip082)\" d=\"\nM9925.33 1266.23 L9925.33 1384.24 L9973.59 1384.24 L9973.59 1266.23 L9925.33 1266.23 L9925.33 1266.23  Z\n  \" fill=\"#009af9\" fill-rule=\"evenodd\" fill-opacity=\"1\"/>\n<polyline clip-path=\"url(#clip082)\" style=\"stroke:#000000; stroke-linecap:butt; stroke-linejoin:round; stroke-width:4; stroke-opacity:1; fill:none\" points=\"\n  9925.33,1266.23 9925.33,1384.24 9973.59,1384.24 9973.59,1266.23 9925.33,1266.23 \n  \"/>\n<path clip-path=\"url(#clip082)\" d=\"\nM9973.59 1384.24 L9973.59 1384.24 L10021.9 1384.24 L10021.9 1384.24 L9973.59 1384.24 L9973.59 1384.24  Z\n  \" fill=\"#009af9\" fill-rule=\"evenodd\" fill-opacity=\"1\"/>\n<polyline clip-path=\"url(#clip082)\" style=\"stroke:#000000; stroke-linecap:butt; stroke-linejoin:round; stroke-width:4; stroke-opacity:1; fill:none\" points=\"\n  9973.59,1384.24 9973.59,1384.24 10021.9,1384.24 9973.59,1384.24 \n  \"/>\n<path clip-path=\"url(#clip082)\" d=\"\nM10021.9 1384.24 L10021.9 1384.24 L10070.1 1384.24 L10070.1 1384.24 L10021.9 1384.24 L10021.9 1384.24  Z\n  \" fill=\"#009af9\" fill-rule=\"evenodd\" fill-opacity=\"1\"/>\n<polyline clip-path=\"url(#clip082)\" style=\"stroke:#000000; stroke-linecap:butt; stroke-linejoin:round; stroke-width:4; stroke-opacity:1; fill:none\" points=\"\n  10021.9,1384.24 10021.9,1384.24 10070.1,1384.24 10021.9,1384.24 \n  \"/>\n<path clip-path=\"url(#clip082)\" d=\"\nM10070.1 1384.24 L10070.1 1384.24 L10118.4 1384.24 L10118.4 1384.24 L10070.1 1384.24 L10070.1 1384.24  Z\n  \" fill=\"#009af9\" fill-rule=\"evenodd\" fill-opacity=\"1\"/>\n<polyline clip-path=\"url(#clip082)\" style=\"stroke:#000000; stroke-linecap:butt; stroke-linejoin:round; stroke-width:4; stroke-opacity:1; fill:none\" points=\"\n  10070.1,1384.24 10070.1,1384.24 10118.4,1384.24 10070.1,1384.24 \n  \"/>\n<path clip-path=\"url(#clip082)\" d=\"\nM10118.4 1266.23 L10118.4 1384.24 L10166.6 1384.24 L10166.6 1266.23 L10118.4 1266.23 L10118.4 1266.23  Z\n  \" fill=\"#009af9\" fill-rule=\"evenodd\" fill-opacity=\"1\"/>\n<polyline clip-path=\"url(#clip082)\" style=\"stroke:#000000; stroke-linecap:butt; stroke-linejoin:round; stroke-width:4; stroke-opacity:1; fill:none\" points=\"\n  10118.4,1266.23 10118.4,1384.24 10166.6,1384.24 10166.6,1266.23 10118.4,1266.23 \n  \"/>\n<path clip-path=\"url(#clip082)\" d=\"\nM10166.6 1384.24 L10166.6 1384.24 L10214.9 1384.24 L10214.9 1384.24 L10166.6 1384.24 L10166.6 1384.24  Z\n  \" fill=\"#009af9\" fill-rule=\"evenodd\" fill-opacity=\"1\"/>\n<polyline clip-path=\"url(#clip082)\" style=\"stroke:#000000; stroke-linecap:butt; stroke-linejoin:round; stroke-width:4; stroke-opacity:1; fill:none\" points=\"\n  10166.6,1384.24 10166.6,1384.24 10214.9,1384.24 10166.6,1384.24 \n  \"/>\n<path clip-path=\"url(#clip082)\" d=\"\nM10214.9 1266.23 L10214.9 1384.24 L10263.1 1384.24 L10263.1 1266.23 L10214.9 1266.23 L10214.9 1266.23  Z\n  \" fill=\"#009af9\" fill-rule=\"evenodd\" fill-opacity=\"1\"/>\n<polyline clip-path=\"url(#clip082)\" style=\"stroke:#000000; stroke-linecap:butt; stroke-linejoin:round; stroke-width:4; stroke-opacity:1; fill:none\" points=\"\n  10214.9,1266.23 10214.9,1384.24 10263.1,1384.24 10263.1,1266.23 10214.9,1266.23 \n  \"/>\n<path clip-path=\"url(#clip082)\" d=\"\nM10263.1 1384.24 L10263.1 1384.24 L10311.4 1384.24 L10311.4 1384.24 L10263.1 1384.24 L10263.1 1384.24  Z\n  \" fill=\"#009af9\" fill-rule=\"evenodd\" fill-opacity=\"1\"/>\n<polyline clip-path=\"url(#clip082)\" style=\"stroke:#000000; stroke-linecap:butt; stroke-linejoin:round; stroke-width:4; stroke-opacity:1; fill:none\" points=\"\n  10263.1,1384.24 10263.1,1384.24 10311.4,1384.24 10263.1,1384.24 \n  \"/>\n<path clip-path=\"url(#clip082)\" d=\"\nM10311.4 1384.24 L10311.4 1384.24 L10359.7 1384.24 L10359.7 1384.24 L10311.4 1384.24 L10311.4 1384.24  Z\n  \" fill=\"#009af9\" fill-rule=\"evenodd\" fill-opacity=\"1\"/>\n<polyline clip-path=\"url(#clip082)\" style=\"stroke:#000000; stroke-linecap:butt; stroke-linejoin:round; stroke-width:4; stroke-opacity:1; fill:none\" points=\"\n  10311.4,1384.24 10311.4,1384.24 10359.7,1384.24 10311.4,1384.24 \n  \"/>\n<path clip-path=\"url(#clip082)\" d=\"\nM10359.7 1384.24 L10359.7 1384.24 L10407.9 1384.24 L10407.9 1384.24 L10359.7 1384.24 L10359.7 1384.24  Z\n  \" fill=\"#009af9\" fill-rule=\"evenodd\" fill-opacity=\"1\"/>\n<polyline clip-path=\"url(#clip082)\" style=\"stroke:#000000; stroke-linecap:butt; stroke-linejoin:round; stroke-width:4; stroke-opacity:1; fill:none\" points=\"\n  10359.7,1384.24 10359.7,1384.24 10407.9,1384.24 10359.7,1384.24 \n  \"/>\n<path clip-path=\"url(#clip082)\" d=\"\nM10407.9 1384.24 L10407.9 1384.24 L10456.2 1384.24 L10456.2 1384.24 L10407.9 1384.24 L10407.9 1384.24  Z\n  \" fill=\"#009af9\" fill-rule=\"evenodd\" fill-opacity=\"1\"/>\n<polyline clip-path=\"url(#clip082)\" style=\"stroke:#000000; stroke-linecap:butt; stroke-linejoin:round; stroke-width:4; stroke-opacity:1; fill:none\" points=\"\n  10407.9,1384.24 10407.9,1384.24 10456.2,1384.24 10407.9,1384.24 \n  \"/>\n<path clip-path=\"url(#clip082)\" d=\"\nM10456.2 1384.24 L10456.2 1384.24 L10504.4 1384.24 L10504.4 1384.24 L10456.2 1384.24 L10456.2 1384.24  Z\n  \" fill=\"#009af9\" fill-rule=\"evenodd\" fill-opacity=\"1\"/>\n<polyline clip-path=\"url(#clip082)\" style=\"stroke:#000000; stroke-linecap:butt; stroke-linejoin:round; stroke-width:4; stroke-opacity:1; fill:none\" points=\"\n  10456.2,1384.24 10456.2,1384.24 10504.4,1384.24 10456.2,1384.24 \n  \"/>\n<path clip-path=\"url(#clip082)\" d=\"\nM10504.4 1384.24 L10504.4 1384.24 L10552.7 1384.24 L10552.7 1384.24 L10504.4 1384.24 L10504.4 1384.24  Z\n  \" fill=\"#009af9\" fill-rule=\"evenodd\" fill-opacity=\"1\"/>\n<polyline clip-path=\"url(#clip082)\" style=\"stroke:#000000; stroke-linecap:butt; stroke-linejoin:round; stroke-width:4; stroke-opacity:1; fill:none\" points=\"\n  10504.4,1384.24 10504.4,1384.24 10552.7,1384.24 10504.4,1384.24 \n  \"/>\n<path clip-path=\"url(#clip082)\" d=\"\nM10552.7 1384.24 L10552.7 1384.24 L10601 1384.24 L10601 1384.24 L10552.7 1384.24 L10552.7 1384.24  Z\n  \" fill=\"#009af9\" fill-rule=\"evenodd\" fill-opacity=\"1\"/>\n<polyline clip-path=\"url(#clip082)\" style=\"stroke:#000000; stroke-linecap:butt; stroke-linejoin:round; stroke-width:4; stroke-opacity:1; fill:none\" points=\"\n  10552.7,1384.24 10552.7,1384.24 10601,1384.24 10552.7,1384.24 \n  \"/>\n<path clip-path=\"url(#clip082)\" d=\"\nM10601 1384.24 L10601 1384.24 L10649.2 1384.24 L10649.2 1384.24 L10601 1384.24 L10601 1384.24  Z\n  \" fill=\"#009af9\" fill-rule=\"evenodd\" fill-opacity=\"1\"/>\n<polyline clip-path=\"url(#clip082)\" style=\"stroke:#000000; stroke-linecap:butt; stroke-linejoin:round; stroke-width:4; stroke-opacity:1; fill:none\" points=\"\n  10601,1384.24 10601,1384.24 10649.2,1384.24 10601,1384.24 \n  \"/>\n<path clip-path=\"url(#clip082)\" d=\"\nM10649.2 1384.24 L10649.2 1384.24 L10697.5 1384.24 L10697.5 1384.24 L10649.2 1384.24 L10649.2 1384.24  Z\n  \" fill=\"#009af9\" fill-rule=\"evenodd\" fill-opacity=\"1\"/>\n<polyline clip-path=\"url(#clip082)\" style=\"stroke:#000000; stroke-linecap:butt; stroke-linejoin:round; stroke-width:4; stroke-opacity:1; fill:none\" points=\"\n  10649.2,1384.24 10649.2,1384.24 10697.5,1384.24 10649.2,1384.24 \n  \"/>\n<path clip-path=\"url(#clip082)\" d=\"\nM10697.5 1384.24 L10697.5 1384.24 L10745.7 1384.24 L10745.7 1384.24 L10697.5 1384.24 L10697.5 1384.24  Z\n  \" fill=\"#009af9\" fill-rule=\"evenodd\" fill-opacity=\"1\"/>\n<polyline clip-path=\"url(#clip082)\" style=\"stroke:#000000; stroke-linecap:butt; stroke-linejoin:round; stroke-width:4; stroke-opacity:1; fill:none\" points=\"\n  10697.5,1384.24 10697.5,1384.24 10745.7,1384.24 10697.5,1384.24 \n  \"/>\n<path clip-path=\"url(#clip082)\" d=\"\nM10745.7 1384.24 L10745.7 1384.24 L10794 1384.24 L10794 1384.24 L10745.7 1384.24 L10745.7 1384.24  Z\n  \" fill=\"#009af9\" fill-rule=\"evenodd\" fill-opacity=\"1\"/>\n<polyline clip-path=\"url(#clip082)\" style=\"stroke:#000000; stroke-linecap:butt; stroke-linejoin:round; stroke-width:4; stroke-opacity:1; fill:none\" points=\"\n  10745.7,1384.24 10745.7,1384.24 10794,1384.24 10745.7,1384.24 \n  \"/>\n<path clip-path=\"url(#clip082)\" d=\"\nM10794 1384.24 L10794 1384.24 L10842.3 1384.24 L10842.3 1384.24 L10794 1384.24 L10794 1384.24  Z\n  \" fill=\"#009af9\" fill-rule=\"evenodd\" fill-opacity=\"1\"/>\n<polyline clip-path=\"url(#clip082)\" style=\"stroke:#000000; stroke-linecap:butt; stroke-linejoin:round; stroke-width:4; stroke-opacity:1; fill:none\" points=\"\n  10794,1384.24 10794,1384.24 10842.3,1384.24 10794,1384.24 \n  \"/>\n<path clip-path=\"url(#clip082)\" d=\"\nM10842.3 1384.24 L10842.3 1384.24 L10890.5 1384.24 L10890.5 1384.24 L10842.3 1384.24 L10842.3 1384.24  Z\n  \" fill=\"#009af9\" fill-rule=\"evenodd\" fill-opacity=\"1\"/>\n<polyline clip-path=\"url(#clip082)\" style=\"stroke:#000000; stroke-linecap:butt; stroke-linejoin:round; stroke-width:4; stroke-opacity:1; fill:none\" points=\"\n  10842.3,1384.24 10842.3,1384.24 10890.5,1384.24 10842.3,1384.24 \n  \"/>\n<path clip-path=\"url(#clip082)\" d=\"\nM10890.5 1384.24 L10890.5 1384.24 L10938.8 1384.24 L10938.8 1384.24 L10890.5 1384.24 L10890.5 1384.24  Z\n  \" fill=\"#009af9\" fill-rule=\"evenodd\" fill-opacity=\"1\"/>\n<polyline clip-path=\"url(#clip082)\" style=\"stroke:#000000; stroke-linecap:butt; stroke-linejoin:round; stroke-width:4; stroke-opacity:1; fill:none\" points=\"\n  10890.5,1384.24 10890.5,1384.24 10938.8,1384.24 10890.5,1384.24 \n  \"/>\n<path clip-path=\"url(#clip082)\" d=\"\nM10938.8 1384.24 L10938.8 1384.24 L10987 1384.24 L10987 1384.24 L10938.8 1384.24 L10938.8 1384.24  Z\n  \" fill=\"#009af9\" fill-rule=\"evenodd\" fill-opacity=\"1\"/>\n<polyline clip-path=\"url(#clip082)\" style=\"stroke:#000000; stroke-linecap:butt; stroke-linejoin:round; stroke-width:4; stroke-opacity:1; fill:none\" points=\"\n  10938.8,1384.24 10938.8,1384.24 10987,1384.24 10938.8,1384.24 \n  \"/>\n<path clip-path=\"url(#clip082)\" d=\"\nM10987 1384.24 L10987 1384.24 L11035.3 1384.24 L11035.3 1384.24 L10987 1384.24 L10987 1384.24  Z\n  \" fill=\"#009af9\" fill-rule=\"evenodd\" fill-opacity=\"1\"/>\n<polyline clip-path=\"url(#clip082)\" style=\"stroke:#000000; stroke-linecap:butt; stroke-linejoin:round; stroke-width:4; stroke-opacity:1; fill:none\" points=\"\n  10987,1384.24 10987,1384.24 11035.3,1384.24 10987,1384.24 \n  \"/>\n<path clip-path=\"url(#clip082)\" d=\"\nM11035.3 1384.24 L11035.3 1384.24 L11083.5 1384.24 L11083.5 1384.24 L11035.3 1384.24 L11035.3 1384.24  Z\n  \" fill=\"#009af9\" fill-rule=\"evenodd\" fill-opacity=\"1\"/>\n<polyline clip-path=\"url(#clip082)\" style=\"stroke:#000000; stroke-linecap:butt; stroke-linejoin:round; stroke-width:4; stroke-opacity:1; fill:none\" points=\"\n  11035.3,1384.24 11035.3,1384.24 11083.5,1384.24 11035.3,1384.24 \n  \"/>\n<path clip-path=\"url(#clip082)\" d=\"\nM11083.5 1384.24 L11083.5 1384.24 L11131.8 1384.24 L11131.8 1384.24 L11083.5 1384.24 L11083.5 1384.24  Z\n  \" fill=\"#009af9\" fill-rule=\"evenodd\" fill-opacity=\"1\"/>\n<polyline clip-path=\"url(#clip082)\" style=\"stroke:#000000; stroke-linecap:butt; stroke-linejoin:round; stroke-width:4; stroke-opacity:1; fill:none\" points=\"\n  11083.5,1384.24 11083.5,1384.24 11131.8,1384.24 11083.5,1384.24 \n  \"/>\n<path clip-path=\"url(#clip082)\" d=\"\nM11131.8 1384.24 L11131.8 1384.24 L11180.1 1384.24 L11180.1 1384.24 L11131.8 1384.24 L11131.8 1384.24  Z\n  \" fill=\"#009af9\" fill-rule=\"evenodd\" fill-opacity=\"1\"/>\n<polyline clip-path=\"url(#clip082)\" style=\"stroke:#000000; stroke-linecap:butt; stroke-linejoin:round; stroke-width:4; stroke-opacity:1; fill:none\" points=\"\n  11131.8,1384.24 11131.8,1384.24 11180.1,1384.24 11131.8,1384.24 \n  \"/>\n<path clip-path=\"url(#clip082)\" d=\"\nM11180.1 1384.24 L11180.1 1384.24 L11228.3 1384.24 L11228.3 1384.24 L11180.1 1384.24 L11180.1 1384.24  Z\n  \" fill=\"#009af9\" fill-rule=\"evenodd\" fill-opacity=\"1\"/>\n<polyline clip-path=\"url(#clip082)\" style=\"stroke:#000000; stroke-linecap:butt; stroke-linejoin:round; stroke-width:4; stroke-opacity:1; fill:none\" points=\"\n  11180.1,1384.24 11180.1,1384.24 11228.3,1384.24 11180.1,1384.24 \n  \"/>\n<path clip-path=\"url(#clip082)\" d=\"\nM11228.3 1384.24 L11228.3 1384.24 L11276.6 1384.24 L11276.6 1384.24 L11228.3 1384.24 L11228.3 1384.24  Z\n  \" fill=\"#009af9\" fill-rule=\"evenodd\" fill-opacity=\"1\"/>\n<polyline clip-path=\"url(#clip082)\" style=\"stroke:#000000; stroke-linecap:butt; stroke-linejoin:round; stroke-width:4; stroke-opacity:1; fill:none\" points=\"\n  11228.3,1384.24 11228.3,1384.24 11276.6,1384.24 11228.3,1384.24 \n  \"/>\n<path clip-path=\"url(#clip082)\" d=\"\nM11276.6 1384.24 L11276.6 1384.24 L11324.8 1384.24 L11324.8 1384.24 L11276.6 1384.24 L11276.6 1384.24  Z\n  \" fill=\"#009af9\" fill-rule=\"evenodd\" fill-opacity=\"1\"/>\n<polyline clip-path=\"url(#clip082)\" style=\"stroke:#000000; stroke-linecap:butt; stroke-linejoin:round; stroke-width:4; stroke-opacity:1; fill:none\" points=\"\n  11276.6,1384.24 11276.6,1384.24 11324.8,1384.24 11276.6,1384.24 \n  \"/>\n<path clip-path=\"url(#clip082)\" d=\"\nM11324.8 1384.24 L11324.8 1384.24 L11373.1 1384.24 L11373.1 1384.24 L11324.8 1384.24 L11324.8 1384.24  Z\n  \" fill=\"#009af9\" fill-rule=\"evenodd\" fill-opacity=\"1\"/>\n<polyline clip-path=\"url(#clip082)\" style=\"stroke:#000000; stroke-linecap:butt; stroke-linejoin:round; stroke-width:4; stroke-opacity:1; fill:none\" points=\"\n  11324.8,1384.24 11324.8,1384.24 11373.1,1384.24 11324.8,1384.24 \n  \"/>\n<path clip-path=\"url(#clip082)\" d=\"\nM11373.1 1384.24 L11373.1 1384.24 L11421.4 1384.24 L11421.4 1384.24 L11373.1 1384.24 L11373.1 1384.24  Z\n  \" fill=\"#009af9\" fill-rule=\"evenodd\" fill-opacity=\"1\"/>\n<polyline clip-path=\"url(#clip082)\" style=\"stroke:#000000; stroke-linecap:butt; stroke-linejoin:round; stroke-width:4; stroke-opacity:1; fill:none\" points=\"\n  11373.1,1384.24 11373.1,1384.24 11421.4,1384.24 11373.1,1384.24 \n  \"/>\n<path clip-path=\"url(#clip082)\" d=\"\nM11421.4 1384.24 L11421.4 1384.24 L11469.6 1384.24 L11469.6 1384.24 L11421.4 1384.24 L11421.4 1384.24  Z\n  \" fill=\"#009af9\" fill-rule=\"evenodd\" fill-opacity=\"1\"/>\n<polyline clip-path=\"url(#clip082)\" style=\"stroke:#000000; stroke-linecap:butt; stroke-linejoin:round; stroke-width:4; stroke-opacity:1; fill:none\" points=\"\n  11421.4,1384.24 11421.4,1384.24 11469.6,1384.24 11421.4,1384.24 \n  \"/>\n<path clip-path=\"url(#clip082)\" d=\"\nM11469.6 1384.24 L11469.6 1384.24 L11517.9 1384.24 L11517.9 1384.24 L11469.6 1384.24 L11469.6 1384.24  Z\n  \" fill=\"#009af9\" fill-rule=\"evenodd\" fill-opacity=\"1\"/>\n<polyline clip-path=\"url(#clip082)\" style=\"stroke:#000000; stroke-linecap:butt; stroke-linejoin:round; stroke-width:4; stroke-opacity:1; fill:none\" points=\"\n  11469.6,1384.24 11469.6,1384.24 11517.9,1384.24 11469.6,1384.24 \n  \"/>\n<path clip-path=\"url(#clip082)\" d=\"\nM11517.9 1384.24 L11517.9 1384.24 L11566.1 1384.24 L11566.1 1384.24 L11517.9 1384.24 L11517.9 1384.24  Z\n  \" fill=\"#009af9\" fill-rule=\"evenodd\" fill-opacity=\"1\"/>\n<polyline clip-path=\"url(#clip082)\" style=\"stroke:#000000; stroke-linecap:butt; stroke-linejoin:round; stroke-width:4; stroke-opacity:1; fill:none\" points=\"\n  11517.9,1384.24 11517.9,1384.24 11566.1,1384.24 11517.9,1384.24 \n  \"/>\n<path clip-path=\"url(#clip082)\" d=\"\nM11566.1 1384.24 L11566.1 1384.24 L11614.4 1384.24 L11614.4 1384.24 L11566.1 1384.24 L11566.1 1384.24  Z\n  \" fill=\"#009af9\" fill-rule=\"evenodd\" fill-opacity=\"1\"/>\n<polyline clip-path=\"url(#clip082)\" style=\"stroke:#000000; stroke-linecap:butt; stroke-linejoin:round; stroke-width:4; stroke-opacity:1; fill:none\" points=\"\n  11566.1,1384.24 11566.1,1384.24 11614.4,1384.24 11566.1,1384.24 \n  \"/>\n<path clip-path=\"url(#clip082)\" d=\"\nM11614.4 1384.24 L11614.4 1384.24 L11662.7 1384.24 L11662.7 1384.24 L11614.4 1384.24 L11614.4 1384.24  Z\n  \" fill=\"#009af9\" fill-rule=\"evenodd\" fill-opacity=\"1\"/>\n<polyline clip-path=\"url(#clip082)\" style=\"stroke:#000000; stroke-linecap:butt; stroke-linejoin:round; stroke-width:4; stroke-opacity:1; fill:none\" points=\"\n  11614.4,1384.24 11614.4,1384.24 11662.7,1384.24 11614.4,1384.24 \n  \"/>\n<path clip-path=\"url(#clip082)\" d=\"\nM11662.7 1384.24 L11662.7 1384.24 L11710.9 1384.24 L11710.9 1384.24 L11662.7 1384.24 L11662.7 1384.24  Z\n  \" fill=\"#009af9\" fill-rule=\"evenodd\" fill-opacity=\"1\"/>\n<polyline clip-path=\"url(#clip082)\" style=\"stroke:#000000; stroke-linecap:butt; stroke-linejoin:round; stroke-width:4; stroke-opacity:1; fill:none\" points=\"\n  11662.7,1384.24 11662.7,1384.24 11710.9,1384.24 11662.7,1384.24 \n  \"/>\n<path clip-path=\"url(#clip082)\" d=\"\nM11710.9 1384.24 L11710.9 1384.24 L11759.2 1384.24 L11759.2 1384.24 L11710.9 1384.24 L11710.9 1384.24  Z\n  \" fill=\"#009af9\" fill-rule=\"evenodd\" fill-opacity=\"1\"/>\n<polyline clip-path=\"url(#clip082)\" style=\"stroke:#000000; stroke-linecap:butt; stroke-linejoin:round; stroke-width:4; stroke-opacity:1; fill:none\" points=\"\n  11710.9,1384.24 11710.9,1384.24 11759.2,1384.24 11710.9,1384.24 \n  \"/>\n<path clip-path=\"url(#clip082)\" d=\"\nM11759.2 1384.24 L11759.2 1384.24 L11807.4 1384.24 L11807.4 1384.24 L11759.2 1384.24 L11759.2 1384.24  Z\n  \" fill=\"#009af9\" fill-rule=\"evenodd\" fill-opacity=\"1\"/>\n<polyline clip-path=\"url(#clip082)\" style=\"stroke:#000000; stroke-linecap:butt; stroke-linejoin:round; stroke-width:4; stroke-opacity:1; fill:none\" points=\"\n  11759.2,1384.24 11759.2,1384.24 11807.4,1384.24 11759.2,1384.24 \n  \"/>\n<path clip-path=\"url(#clip082)\" d=\"\nM11807.4 1384.24 L11807.4 1384.24 L11855.7 1384.24 L11855.7 1384.24 L11807.4 1384.24 L11807.4 1384.24  Z\n  \" fill=\"#009af9\" fill-rule=\"evenodd\" fill-opacity=\"1\"/>\n<polyline clip-path=\"url(#clip082)\" style=\"stroke:#000000; stroke-linecap:butt; stroke-linejoin:round; stroke-width:4; stroke-opacity:1; fill:none\" points=\"\n  11807.4,1384.24 11807.4,1384.24 11855.7,1384.24 11807.4,1384.24 \n  \"/>\n<path clip-path=\"url(#clip082)\" d=\"\nM11855.7 1384.24 L11855.7 1384.24 L11903.9 1384.24 L11903.9 1384.24 L11855.7 1384.24 L11855.7 1384.24  Z\n  \" fill=\"#009af9\" fill-rule=\"evenodd\" fill-opacity=\"1\"/>\n<polyline clip-path=\"url(#clip082)\" style=\"stroke:#000000; stroke-linecap:butt; stroke-linejoin:round; stroke-width:4; stroke-opacity:1; fill:none\" points=\"\n  11855.7,1384.24 11855.7,1384.24 11903.9,1384.24 11855.7,1384.24 \n  \"/>\n<path clip-path=\"url(#clip082)\" d=\"\nM11903.9 1384.24 L11903.9 1384.24 L11952.2 1384.24 L11952.2 1384.24 L11903.9 1384.24 L11903.9 1384.24  Z\n  \" fill=\"#009af9\" fill-rule=\"evenodd\" fill-opacity=\"1\"/>\n<polyline clip-path=\"url(#clip082)\" style=\"stroke:#000000; stroke-linecap:butt; stroke-linejoin:round; stroke-width:4; stroke-opacity:1; fill:none\" points=\"\n  11903.9,1384.24 11903.9,1384.24 11952.2,1384.24 11903.9,1384.24 \n  \"/>\n<path clip-path=\"url(#clip082)\" d=\"\nM11952.2 1384.24 L11952.2 1384.24 L12000.5 1384.24 L12000.5 1384.24 L11952.2 1384.24 L11952.2 1384.24  Z\n  \" fill=\"#009af9\" fill-rule=\"evenodd\" fill-opacity=\"1\"/>\n<polyline clip-path=\"url(#clip082)\" style=\"stroke:#000000; stroke-linecap:butt; stroke-linejoin:round; stroke-width:4; stroke-opacity:1; fill:none\" points=\"\n  11952.2,1384.24 11952.2,1384.24 12000.5,1384.24 11952.2,1384.24 \n  \"/>\n<path clip-path=\"url(#clip082)\" d=\"\nM12000.5 1266.23 L12000.5 1384.24 L12048.7 1384.24 L12048.7 1266.23 L12000.5 1266.23 L12000.5 1266.23  Z\n  \" fill=\"#009af9\" fill-rule=\"evenodd\" fill-opacity=\"1\"/>\n<polyline clip-path=\"url(#clip082)\" style=\"stroke:#000000; stroke-linecap:butt; stroke-linejoin:round; stroke-width:4; stroke-opacity:1; fill:none\" points=\"\n  12000.5,1266.23 12000.5,1384.24 12048.7,1384.24 12048.7,1266.23 12000.5,1266.23 \n  \"/>\n<path clip-path=\"url(#clip082)\" d=\"\nM12048.7 1384.24 L12048.7 1384.24 L12097 1384.24 L12097 1384.24 L12048.7 1384.24 L12048.7 1384.24  Z\n  \" fill=\"#009af9\" fill-rule=\"evenodd\" fill-opacity=\"1\"/>\n<polyline clip-path=\"url(#clip082)\" style=\"stroke:#000000; stroke-linecap:butt; stroke-linejoin:round; stroke-width:4; stroke-opacity:1; fill:none\" points=\"\n  12048.7,1384.24 12048.7,1384.24 12097,1384.24 12048.7,1384.24 \n  \"/>\n<path clip-path=\"url(#clip082)\" d=\"\nM12097 1384.24 L12097 1384.24 L12145.2 1384.24 L12145.2 1384.24 L12097 1384.24 L12097 1384.24  Z\n  \" fill=\"#009af9\" fill-rule=\"evenodd\" fill-opacity=\"1\"/>\n<polyline clip-path=\"url(#clip082)\" style=\"stroke:#000000; stroke-linecap:butt; stroke-linejoin:round; stroke-width:4; stroke-opacity:1; fill:none\" points=\"\n  12097,1384.24 12097,1384.24 12145.2,1384.24 12097,1384.24 \n  \"/>\n<path clip-path=\"url(#clip082)\" d=\"\nM12145.2 1384.24 L12145.2 1384.24 L12193.5 1384.24 L12193.5 1384.24 L12145.2 1384.24 L12145.2 1384.24  Z\n  \" fill=\"#009af9\" fill-rule=\"evenodd\" fill-opacity=\"1\"/>\n<polyline clip-path=\"url(#clip082)\" style=\"stroke:#000000; stroke-linecap:butt; stroke-linejoin:round; stroke-width:4; stroke-opacity:1; fill:none\" points=\"\n  12145.2,1384.24 12145.2,1384.24 12193.5,1384.24 12145.2,1384.24 \n  \"/>\n<path clip-path=\"url(#clip082)\" d=\"\nM12193.5 1384.24 L12193.5 1384.24 L12241.8 1384.24 L12241.8 1384.24 L12193.5 1384.24 L12193.5 1384.24  Z\n  \" fill=\"#009af9\" fill-rule=\"evenodd\" fill-opacity=\"1\"/>\n<polyline clip-path=\"url(#clip082)\" style=\"stroke:#000000; stroke-linecap:butt; stroke-linejoin:round; stroke-width:4; stroke-opacity:1; fill:none\" points=\"\n  12193.5,1384.24 12193.5,1384.24 12241.8,1384.24 12193.5,1384.24 \n  \"/>\n<path clip-path=\"url(#clip082)\" d=\"\nM12241.8 1266.23 L12241.8 1384.24 L12290 1384.24 L12290 1266.23 L12241.8 1266.23 L12241.8 1266.23  Z\n  \" fill=\"#009af9\" fill-rule=\"evenodd\" fill-opacity=\"1\"/>\n<polyline clip-path=\"url(#clip082)\" style=\"stroke:#000000; stroke-linecap:butt; stroke-linejoin:round; stroke-width:4; stroke-opacity:1; fill:none\" points=\"\n  12241.8,1266.23 12241.8,1384.24 12290,1384.24 12290,1266.23 12241.8,1266.23 \n  \"/>\n<path clip-path=\"url(#clip082)\" d=\"\nM12290 1384.24 L12290 1384.24 L12338.3 1384.24 L12338.3 1384.24 L12290 1384.24 L12290 1384.24  Z\n  \" fill=\"#009af9\" fill-rule=\"evenodd\" fill-opacity=\"1\"/>\n<polyline clip-path=\"url(#clip082)\" style=\"stroke:#000000; stroke-linecap:butt; stroke-linejoin:round; stroke-width:4; stroke-opacity:1; fill:none\" points=\"\n  12290,1384.24 12290,1384.24 12338.3,1384.24 12290,1384.24 \n  \"/>\n<path clip-path=\"url(#clip082)\" d=\"\nM12338.3 1384.24 L12338.3 1384.24 L12386.5 1384.24 L12386.5 1384.24 L12338.3 1384.24 L12338.3 1384.24  Z\n  \" fill=\"#009af9\" fill-rule=\"evenodd\" fill-opacity=\"1\"/>\n<polyline clip-path=\"url(#clip082)\" style=\"stroke:#000000; stroke-linecap:butt; stroke-linejoin:round; stroke-width:4; stroke-opacity:1; fill:none\" points=\"\n  12338.3,1384.24 12338.3,1384.24 12386.5,1384.24 12338.3,1384.24 \n  \"/>\n<path clip-path=\"url(#clip082)\" d=\"\nM12386.5 1384.24 L12386.5 1384.24 L12434.8 1384.24 L12434.8 1384.24 L12386.5 1384.24 L12386.5 1384.24  Z\n  \" fill=\"#009af9\" fill-rule=\"evenodd\" fill-opacity=\"1\"/>\n<polyline clip-path=\"url(#clip082)\" style=\"stroke:#000000; stroke-linecap:butt; stroke-linejoin:round; stroke-width:4; stroke-opacity:1; fill:none\" points=\"\n  12386.5,1384.24 12386.5,1384.24 12434.8,1384.24 12386.5,1384.24 \n  \"/>\n<path clip-path=\"url(#clip082)\" d=\"\nM12434.8 1384.24 L12434.8 1384.24 L12483 1384.24 L12483 1384.24 L12434.8 1384.24 L12434.8 1384.24  Z\n  \" fill=\"#009af9\" fill-rule=\"evenodd\" fill-opacity=\"1\"/>\n<polyline clip-path=\"url(#clip082)\" style=\"stroke:#000000; stroke-linecap:butt; stroke-linejoin:round; stroke-width:4; stroke-opacity:1; fill:none\" points=\"\n  12434.8,1384.24 12434.8,1384.24 12483,1384.24 12434.8,1384.24 \n  \"/>\n<path clip-path=\"url(#clip082)\" d=\"\nM12483 1384.24 L12483 1384.24 L12531.3 1384.24 L12531.3 1384.24 L12483 1384.24 L12483 1384.24  Z\n  \" fill=\"#009af9\" fill-rule=\"evenodd\" fill-opacity=\"1\"/>\n<polyline clip-path=\"url(#clip082)\" style=\"stroke:#000000; stroke-linecap:butt; stroke-linejoin:round; stroke-width:4; stroke-opacity:1; fill:none\" points=\"\n  12483,1384.24 12483,1384.24 12531.3,1384.24 12483,1384.24 \n  \"/>\n<path clip-path=\"url(#clip082)\" d=\"\nM12531.3 1384.24 L12531.3 1384.24 L12579.6 1384.24 L12579.6 1384.24 L12531.3 1384.24 L12531.3 1384.24  Z\n  \" fill=\"#009af9\" fill-rule=\"evenodd\" fill-opacity=\"1\"/>\n<polyline clip-path=\"url(#clip082)\" style=\"stroke:#000000; stroke-linecap:butt; stroke-linejoin:round; stroke-width:4; stroke-opacity:1; fill:none\" points=\"\n  12531.3,1384.24 12531.3,1384.24 12579.6,1384.24 12531.3,1384.24 \n  \"/>\n<path clip-path=\"url(#clip082)\" d=\"\nM12579.6 1384.24 L12579.6 1384.24 L12627.8 1384.24 L12627.8 1384.24 L12579.6 1384.24 L12579.6 1384.24  Z\n  \" fill=\"#009af9\" fill-rule=\"evenodd\" fill-opacity=\"1\"/>\n<polyline clip-path=\"url(#clip082)\" style=\"stroke:#000000; stroke-linecap:butt; stroke-linejoin:round; stroke-width:4; stroke-opacity:1; fill:none\" points=\"\n  12579.6,1384.24 12579.6,1384.24 12627.8,1384.24 12579.6,1384.24 \n  \"/>\n<path clip-path=\"url(#clip082)\" d=\"\nM12627.8 1384.24 L12627.8 1384.24 L12676.1 1384.24 L12676.1 1384.24 L12627.8 1384.24 L12627.8 1384.24  Z\n  \" fill=\"#009af9\" fill-rule=\"evenodd\" fill-opacity=\"1\"/>\n<polyline clip-path=\"url(#clip082)\" style=\"stroke:#000000; stroke-linecap:butt; stroke-linejoin:round; stroke-width:4; stroke-opacity:1; fill:none\" points=\"\n  12627.8,1384.24 12627.8,1384.24 12676.1,1384.24 12627.8,1384.24 \n  \"/>\n<path clip-path=\"url(#clip082)\" d=\"\nM12676.1 1384.24 L12676.1 1384.24 L12724.3 1384.24 L12724.3 1384.24 L12676.1 1384.24 L12676.1 1384.24  Z\n  \" fill=\"#009af9\" fill-rule=\"evenodd\" fill-opacity=\"1\"/>\n<polyline clip-path=\"url(#clip082)\" style=\"stroke:#000000; stroke-linecap:butt; stroke-linejoin:round; stroke-width:4; stroke-opacity:1; fill:none\" points=\"\n  12676.1,1384.24 12676.1,1384.24 12724.3,1384.24 12676.1,1384.24 \n  \"/>\n<path clip-path=\"url(#clip082)\" d=\"\nM12724.3 1384.24 L12724.3 1384.24 L12772.6 1384.24 L12772.6 1384.24 L12724.3 1384.24 L12724.3 1384.24  Z\n  \" fill=\"#009af9\" fill-rule=\"evenodd\" fill-opacity=\"1\"/>\n<polyline clip-path=\"url(#clip082)\" style=\"stroke:#000000; stroke-linecap:butt; stroke-linejoin:round; stroke-width:4; stroke-opacity:1; fill:none\" points=\"\n  12724.3,1384.24 12724.3,1384.24 12772.6,1384.24 12724.3,1384.24 \n  \"/>\n<path clip-path=\"url(#clip082)\" d=\"\nM12772.6 1384.24 L12772.6 1384.24 L12820.9 1384.24 L12820.9 1384.24 L12772.6 1384.24 L12772.6 1384.24  Z\n  \" fill=\"#009af9\" fill-rule=\"evenodd\" fill-opacity=\"1\"/>\n<polyline clip-path=\"url(#clip082)\" style=\"stroke:#000000; stroke-linecap:butt; stroke-linejoin:round; stroke-width:4; stroke-opacity:1; fill:none\" points=\"\n  12772.6,1384.24 12772.6,1384.24 12820.9,1384.24 12772.6,1384.24 \n  \"/>\n<path clip-path=\"url(#clip082)\" d=\"\nM12820.9 1384.24 L12820.9 1384.24 L12869.1 1384.24 L12869.1 1384.24 L12820.9 1384.24 L12820.9 1384.24  Z\n  \" fill=\"#009af9\" fill-rule=\"evenodd\" fill-opacity=\"1\"/>\n<polyline clip-path=\"url(#clip082)\" style=\"stroke:#000000; stroke-linecap:butt; stroke-linejoin:round; stroke-width:4; stroke-opacity:1; fill:none\" points=\"\n  12820.9,1384.24 12820.9,1384.24 12869.1,1384.24 12820.9,1384.24 \n  \"/>\n<path clip-path=\"url(#clip082)\" d=\"\nM12869.1 1384.24 L12869.1 1384.24 L12917.4 1384.24 L12917.4 1384.24 L12869.1 1384.24 L12869.1 1384.24  Z\n  \" fill=\"#009af9\" fill-rule=\"evenodd\" fill-opacity=\"1\"/>\n<polyline clip-path=\"url(#clip082)\" style=\"stroke:#000000; stroke-linecap:butt; stroke-linejoin:round; stroke-width:4; stroke-opacity:1; fill:none\" points=\"\n  12869.1,1384.24 12869.1,1384.24 12917.4,1384.24 12869.1,1384.24 \n  \"/>\n<path clip-path=\"url(#clip082)\" d=\"\nM12917.4 1384.24 L12917.4 1384.24 L12965.6 1384.24 L12965.6 1384.24 L12917.4 1384.24 L12917.4 1384.24  Z\n  \" fill=\"#009af9\" fill-rule=\"evenodd\" fill-opacity=\"1\"/>\n<polyline clip-path=\"url(#clip082)\" style=\"stroke:#000000; stroke-linecap:butt; stroke-linejoin:round; stroke-width:4; stroke-opacity:1; fill:none\" points=\"\n  12917.4,1384.24 12917.4,1384.24 12965.6,1384.24 12917.4,1384.24 \n  \"/>\n<path clip-path=\"url(#clip082)\" d=\"\nM12965.6 1384.24 L12965.6 1384.24 L13013.9 1384.24 L13013.9 1384.24 L12965.6 1384.24 L12965.6 1384.24  Z\n  \" fill=\"#009af9\" fill-rule=\"evenodd\" fill-opacity=\"1\"/>\n<polyline clip-path=\"url(#clip082)\" style=\"stroke:#000000; stroke-linecap:butt; stroke-linejoin:round; stroke-width:4; stroke-opacity:1; fill:none\" points=\"\n  12965.6,1384.24 12965.6,1384.24 13013.9,1384.24 12965.6,1384.24 \n  \"/>\n<path clip-path=\"url(#clip082)\" d=\"\nM13013.9 1384.24 L13013.9 1384.24 L13062.2 1384.24 L13062.2 1384.24 L13013.9 1384.24 L13013.9 1384.24  Z\n  \" fill=\"#009af9\" fill-rule=\"evenodd\" fill-opacity=\"1\"/>\n<polyline clip-path=\"url(#clip082)\" style=\"stroke:#000000; stroke-linecap:butt; stroke-linejoin:round; stroke-width:4; stroke-opacity:1; fill:none\" points=\"\n  13013.9,1384.24 13013.9,1384.24 13062.2,1384.24 13013.9,1384.24 \n  \"/>\n<path clip-path=\"url(#clip082)\" d=\"\nM13062.2 1384.24 L13062.2 1384.24 L13110.4 1384.24 L13110.4 1384.24 L13062.2 1384.24 L13062.2 1384.24  Z\n  \" fill=\"#009af9\" fill-rule=\"evenodd\" fill-opacity=\"1\"/>\n<polyline clip-path=\"url(#clip082)\" style=\"stroke:#000000; stroke-linecap:butt; stroke-linejoin:round; stroke-width:4; stroke-opacity:1; fill:none\" points=\"\n  13062.2,1384.24 13062.2,1384.24 13110.4,1384.24 13062.2,1384.24 \n  \"/>\n<path clip-path=\"url(#clip082)\" d=\"\nM13110.4 1384.24 L13110.4 1384.24 L13158.7 1384.24 L13158.7 1384.24 L13110.4 1384.24 L13110.4 1384.24  Z\n  \" fill=\"#009af9\" fill-rule=\"evenodd\" fill-opacity=\"1\"/>\n<polyline clip-path=\"url(#clip082)\" style=\"stroke:#000000; stroke-linecap:butt; stroke-linejoin:round; stroke-width:4; stroke-opacity:1; fill:none\" points=\"\n  13110.4,1384.24 13110.4,1384.24 13158.7,1384.24 13110.4,1384.24 \n  \"/>\n<path clip-path=\"url(#clip082)\" d=\"\nM13158.7 1384.24 L13158.7 1384.24 L13206.9 1384.24 L13206.9 1384.24 L13158.7 1384.24 L13158.7 1384.24  Z\n  \" fill=\"#009af9\" fill-rule=\"evenodd\" fill-opacity=\"1\"/>\n<polyline clip-path=\"url(#clip082)\" style=\"stroke:#000000; stroke-linecap:butt; stroke-linejoin:round; stroke-width:4; stroke-opacity:1; fill:none\" points=\"\n  13158.7,1384.24 13158.7,1384.24 13206.9,1384.24 13158.7,1384.24 \n  \"/>\n<path clip-path=\"url(#clip082)\" d=\"\nM13206.9 1384.24 L13206.9 1384.24 L13255.2 1384.24 L13255.2 1384.24 L13206.9 1384.24 L13206.9 1384.24  Z\n  \" fill=\"#009af9\" fill-rule=\"evenodd\" fill-opacity=\"1\"/>\n<polyline clip-path=\"url(#clip082)\" style=\"stroke:#000000; stroke-linecap:butt; stroke-linejoin:round; stroke-width:4; stroke-opacity:1; fill:none\" points=\"\n  13206.9,1384.24 13206.9,1384.24 13255.2,1384.24 13206.9,1384.24 \n  \"/>\n<path clip-path=\"url(#clip082)\" d=\"\nM13255.2 1384.24 L13255.2 1384.24 L13303.4 1384.24 L13303.4 1384.24 L13255.2 1384.24 L13255.2 1384.24  Z\n  \" fill=\"#009af9\" fill-rule=\"evenodd\" fill-opacity=\"1\"/>\n<polyline clip-path=\"url(#clip082)\" style=\"stroke:#000000; stroke-linecap:butt; stroke-linejoin:round; stroke-width:4; stroke-opacity:1; fill:none\" points=\"\n  13255.2,1384.24 13255.2,1384.24 13303.4,1384.24 13255.2,1384.24 \n  \"/>\n<path clip-path=\"url(#clip082)\" d=\"\nM13303.4 1384.24 L13303.4 1384.24 L13351.7 1384.24 L13351.7 1384.24 L13303.4 1384.24 L13303.4 1384.24  Z\n  \" fill=\"#009af9\" fill-rule=\"evenodd\" fill-opacity=\"1\"/>\n<polyline clip-path=\"url(#clip082)\" style=\"stroke:#000000; stroke-linecap:butt; stroke-linejoin:round; stroke-width:4; stroke-opacity:1; fill:none\" points=\"\n  13303.4,1384.24 13303.4,1384.24 13351.7,1384.24 13303.4,1384.24 \n  \"/>\n<path clip-path=\"url(#clip082)\" d=\"\nM13351.7 1384.24 L13351.7 1384.24 L13400 1384.24 L13400 1384.24 L13351.7 1384.24 L13351.7 1384.24  Z\n  \" fill=\"#009af9\" fill-rule=\"evenodd\" fill-opacity=\"1\"/>\n<polyline clip-path=\"url(#clip082)\" style=\"stroke:#000000; stroke-linecap:butt; stroke-linejoin:round; stroke-width:4; stroke-opacity:1; fill:none\" points=\"\n  13351.7,1384.24 13351.7,1384.24 13400,1384.24 13351.7,1384.24 \n  \"/>\n<path clip-path=\"url(#clip082)\" d=\"\nM13400 1384.24 L13400 1384.24 L13448.2 1384.24 L13448.2 1384.24 L13400 1384.24 L13400 1384.24  Z\n  \" fill=\"#009af9\" fill-rule=\"evenodd\" fill-opacity=\"1\"/>\n<polyline clip-path=\"url(#clip082)\" style=\"stroke:#000000; stroke-linecap:butt; stroke-linejoin:round; stroke-width:4; stroke-opacity:1; fill:none\" points=\"\n  13400,1384.24 13400,1384.24 13448.2,1384.24 13400,1384.24 \n  \"/>\n<path clip-path=\"url(#clip082)\" d=\"\nM13448.2 1384.24 L13448.2 1384.24 L13496.5 1384.24 L13496.5 1384.24 L13448.2 1384.24 L13448.2 1384.24  Z\n  \" fill=\"#009af9\" fill-rule=\"evenodd\" fill-opacity=\"1\"/>\n<polyline clip-path=\"url(#clip082)\" style=\"stroke:#000000; stroke-linecap:butt; stroke-linejoin:round; stroke-width:4; stroke-opacity:1; fill:none\" points=\"\n  13448.2,1384.24 13448.2,1384.24 13496.5,1384.24 13448.2,1384.24 \n  \"/>\n<path clip-path=\"url(#clip082)\" d=\"\nM13496.5 1384.24 L13496.5 1384.24 L13544.7 1384.24 L13544.7 1384.24 L13496.5 1384.24 L13496.5 1384.24  Z\n  \" fill=\"#009af9\" fill-rule=\"evenodd\" fill-opacity=\"1\"/>\n<polyline clip-path=\"url(#clip082)\" style=\"stroke:#000000; stroke-linecap:butt; stroke-linejoin:round; stroke-width:4; stroke-opacity:1; fill:none\" points=\"\n  13496.5,1384.24 13496.5,1384.24 13544.7,1384.24 13496.5,1384.24 \n  \"/>\n<path clip-path=\"url(#clip082)\" d=\"\nM13544.7 1384.24 L13544.7 1384.24 L13593 1384.24 L13593 1384.24 L13544.7 1384.24 L13544.7 1384.24  Z\n  \" fill=\"#009af9\" fill-rule=\"evenodd\" fill-opacity=\"1\"/>\n<polyline clip-path=\"url(#clip082)\" style=\"stroke:#000000; stroke-linecap:butt; stroke-linejoin:round; stroke-width:4; stroke-opacity:1; fill:none\" points=\"\n  13544.7,1384.24 13544.7,1384.24 13593,1384.24 13544.7,1384.24 \n  \"/>\n<path clip-path=\"url(#clip082)\" d=\"\nM13593 1384.24 L13593 1384.24 L13641.3 1384.24 L13641.3 1384.24 L13593 1384.24 L13593 1384.24  Z\n  \" fill=\"#009af9\" fill-rule=\"evenodd\" fill-opacity=\"1\"/>\n<polyline clip-path=\"url(#clip082)\" style=\"stroke:#000000; stroke-linecap:butt; stroke-linejoin:round; stroke-width:4; stroke-opacity:1; fill:none\" points=\"\n  13593,1384.24 13593,1384.24 13641.3,1384.24 13593,1384.24 \n  \"/>\n<path clip-path=\"url(#clip082)\" d=\"\nM13641.3 1384.24 L13641.3 1384.24 L13689.5 1384.24 L13689.5 1384.24 L13641.3 1384.24 L13641.3 1384.24  Z\n  \" fill=\"#009af9\" fill-rule=\"evenodd\" fill-opacity=\"1\"/>\n<polyline clip-path=\"url(#clip082)\" style=\"stroke:#000000; stroke-linecap:butt; stroke-linejoin:round; stroke-width:4; stroke-opacity:1; fill:none\" points=\"\n  13641.3,1384.24 13641.3,1384.24 13689.5,1384.24 13641.3,1384.24 \n  \"/>\n<path clip-path=\"url(#clip082)\" d=\"\nM13689.5 1384.24 L13689.5 1384.24 L13737.8 1384.24 L13737.8 1384.24 L13689.5 1384.24 L13689.5 1384.24  Z\n  \" fill=\"#009af9\" fill-rule=\"evenodd\" fill-opacity=\"1\"/>\n<polyline clip-path=\"url(#clip082)\" style=\"stroke:#000000; stroke-linecap:butt; stroke-linejoin:round; stroke-width:4; stroke-opacity:1; fill:none\" points=\"\n  13689.5,1384.24 13689.5,1384.24 13737.8,1384.24 13689.5,1384.24 \n  \"/>\n<path clip-path=\"url(#clip082)\" d=\"\nM13737.8 1384.24 L13737.8 1384.24 L13786 1384.24 L13786 1384.24 L13737.8 1384.24 L13737.8 1384.24  Z\n  \" fill=\"#009af9\" fill-rule=\"evenodd\" fill-opacity=\"1\"/>\n<polyline clip-path=\"url(#clip082)\" style=\"stroke:#000000; stroke-linecap:butt; stroke-linejoin:round; stroke-width:4; stroke-opacity:1; fill:none\" points=\"\n  13737.8,1384.24 13737.8,1384.24 13786,1384.24 13737.8,1384.24 \n  \"/>\n<path clip-path=\"url(#clip082)\" d=\"\nM13786 1384.24 L13786 1384.24 L13834.3 1384.24 L13834.3 1384.24 L13786 1384.24 L13786 1384.24  Z\n  \" fill=\"#009af9\" fill-rule=\"evenodd\" fill-opacity=\"1\"/>\n<polyline clip-path=\"url(#clip082)\" style=\"stroke:#000000; stroke-linecap:butt; stroke-linejoin:round; stroke-width:4; stroke-opacity:1; fill:none\" points=\"\n  13786,1384.24 13786,1384.24 13834.3,1384.24 13786,1384.24 \n  \"/>\n<path clip-path=\"url(#clip082)\" d=\"\nM13834.3 1384.24 L13834.3 1384.24 L13882.6 1384.24 L13882.6 1384.24 L13834.3 1384.24 L13834.3 1384.24  Z\n  \" fill=\"#009af9\" fill-rule=\"evenodd\" fill-opacity=\"1\"/>\n<polyline clip-path=\"url(#clip082)\" style=\"stroke:#000000; stroke-linecap:butt; stroke-linejoin:round; stroke-width:4; stroke-opacity:1; fill:none\" points=\"\n  13834.3,1384.24 13834.3,1384.24 13882.6,1384.24 13834.3,1384.24 \n  \"/>\n<path clip-path=\"url(#clip082)\" d=\"\nM13882.6 1384.24 L13882.6 1384.24 L13930.8 1384.24 L13930.8 1384.24 L13882.6 1384.24 L13882.6 1384.24  Z\n  \" fill=\"#009af9\" fill-rule=\"evenodd\" fill-opacity=\"1\"/>\n<polyline clip-path=\"url(#clip082)\" style=\"stroke:#000000; stroke-linecap:butt; stroke-linejoin:round; stroke-width:4; stroke-opacity:1; fill:none\" points=\"\n  13882.6,1384.24 13882.6,1384.24 13930.8,1384.24 13882.6,1384.24 \n  \"/>\n<path clip-path=\"url(#clip082)\" d=\"\nM13930.8 1384.24 L13930.8 1384.24 L13979.1 1384.24 L13979.1 1384.24 L13930.8 1384.24 L13930.8 1384.24  Z\n  \" fill=\"#009af9\" fill-rule=\"evenodd\" fill-opacity=\"1\"/>\n<polyline clip-path=\"url(#clip082)\" style=\"stroke:#000000; stroke-linecap:butt; stroke-linejoin:round; stroke-width:4; stroke-opacity:1; fill:none\" points=\"\n  13930.8,1384.24 13930.8,1384.24 13979.1,1384.24 13930.8,1384.24 \n  \"/>\n<path clip-path=\"url(#clip082)\" d=\"\nM13979.1 1384.24 L13979.1 1384.24 L14027.3 1384.24 L14027.3 1384.24 L13979.1 1384.24 L13979.1 1384.24  Z\n  \" fill=\"#009af9\" fill-rule=\"evenodd\" fill-opacity=\"1\"/>\n<polyline clip-path=\"url(#clip082)\" style=\"stroke:#000000; stroke-linecap:butt; stroke-linejoin:round; stroke-width:4; stroke-opacity:1; fill:none\" points=\"\n  13979.1,1384.24 13979.1,1384.24 14027.3,1384.24 13979.1,1384.24 \n  \"/>\n<path clip-path=\"url(#clip082)\" d=\"\nM14027.3 1384.24 L14027.3 1384.24 L14075.6 1384.24 L14075.6 1384.24 L14027.3 1384.24 L14027.3 1384.24  Z\n  \" fill=\"#009af9\" fill-rule=\"evenodd\" fill-opacity=\"1\"/>\n<polyline clip-path=\"url(#clip082)\" style=\"stroke:#000000; stroke-linecap:butt; stroke-linejoin:round; stroke-width:4; stroke-opacity:1; fill:none\" points=\"\n  14027.3,1384.24 14027.3,1384.24 14075.6,1384.24 14027.3,1384.24 \n  \"/>\n<path clip-path=\"url(#clip082)\" d=\"\nM14075.6 1384.24 L14075.6 1384.24 L14123.8 1384.24 L14123.8 1384.24 L14075.6 1384.24 L14075.6 1384.24  Z\n  \" fill=\"#009af9\" fill-rule=\"evenodd\" fill-opacity=\"1\"/>\n<polyline clip-path=\"url(#clip082)\" style=\"stroke:#000000; stroke-linecap:butt; stroke-linejoin:round; stroke-width:4; stroke-opacity:1; fill:none\" points=\"\n  14075.6,1384.24 14075.6,1384.24 14123.8,1384.24 14075.6,1384.24 \n  \"/>\n<path clip-path=\"url(#clip082)\" d=\"\nM14123.8 1384.24 L14123.8 1384.24 L14172.1 1384.24 L14172.1 1384.24 L14123.8 1384.24 L14123.8 1384.24  Z\n  \" fill=\"#009af9\" fill-rule=\"evenodd\" fill-opacity=\"1\"/>\n<polyline clip-path=\"url(#clip082)\" style=\"stroke:#000000; stroke-linecap:butt; stroke-linejoin:round; stroke-width:4; stroke-opacity:1; fill:none\" points=\"\n  14123.8,1384.24 14123.8,1384.24 14172.1,1384.24 14123.8,1384.24 \n  \"/>\n<path clip-path=\"url(#clip082)\" d=\"\nM14172.1 1384.24 L14172.1 1384.24 L14220.4 1384.24 L14220.4 1384.24 L14172.1 1384.24 L14172.1 1384.24  Z\n  \" fill=\"#009af9\" fill-rule=\"evenodd\" fill-opacity=\"1\"/>\n<polyline clip-path=\"url(#clip082)\" style=\"stroke:#000000; stroke-linecap:butt; stroke-linejoin:round; stroke-width:4; stroke-opacity:1; fill:none\" points=\"\n  14172.1,1384.24 14172.1,1384.24 14220.4,1384.24 14172.1,1384.24 \n  \"/>\n<path clip-path=\"url(#clip082)\" d=\"\nM14220.4 1384.24 L14220.4 1384.24 L14268.6 1384.24 L14268.6 1384.24 L14220.4 1384.24 L14220.4 1384.24  Z\n  \" fill=\"#009af9\" fill-rule=\"evenodd\" fill-opacity=\"1\"/>\n<polyline clip-path=\"url(#clip082)\" style=\"stroke:#000000; stroke-linecap:butt; stroke-linejoin:round; stroke-width:4; stroke-opacity:1; fill:none\" points=\"\n  14220.4,1384.24 14220.4,1384.24 14268.6,1384.24 14220.4,1384.24 \n  \"/>\n<path clip-path=\"url(#clip082)\" d=\"\nM14268.6 1384.24 L14268.6 1384.24 L14316.9 1384.24 L14316.9 1384.24 L14268.6 1384.24 L14268.6 1384.24  Z\n  \" fill=\"#009af9\" fill-rule=\"evenodd\" fill-opacity=\"1\"/>\n<polyline clip-path=\"url(#clip082)\" style=\"stroke:#000000; stroke-linecap:butt; stroke-linejoin:round; stroke-width:4; stroke-opacity:1; fill:none\" points=\"\n  14268.6,1384.24 14268.6,1384.24 14316.9,1384.24 14268.6,1384.24 \n  \"/>\n<path clip-path=\"url(#clip082)\" d=\"\nM14316.9 1384.24 L14316.9 1384.24 L14365.1 1384.24 L14365.1 1384.24 L14316.9 1384.24 L14316.9 1384.24  Z\n  \" fill=\"#009af9\" fill-rule=\"evenodd\" fill-opacity=\"1\"/>\n<polyline clip-path=\"url(#clip082)\" style=\"stroke:#000000; stroke-linecap:butt; stroke-linejoin:round; stroke-width:4; stroke-opacity:1; fill:none\" points=\"\n  14316.9,1384.24 14316.9,1384.24 14365.1,1384.24 14316.9,1384.24 \n  \"/>\n<path clip-path=\"url(#clip082)\" d=\"\nM14365.1 1384.24 L14365.1 1384.24 L14413.4 1384.24 L14413.4 1384.24 L14365.1 1384.24 L14365.1 1384.24  Z\n  \" fill=\"#009af9\" fill-rule=\"evenodd\" fill-opacity=\"1\"/>\n<polyline clip-path=\"url(#clip082)\" style=\"stroke:#000000; stroke-linecap:butt; stroke-linejoin:round; stroke-width:4; stroke-opacity:1; fill:none\" points=\"\n  14365.1,1384.24 14365.1,1384.24 14413.4,1384.24 14365.1,1384.24 \n  \"/>\n<path clip-path=\"url(#clip082)\" d=\"\nM14413.4 1384.24 L14413.4 1384.24 L14461.7 1384.24 L14461.7 1384.24 L14413.4 1384.24 L14413.4 1384.24  Z\n  \" fill=\"#009af9\" fill-rule=\"evenodd\" fill-opacity=\"1\"/>\n<polyline clip-path=\"url(#clip082)\" style=\"stroke:#000000; stroke-linecap:butt; stroke-linejoin:round; stroke-width:4; stroke-opacity:1; fill:none\" points=\"\n  14413.4,1384.24 14413.4,1384.24 14461.7,1384.24 14413.4,1384.24 \n  \"/>\n<path clip-path=\"url(#clip082)\" d=\"\nM14461.7 1384.24 L14461.7 1384.24 L14509.9 1384.24 L14509.9 1384.24 L14461.7 1384.24 L14461.7 1384.24  Z\n  \" fill=\"#009af9\" fill-rule=\"evenodd\" fill-opacity=\"1\"/>\n<polyline clip-path=\"url(#clip082)\" style=\"stroke:#000000; stroke-linecap:butt; stroke-linejoin:round; stroke-width:4; stroke-opacity:1; fill:none\" points=\"\n  14461.7,1384.24 14461.7,1384.24 14509.9,1384.24 14461.7,1384.24 \n  \"/>\n<path clip-path=\"url(#clip082)\" d=\"\nM14509.9 1384.24 L14509.9 1384.24 L14558.2 1384.24 L14558.2 1384.24 L14509.9 1384.24 L14509.9 1384.24  Z\n  \" fill=\"#009af9\" fill-rule=\"evenodd\" fill-opacity=\"1\"/>\n<polyline clip-path=\"url(#clip082)\" style=\"stroke:#000000; stroke-linecap:butt; stroke-linejoin:round; stroke-width:4; stroke-opacity:1; fill:none\" points=\"\n  14509.9,1384.24 14509.9,1384.24 14558.2,1384.24 14509.9,1384.24 \n  \"/>\n<path clip-path=\"url(#clip082)\" d=\"\nM14558.2 1384.24 L14558.2 1384.24 L14606.4 1384.24 L14606.4 1384.24 L14558.2 1384.24 L14558.2 1384.24  Z\n  \" fill=\"#009af9\" fill-rule=\"evenodd\" fill-opacity=\"1\"/>\n<polyline clip-path=\"url(#clip082)\" style=\"stroke:#000000; stroke-linecap:butt; stroke-linejoin:round; stroke-width:4; stroke-opacity:1; fill:none\" points=\"\n  14558.2,1384.24 14558.2,1384.24 14606.4,1384.24 14558.2,1384.24 \n  \"/>\n<path clip-path=\"url(#clip082)\" d=\"\nM14606.4 1384.24 L14606.4 1384.24 L14654.7 1384.24 L14654.7 1384.24 L14606.4 1384.24 L14606.4 1384.24  Z\n  \" fill=\"#009af9\" fill-rule=\"evenodd\" fill-opacity=\"1\"/>\n<polyline clip-path=\"url(#clip082)\" style=\"stroke:#000000; stroke-linecap:butt; stroke-linejoin:round; stroke-width:4; stroke-opacity:1; fill:none\" points=\"\n  14606.4,1384.24 14606.4,1384.24 14654.7,1384.24 14606.4,1384.24 \n  \"/>\n<path clip-path=\"url(#clip082)\" d=\"\nM14654.7 1384.24 L14654.7 1384.24 L14703 1384.24 L14703 1384.24 L14654.7 1384.24 L14654.7 1384.24  Z\n  \" fill=\"#009af9\" fill-rule=\"evenodd\" fill-opacity=\"1\"/>\n<polyline clip-path=\"url(#clip082)\" style=\"stroke:#000000; stroke-linecap:butt; stroke-linejoin:round; stroke-width:4; stroke-opacity:1; fill:none\" points=\"\n  14654.7,1384.24 14654.7,1384.24 14703,1384.24 14654.7,1384.24 \n  \"/>\n<path clip-path=\"url(#clip082)\" d=\"\nM14703 1384.24 L14703 1384.24 L14751.2 1384.24 L14751.2 1384.24 L14703 1384.24 L14703 1384.24  Z\n  \" fill=\"#009af9\" fill-rule=\"evenodd\" fill-opacity=\"1\"/>\n<polyline clip-path=\"url(#clip082)\" style=\"stroke:#000000; stroke-linecap:butt; stroke-linejoin:round; stroke-width:4; stroke-opacity:1; fill:none\" points=\"\n  14703,1384.24 14703,1384.24 14751.2,1384.24 14703,1384.24 \n  \"/>\n<path clip-path=\"url(#clip082)\" d=\"\nM14751.2 1384.24 L14751.2 1384.24 L14799.5 1384.24 L14799.5 1384.24 L14751.2 1384.24 L14751.2 1384.24  Z\n  \" fill=\"#009af9\" fill-rule=\"evenodd\" fill-opacity=\"1\"/>\n<polyline clip-path=\"url(#clip082)\" style=\"stroke:#000000; stroke-linecap:butt; stroke-linejoin:round; stroke-width:4; stroke-opacity:1; fill:none\" points=\"\n  14751.2,1384.24 14751.2,1384.24 14799.5,1384.24 14751.2,1384.24 \n  \"/>\n<path clip-path=\"url(#clip082)\" d=\"\nM14799.5 1384.24 L14799.5 1384.24 L14847.7 1384.24 L14847.7 1384.24 L14799.5 1384.24 L14799.5 1384.24  Z\n  \" fill=\"#009af9\" fill-rule=\"evenodd\" fill-opacity=\"1\"/>\n<polyline clip-path=\"url(#clip082)\" style=\"stroke:#000000; stroke-linecap:butt; stroke-linejoin:round; stroke-width:4; stroke-opacity:1; fill:none\" points=\"\n  14799.5,1384.24 14799.5,1384.24 14847.7,1384.24 14799.5,1384.24 \n  \"/>\n<path clip-path=\"url(#clip082)\" d=\"\nM14847.7 1384.24 L14847.7 1384.24 L14896 1384.24 L14896 1384.24 L14847.7 1384.24 L14847.7 1384.24  Z\n  \" fill=\"#009af9\" fill-rule=\"evenodd\" fill-opacity=\"1\"/>\n<polyline clip-path=\"url(#clip082)\" style=\"stroke:#000000; stroke-linecap:butt; stroke-linejoin:round; stroke-width:4; stroke-opacity:1; fill:none\" points=\"\n  14847.7,1384.24 14847.7,1384.24 14896,1384.24 14847.7,1384.24 \n  \"/>\n<path clip-path=\"url(#clip082)\" d=\"\nM14896 1384.24 L14896 1384.24 L14944.2 1384.24 L14944.2 1384.24 L14896 1384.24 L14896 1384.24  Z\n  \" fill=\"#009af9\" fill-rule=\"evenodd\" fill-opacity=\"1\"/>\n<polyline clip-path=\"url(#clip082)\" style=\"stroke:#000000; stroke-linecap:butt; stroke-linejoin:round; stroke-width:4; stroke-opacity:1; fill:none\" points=\"\n  14896,1384.24 14896,1384.24 14944.2,1384.24 14896,1384.24 \n  \"/>\n<path clip-path=\"url(#clip082)\" d=\"\nM14944.2 1266.23 L14944.2 1384.24 L14992.5 1384.24 L14992.5 1266.23 L14944.2 1266.23 L14944.2 1266.23  Z\n  \" fill=\"#009af9\" fill-rule=\"evenodd\" fill-opacity=\"1\"/>\n<polyline clip-path=\"url(#clip082)\" style=\"stroke:#000000; stroke-linecap:butt; stroke-linejoin:round; stroke-width:4; stroke-opacity:1; fill:none\" points=\"\n  14944.2,1266.23 14944.2,1384.24 14992.5,1384.24 14992.5,1266.23 14944.2,1266.23 \n  \"/>\n<circle clip-path=\"url(#clip082)\" style=\"fill:#009af9; stroke:none; fill-opacity:0\" cx=\"297.711\" cy=\"1148.23\" r=\"2\"/>\n<circle clip-path=\"url(#clip082)\" style=\"fill:#009af9; stroke:none; fill-opacity:0\" cx=\"345.969\" cy=\"1148.23\" r=\"2\"/>\n<circle clip-path=\"url(#clip082)\" style=\"fill:#009af9; stroke:none; fill-opacity:0\" cx=\"394.228\" cy=\"1384.24\" r=\"2\"/>\n<circle clip-path=\"url(#clip082)\" style=\"fill:#009af9; stroke:none; fill-opacity:0\" cx=\"442.487\" cy=\"1384.24\" r=\"2\"/>\n<circle clip-path=\"url(#clip082)\" style=\"fill:#009af9; stroke:none; fill-opacity:0\" cx=\"490.746\" cy=\"1148.23\" r=\"2\"/>\n<circle clip-path=\"url(#clip082)\" style=\"fill:#009af9; stroke:none; fill-opacity:0\" cx=\"539.004\" cy=\"1148.23\" r=\"2\"/>\n<circle clip-path=\"url(#clip082)\" style=\"fill:#009af9; stroke:none; fill-opacity:0\" cx=\"587.263\" cy=\"794.214\" r=\"2\"/>\n<circle clip-path=\"url(#clip082)\" style=\"fill:#009af9; stroke:none; fill-opacity:0\" cx=\"635.522\" cy=\"794.214\" r=\"2\"/>\n<circle clip-path=\"url(#clip082)\" style=\"fill:#009af9; stroke:none; fill-opacity:0\" cx=\"683.781\" cy=\"1030.22\" r=\"2\"/>\n<circle clip-path=\"url(#clip082)\" style=\"fill:#009af9; stroke:none; fill-opacity:0\" cx=\"732.039\" cy=\"912.219\" r=\"2\"/>\n<circle clip-path=\"url(#clip082)\" style=\"fill:#009af9; stroke:none; fill-opacity:0\" cx=\"780.298\" cy=\"676.21\" r=\"2\"/>\n<circle clip-path=\"url(#clip082)\" style=\"fill:#009af9; stroke:none; fill-opacity:0\" cx=\"828.557\" cy=\"676.21\" r=\"2\"/>\n<circle clip-path=\"url(#clip082)\" style=\"fill:#009af9; stroke:none; fill-opacity:0\" cx=\"876.816\" cy=\"676.21\" r=\"2\"/>\n<circle clip-path=\"url(#clip082)\" style=\"fill:#009af9; stroke:none; fill-opacity:0\" cx=\"925.075\" cy=\"204.19\" r=\"2\"/>\n<circle clip-path=\"url(#clip082)\" style=\"fill:#009af9; stroke:none; fill-opacity:0\" cx=\"973.333\" cy=\"676.21\" r=\"2\"/>\n<circle clip-path=\"url(#clip082)\" style=\"fill:#009af9; stroke:none; fill-opacity:0\" cx=\"1021.59\" cy=\"204.19\" r=\"2\"/>\n<circle clip-path=\"url(#clip082)\" style=\"fill:#009af9; stroke:none; fill-opacity:0\" cx=\"1069.85\" cy=\"440.2\" r=\"2\"/>\n<circle clip-path=\"url(#clip082)\" style=\"fill:#009af9; stroke:none; fill-opacity:0\" cx=\"1118.11\" cy=\"322.195\" r=\"2\"/>\n<circle clip-path=\"url(#clip082)\" style=\"fill:#009af9; stroke:none; fill-opacity:0\" cx=\"1166.37\" cy=\"322.195\" r=\"2\"/>\n<circle clip-path=\"url(#clip082)\" style=\"fill:#009af9; stroke:none; fill-opacity:0\" cx=\"1214.63\" cy=\"322.195\" r=\"2\"/>\n<circle clip-path=\"url(#clip082)\" style=\"fill:#009af9; stroke:none; fill-opacity:0\" cx=\"1262.89\" cy=\"794.214\" r=\"2\"/>\n<circle clip-path=\"url(#clip082)\" style=\"fill:#009af9; stroke:none; fill-opacity:0\" cx=\"1311.14\" cy=\"204.19\" r=\"2\"/>\n<circle clip-path=\"url(#clip082)\" style=\"fill:#009af9; stroke:none; fill-opacity:0\" cx=\"1359.4\" cy=\"676.21\" r=\"2\"/>\n<circle clip-path=\"url(#clip082)\" style=\"fill:#009af9; stroke:none; fill-opacity:0\" cx=\"1407.66\" cy=\"558.205\" r=\"2\"/>\n<circle clip-path=\"url(#clip082)\" style=\"fill:#009af9; stroke:none; fill-opacity:0\" cx=\"1455.92\" cy=\"794.214\" r=\"2\"/>\n<circle clip-path=\"url(#clip082)\" style=\"fill:#009af9; stroke:none; fill-opacity:0\" cx=\"1504.18\" cy=\"558.205\" r=\"2\"/>\n<circle clip-path=\"url(#clip082)\" style=\"fill:#009af9; stroke:none; fill-opacity:0\" cx=\"1552.44\" cy=\"794.214\" r=\"2\"/>\n<circle clip-path=\"url(#clip082)\" style=\"fill:#009af9; stroke:none; fill-opacity:0\" cx=\"1600.7\" cy=\"794.214\" r=\"2\"/>\n<circle clip-path=\"url(#clip082)\" style=\"fill:#009af9; stroke:none; fill-opacity:0\" cx=\"1648.96\" cy=\"794.214\" r=\"2\"/>\n<circle clip-path=\"url(#clip082)\" style=\"fill:#009af9; stroke:none; fill-opacity:0\" cx=\"1697.21\" cy=\"676.21\" r=\"2\"/>\n<circle clip-path=\"url(#clip082)\" style=\"fill:#009af9; stroke:none; fill-opacity:0\" cx=\"1745.47\" cy=\"86.1857\" r=\"2\"/>\n<circle clip-path=\"url(#clip082)\" style=\"fill:#009af9; stroke:none; fill-opacity:0\" cx=\"1793.73\" cy=\"794.214\" r=\"2\"/>\n<circle clip-path=\"url(#clip082)\" style=\"fill:#009af9; stroke:none; fill-opacity:0\" cx=\"1841.99\" cy=\"912.219\" r=\"2\"/>\n<circle clip-path=\"url(#clip082)\" style=\"fill:#009af9; stroke:none; fill-opacity:0\" cx=\"1890.25\" cy=\"794.214\" r=\"2\"/>\n<circle clip-path=\"url(#clip082)\" style=\"fill:#009af9; stroke:none; fill-opacity:0\" cx=\"1938.51\" cy=\"558.205\" r=\"2\"/>\n<circle clip-path=\"url(#clip082)\" style=\"fill:#009af9; stroke:none; fill-opacity:0\" cx=\"1986.77\" cy=\"912.219\" r=\"2\"/>\n<circle clip-path=\"url(#clip082)\" style=\"fill:#009af9; stroke:none; fill-opacity:0\" cx=\"2035.03\" cy=\"794.214\" r=\"2\"/>\n<circle clip-path=\"url(#clip082)\" style=\"fill:#009af9; stroke:none; fill-opacity:0\" cx=\"2083.28\" cy=\"1030.22\" r=\"2\"/>\n<circle clip-path=\"url(#clip082)\" style=\"fill:#009af9; stroke:none; fill-opacity:0\" cx=\"2131.54\" cy=\"676.21\" r=\"2\"/>\n<circle clip-path=\"url(#clip082)\" style=\"fill:#009af9; stroke:none; fill-opacity:0\" cx=\"2179.8\" cy=\"912.219\" r=\"2\"/>\n<circle clip-path=\"url(#clip082)\" style=\"fill:#009af9; stroke:none; fill-opacity:0\" cx=\"2228.06\" cy=\"794.214\" r=\"2\"/>\n<circle clip-path=\"url(#clip082)\" style=\"fill:#009af9; stroke:none; fill-opacity:0\" cx=\"2276.32\" cy=\"912.219\" r=\"2\"/>\n<circle clip-path=\"url(#clip082)\" style=\"fill:#009af9; stroke:none; fill-opacity:0\" cx=\"2324.58\" cy=\"1148.23\" r=\"2\"/>\n</svg>\n"
     },
     "execution_count": 20,
     "metadata": {},
     "output_type": "execute_result"
    }
   ],
   "source": [
    "using Statistics # bring in statistical support for standard deviations\n",
    "t = c_bench.times / 1e6 # times in milliseconds\n",
    "m, σ = minimum(t), std(t)\n",
    "\n",
    "histogram(t, bins=500,\n",
    "    xlim=(m - 0.01, m + σ),\n",
    "    xlabel=\"milliseconds\", ylabel=\"count\", label=\"\")"
   ]
  },
  {
   "cell_type": "markdown",
   "metadata": {},
   "source": [
    "# 2. C with -ffast-math\n",
    "\n",
    "If we allow C to re-arrange the floating point operations, then it'll vectorize with SIMD (single instruction, multiple data) instructions."
   ]
  },
  {
   "cell_type": "code",
   "execution_count": 21,
   "metadata": {},
   "outputs": [
    {
     "data": {
      "text/plain": [
       "c_sum_fastmath (generic function with 1 method)"
      ]
     },
     "execution_count": 21,
     "metadata": {},
     "output_type": "execute_result"
    }
   ],
   "source": [
    "const Clib_fastmath = tempname()   # make a temporary file\n",
    "\n",
    "# The same as above but with a -ffast-math flag added\n",
    "open(`gcc -fPIC -O3 -msse3 -xc -shared -ffast-math -o $(Clib_fastmath * \".\" * Libdl.dlext) -`, \"w\") do f\n",
    "    print(f, C_code) \n",
    "end\n",
    "\n",
    "# define a Julia function that calls the C function:\n",
    "c_sum_fastmath(X::Array{Float64}) = ccall((\"c_sum\", Clib_fastmath), Float64, (Csize_t, Ptr{Float64}), length(X), X)"
   ]
  },
  {
   "cell_type": "code",
   "execution_count": 22,
   "metadata": {},
   "outputs": [
    {
     "data": {
      "text/plain": [
       "BenchmarkTools.Trial: 391 samples with 1 evaluation.\n",
       " Range \u001b[90m(\u001b[39m\u001b[36m\u001b[1mmin\u001b[22m\u001b[39m … \u001b[35mmax\u001b[39m\u001b[90m):  \u001b[39m\u001b[36m\u001b[1m11.672 ms\u001b[22m\u001b[39m … \u001b[35m26.231 ms\u001b[39m  \u001b[90m┊\u001b[39m GC \u001b[90m(\u001b[39mmin … max\u001b[90m): \u001b[39m0.00% … 0.00%\n",
       " Time  \u001b[90m(\u001b[39m\u001b[34m\u001b[1mmedian\u001b[22m\u001b[39m\u001b[90m):     \u001b[39m\u001b[34m\u001b[1m12.558 ms              \u001b[22m\u001b[39m\u001b[90m┊\u001b[39m GC \u001b[90m(\u001b[39mmedian\u001b[90m):    \u001b[39m0.00%\n",
       " Time  \u001b[90m(\u001b[39m\u001b[32m\u001b[1mmean\u001b[22m\u001b[39m ± \u001b[32mσ\u001b[39m\u001b[90m):   \u001b[39m\u001b[32m\u001b[1m12.753 ms\u001b[22m\u001b[39m ± \u001b[32m 1.209 ms\u001b[39m  \u001b[90m┊\u001b[39m GC \u001b[90m(\u001b[39mmean ± σ\u001b[90m):  \u001b[39m0.00% ± 0.00%\n",
       "\n",
       "  \u001b[39m \u001b[39m \u001b[39m \u001b[39m \u001b[39m \u001b[39m \u001b[39m \u001b[39m \u001b[39m \u001b[39m \u001b[39m▂\u001b[39m▃\u001b[39m▅\u001b[39m▇\u001b[39m█\u001b[39m█\u001b[34m▇\u001b[39m\u001b[39m▅\u001b[39m▆\u001b[39m▅\u001b[32m▃\u001b[39m\u001b[39m▃\u001b[39m▂\u001b[39m▁\u001b[39m \u001b[39m \u001b[39m \u001b[39m \u001b[39m \u001b[39m \u001b[39m \u001b[39m \u001b[39m \u001b[39m \u001b[39m \u001b[39m \u001b[39m \u001b[39m \u001b[39m \u001b[39m \u001b[39m \u001b[39m \u001b[39m \u001b[39m \u001b[39m \u001b[39m \u001b[39m \u001b[39m \u001b[39m \u001b[39m \u001b[39m \u001b[39m \u001b[39m \u001b[39m \u001b[39m \u001b[39m \u001b[39m \u001b[39m \u001b[39m \u001b[39m \u001b[39m \n",
       "  \u001b[39m▄\u001b[39m▄\u001b[39m▄\u001b[39m▄\u001b[39m▁\u001b[39m▄\u001b[39m▄\u001b[39m▄\u001b[39m▆\u001b[39m█\u001b[39m█\u001b[39m█\u001b[39m█\u001b[39m█\u001b[39m█\u001b[39m█\u001b[34m█\u001b[39m\u001b[39m█\u001b[39m█\u001b[39m█\u001b[32m█\u001b[39m\u001b[39m█\u001b[39m█\u001b[39m█\u001b[39m█\u001b[39m▇\u001b[39m▄\u001b[39m▄\u001b[39m▄\u001b[39m▆\u001b[39m▁\u001b[39m▁\u001b[39m▇\u001b[39m▄\u001b[39m▆\u001b[39m▆\u001b[39m▄\u001b[39m▁\u001b[39m▄\u001b[39m▁\u001b[39m▄\u001b[39m▄\u001b[39m▆\u001b[39m▄\u001b[39m▆\u001b[39m▁\u001b[39m▄\u001b[39m▁\u001b[39m▁\u001b[39m▁\u001b[39m▁\u001b[39m▆\u001b[39m▁\u001b[39m▁\u001b[39m▁\u001b[39m▁\u001b[39m▄\u001b[39m▁\u001b[39m▄\u001b[39m \u001b[39m▇\n",
       "  11.7 ms\u001b[90m      \u001b[39m\u001b[90mHistogram: \u001b[39m\u001b[90m\u001b[1mlog(\u001b[22m\u001b[39m\u001b[90mfrequency\u001b[39m\u001b[90m\u001b[1m)\u001b[22m\u001b[39m\u001b[90m by time\u001b[39m      14.9 ms \u001b[0m\u001b[1m<\u001b[22m\n",
       "\n",
       " Memory estimate\u001b[90m: \u001b[39m\u001b[33m0 bytes\u001b[39m, allocs estimate\u001b[90m: \u001b[39m\u001b[33m0\u001b[39m."
      ]
     },
     "execution_count": 22,
     "metadata": {},
     "output_type": "execute_result"
    }
   ],
   "source": [
    "c_fastmath_bench = @benchmark $c_sum_fastmath($a)"
   ]
  },
  {
   "cell_type": "code",
   "execution_count": 23,
   "metadata": {},
   "outputs": [
    {
     "data": {
      "text/plain": [
       "11.672242"
      ]
     },
     "execution_count": 23,
     "metadata": {},
     "output_type": "execute_result"
    }
   ],
   "source": [
    "d[\"C -ffast-math\"] = minimum(c_fastmath_bench.times) / 1e6  # in milliseconds"
   ]
  },
  {
   "cell_type": "markdown",
   "metadata": {},
   "source": [
    "# 3. Python's built in `sum` "
   ]
  },
  {
   "cell_type": "markdown",
   "metadata": {},
   "source": [
    "The `PyCall` package provides a Julia interface to Python:"
   ]
  },
  {
   "cell_type": "code",
   "execution_count": 25,
   "metadata": {
    "scrolled": true
   },
   "outputs": [
    {
     "name": "stderr",
     "output_type": "stream",
     "text": [
      "\u001b[32m\u001b[1m   Resolving\u001b[22m\u001b[39m package versions...\n",
      "\u001b[32m\u001b[1m   Installed\u001b[22m\u001b[39m PyCall ─ v1.93.1\n",
      "\u001b[32m\u001b[1m    Updating\u001b[22m\u001b[39m `~/.julia/environments/v1.7/Project.toml`\n",
      " \u001b[90m [438e738f] \u001b[39m\u001b[92m+ PyCall v1.93.1\u001b[39m\n",
      "\u001b[32m\u001b[1m    Updating\u001b[22m\u001b[39m `~/.julia/environments/v1.7/Manifest.toml`\n",
      " \u001b[90m [438e738f] \u001b[39m\u001b[92m+ PyCall v1.93.1\u001b[39m\n",
      "\u001b[32m\u001b[1m    Building\u001b[22m\u001b[39m PyCall → `~/.julia/scratchspaces/44cfe95a-1eb2-52ea-b672-e2afdf69b78f/1fc929f47d7c151c839c5fc1375929766fb8edcc/build.log`\n",
      "\u001b[32m\u001b[1mPrecompiling\u001b[22m\u001b[39m project...\n",
      "\u001b[32m  ✓ \u001b[39mPyCall\n",
      "  1 dependency successfully precompiled in 5 seconds (149 already precompiled)\n"
     ]
    }
   ],
   "source": [
    "# using Pkg; Pkg.add(\"PyCall\")\n",
    "using PyCall"
   ]
  },
  {
   "cell_type": "code",
   "execution_count": 26,
   "metadata": {
    "scrolled": false
   },
   "outputs": [
    {
     "data": {
      "text/plain": [
       "PyObject <built-in function sum>"
      ]
     },
     "execution_count": 26,
     "metadata": {},
     "output_type": "execute_result"
    }
   ],
   "source": [
    "# get the Python built-in \"sum\" function:\n",
    "pysum = pybuiltin(\"sum\")"
   ]
  },
  {
   "cell_type": "code",
   "execution_count": 27,
   "metadata": {
    "scrolled": false
   },
   "outputs": [
    {
     "data": {
      "text/plain": [
       "5.000341936937417e6"
      ]
     },
     "execution_count": 27,
     "metadata": {},
     "output_type": "execute_result"
    }
   ],
   "source": [
    "pysum(a)"
   ]
  },
  {
   "cell_type": "code",
   "execution_count": 28,
   "metadata": {
    "scrolled": false
   },
   "outputs": [
    {
     "data": {
      "text/plain": [
       "true"
      ]
     },
     "execution_count": 28,
     "metadata": {},
     "output_type": "execute_result"
    }
   ],
   "source": [
    "pysum(a) ≈ sum(a)"
   ]
  },
  {
   "cell_type": "code",
   "execution_count": 29,
   "metadata": {
    "scrolled": false
   },
   "outputs": [
    {
     "data": {
      "text/plain": [
       "BenchmarkTools.Trial: 7 samples with 1 evaluation.\n",
       " Range \u001b[90m(\u001b[39m\u001b[36m\u001b[1mmin\u001b[22m\u001b[39m … \u001b[35mmax\u001b[39m\u001b[90m):  \u001b[39m\u001b[36m\u001b[1m691.789 ms\u001b[22m\u001b[39m … \u001b[35m729.709 ms\u001b[39m  \u001b[90m┊\u001b[39m GC \u001b[90m(\u001b[39mmin … max\u001b[90m): \u001b[39m0.00% … 0.00%\n",
       " Time  \u001b[90m(\u001b[39m\u001b[34m\u001b[1mmedian\u001b[22m\u001b[39m\u001b[90m):     \u001b[39m\u001b[34m\u001b[1m723.862 ms               \u001b[22m\u001b[39m\u001b[90m┊\u001b[39m GC \u001b[90m(\u001b[39mmedian\u001b[90m):    \u001b[39m0.00%\n",
       " Time  \u001b[90m(\u001b[39m\u001b[32m\u001b[1mmean\u001b[22m\u001b[39m ± \u001b[32mσ\u001b[39m\u001b[90m):   \u001b[39m\u001b[32m\u001b[1m716.601 ms\u001b[22m\u001b[39m ± \u001b[32m 13.758 ms\u001b[39m  \u001b[90m┊\u001b[39m GC \u001b[90m(\u001b[39mmean ± σ\u001b[90m):  \u001b[39m0.00% ± 0.00%\n",
       "\n",
       "  \u001b[39m█\u001b[39m \u001b[39m \u001b[39m \u001b[39m \u001b[39m \u001b[39m \u001b[39m \u001b[39m \u001b[39m \u001b[39m \u001b[39m \u001b[39m \u001b[39m \u001b[39m \u001b[39m \u001b[39m \u001b[39m \u001b[39m \u001b[39m \u001b[39m \u001b[39m \u001b[39m█\u001b[39m \u001b[39m \u001b[39m \u001b[39m \u001b[39m \u001b[39m \u001b[39m \u001b[39m \u001b[39m \u001b[39m \u001b[39m \u001b[39m█\u001b[34m \u001b[39m\u001b[39m \u001b[39m \u001b[39m \u001b[39m \u001b[32m \u001b[39m\u001b[39m \u001b[39m \u001b[39m \u001b[39m \u001b[39m \u001b[39m \u001b[39m \u001b[39m \u001b[39m \u001b[39m \u001b[39m█\u001b[39m█\u001b[39m \u001b[39m \u001b[39m \u001b[39m█\u001b[39m \u001b[39m \u001b[39m \u001b[39m█\u001b[39m \u001b[39m \n",
       "  \u001b[39m█\u001b[39m▁\u001b[39m▁\u001b[39m▁\u001b[39m▁\u001b[39m▁\u001b[39m▁\u001b[39m▁\u001b[39m▁\u001b[39m▁\u001b[39m▁\u001b[39m▁\u001b[39m▁\u001b[39m▁\u001b[39m▁\u001b[39m▁\u001b[39m▁\u001b[39m▁\u001b[39m▁\u001b[39m▁\u001b[39m▁\u001b[39m▁\u001b[39m█\u001b[39m▁\u001b[39m▁\u001b[39m▁\u001b[39m▁\u001b[39m▁\u001b[39m▁\u001b[39m▁\u001b[39m▁\u001b[39m▁\u001b[39m▁\u001b[39m▁\u001b[39m█\u001b[34m▁\u001b[39m\u001b[39m▁\u001b[39m▁\u001b[39m▁\u001b[39m▁\u001b[32m▁\u001b[39m\u001b[39m▁\u001b[39m▁\u001b[39m▁\u001b[39m▁\u001b[39m▁\u001b[39m▁\u001b[39m▁\u001b[39m▁\u001b[39m▁\u001b[39m▁\u001b[39m█\u001b[39m█\u001b[39m▁\u001b[39m▁\u001b[39m▁\u001b[39m█\u001b[39m▁\u001b[39m▁\u001b[39m▁\u001b[39m█\u001b[39m \u001b[39m▁\n",
       "  692 ms\u001b[90m           Histogram: frequency by time\u001b[39m          730 ms \u001b[0m\u001b[1m<\u001b[22m\n",
       "\n",
       " Memory estimate\u001b[90m: \u001b[39m\u001b[33m240 bytes\u001b[39m, allocs estimate\u001b[90m: \u001b[39m\u001b[33m6\u001b[39m."
      ]
     },
     "execution_count": 29,
     "metadata": {},
     "output_type": "execute_result"
    }
   ],
   "source": [
    "py_list_bench = @benchmark $pysum($a)"
   ]
  },
  {
   "cell_type": "code",
   "execution_count": 30,
   "metadata": {
    "scrolled": false
   },
   "outputs": [
    {
     "data": {
      "text/plain": [
       "Dict{Any, Any} with 3 entries:\n",
       "  \"C\"               => 15.6046\n",
       "  \"Python built-in\" => 691.789\n",
       "  \"C -ffast-math\"   => 11.6722"
      ]
     },
     "execution_count": 30,
     "metadata": {},
     "output_type": "execute_result"
    }
   ],
   "source": [
    "d[\"Python built-in\"] = minimum(py_list_bench.times) / 1e6\n",
    "d"
   ]
  },
  {
   "cell_type": "markdown",
   "metadata": {},
   "source": [
    "# 4. Python: `numpy` \n",
    "\n",
    "## Takes advantage of hardware \"SIMD\", but only works when it works.\n",
    "\n",
    "`numpy` is an optimized C library, callable from Python.\n",
    "It may be installed within Julia as follows:"
   ]
  },
  {
   "cell_type": "code",
   "execution_count": 32,
   "metadata": {
    "scrolled": false
   },
   "outputs": [
    {
     "name": "stderr",
     "output_type": "stream",
     "text": [
      "\u001b[32m\u001b[1m   Resolving\u001b[22m\u001b[39m package versions...\n",
      "\u001b[32m\u001b[1m    Updating\u001b[22m\u001b[39m `~/.julia/environments/v1.7/Project.toml`\n",
      " \u001b[90m [8f4d0f93] \u001b[39m\u001b[92m+ Conda v1.7.0\u001b[39m\n",
      "\u001b[32m\u001b[1m  No Changes\u001b[22m\u001b[39m to `~/.julia/environments/v1.7/Manifest.toml`\n"
     ]
    }
   ],
   "source": [
    "# using Pkg; Pkg.add(\"Conda\")\n",
    "using Conda"
   ]
  },
  {
   "cell_type": "code",
   "execution_count": null,
   "metadata": {},
   "outputs": [],
   "source": [
    "# Conda.add(\"numpy\")"
   ]
  },
  {
   "cell_type": "code",
   "execution_count": 33,
   "metadata": {
    "scrolled": false
   },
   "outputs": [
    {
     "data": {
      "text/plain": [
       "BenchmarkTools.Trial: 432 samples with 1 evaluation.\n",
       " Range \u001b[90m(\u001b[39m\u001b[36m\u001b[1mmin\u001b[22m\u001b[39m … \u001b[35mmax\u001b[39m\u001b[90m):  \u001b[39m\u001b[36m\u001b[1m 9.921 ms\u001b[22m\u001b[39m … \u001b[35m27.548 ms\u001b[39m  \u001b[90m┊\u001b[39m GC \u001b[90m(\u001b[39mmin … max\u001b[90m): \u001b[39m0.00% … 0.00%\n",
       " Time  \u001b[90m(\u001b[39m\u001b[34m\u001b[1mmedian\u001b[22m\u001b[39m\u001b[90m):     \u001b[39m\u001b[34m\u001b[1m11.393 ms              \u001b[22m\u001b[39m\u001b[90m┊\u001b[39m GC \u001b[90m(\u001b[39mmedian\u001b[90m):    \u001b[39m0.00%\n",
       " Time  \u001b[90m(\u001b[39m\u001b[32m\u001b[1mmean\u001b[22m\u001b[39m ± \u001b[32mσ\u001b[39m\u001b[90m):   \u001b[39m\u001b[32m\u001b[1m11.568 ms\u001b[22m\u001b[39m ± \u001b[32m 1.567 ms\u001b[39m  \u001b[90m┊\u001b[39m GC \u001b[90m(\u001b[39mmean ± σ\u001b[90m):  \u001b[39m0.00% ± 0.00%\n",
       "\n",
       "  \u001b[39m \u001b[39m \u001b[39m▃\u001b[39m█\u001b[39m▃\u001b[39m \u001b[39m▁\u001b[39m \u001b[39m▁\u001b[39m \u001b[34m▂\u001b[39m\u001b[39m▄\u001b[32m▇\u001b[39m\u001b[39m▃\u001b[39m \u001b[39m \u001b[39m \u001b[39m \u001b[39m \u001b[39m \u001b[39m \u001b[39m \u001b[39m \u001b[39m \u001b[39m \u001b[39m \u001b[39m \u001b[39m \u001b[39m \u001b[39m \u001b[39m \u001b[39m \u001b[39m \u001b[39m \u001b[39m \u001b[39m \u001b[39m \u001b[39m \u001b[39m \u001b[39m \u001b[39m \u001b[39m \u001b[39m \u001b[39m \u001b[39m \u001b[39m \u001b[39m \u001b[39m \u001b[39m \u001b[39m \u001b[39m \u001b[39m \u001b[39m \u001b[39m \u001b[39m \u001b[39m \u001b[39m \u001b[39m \u001b[39m \u001b[39m \u001b[39m \n",
       "  \u001b[39m▄\u001b[39m▆\u001b[39m█\u001b[39m█\u001b[39m█\u001b[39m▇\u001b[39m█\u001b[39m█\u001b[39m█\u001b[39m▆\u001b[34m█\u001b[39m\u001b[39m█\u001b[32m█\u001b[39m\u001b[39m█\u001b[39m▆\u001b[39m▅\u001b[39m▅\u001b[39m▄\u001b[39m▅\u001b[39m▅\u001b[39m▄\u001b[39m▃\u001b[39m▂\u001b[39m▃\u001b[39m▅\u001b[39m▄\u001b[39m▅\u001b[39m▃\u001b[39m▃\u001b[39m▁\u001b[39m▁\u001b[39m▃\u001b[39m▁\u001b[39m▁\u001b[39m▁\u001b[39m▁\u001b[39m▁\u001b[39m▁\u001b[39m▁\u001b[39m▁\u001b[39m▁\u001b[39m▁\u001b[39m▂\u001b[39m▁\u001b[39m▁\u001b[39m▁\u001b[39m▁\u001b[39m▁\u001b[39m▁\u001b[39m▁\u001b[39m▁\u001b[39m▂\u001b[39m▁\u001b[39m▁\u001b[39m▁\u001b[39m▂\u001b[39m▁\u001b[39m▁\u001b[39m▂\u001b[39m \u001b[39m▃\n",
       "  9.92 ms\u001b[90m         Histogram: frequency by time\u001b[39m        18.2 ms \u001b[0m\u001b[1m<\u001b[22m\n",
       "\n",
       " Memory estimate\u001b[90m: \u001b[39m\u001b[33m240 bytes\u001b[39m, allocs estimate\u001b[90m: \u001b[39m\u001b[33m6\u001b[39m."
      ]
     },
     "execution_count": 33,
     "metadata": {},
     "output_type": "execute_result"
    }
   ],
   "source": [
    "numpy_sum = pyimport(\"numpy\")[\"sum\"]\n",
    "\n",
    "py_numpy_bench = @benchmark $numpy_sum($a)"
   ]
  },
  {
   "cell_type": "code",
   "execution_count": 34,
   "metadata": {
    "scrolled": false
   },
   "outputs": [
    {
     "data": {
      "text/plain": [
       "5.000341936937249e6"
      ]
     },
     "execution_count": 34,
     "metadata": {},
     "output_type": "execute_result"
    }
   ],
   "source": [
    "numpy_sum(a)"
   ]
  },
  {
   "cell_type": "code",
   "execution_count": 35,
   "metadata": {
    "scrolled": false
   },
   "outputs": [
    {
     "data": {
      "text/plain": [
       "true"
      ]
     },
     "execution_count": 35,
     "metadata": {},
     "output_type": "execute_result"
    }
   ],
   "source": [
    "numpy_sum(a) ≈ sum(a)"
   ]
  },
  {
   "cell_type": "code",
   "execution_count": 36,
   "metadata": {
    "scrolled": true
   },
   "outputs": [
    {
     "data": {
      "text/plain": [
       "Dict{Any, Any} with 4 entries:\n",
       "  \"C\"               => 15.6046\n",
       "  \"Python numpy\"    => 9.92083\n",
       "  \"Python built-in\" => 691.789\n",
       "  \"C -ffast-math\"   => 11.6722"
      ]
     },
     "execution_count": 36,
     "metadata": {},
     "output_type": "execute_result"
    }
   ],
   "source": [
    "d[\"Python numpy\"] = minimum(py_numpy_bench.times) / 1e6\n",
    "d"
   ]
  },
  {
   "cell_type": "markdown",
   "metadata": {},
   "source": [
    "# 5. Python, hand-written "
   ]
  },
  {
   "cell_type": "code",
   "execution_count": 37,
   "metadata": {
    "scrolled": false
   },
   "outputs": [
    {
     "data": {
      "text/plain": [
       "PyObject <function py_sum at 0x7ff94958a280>"
      ]
     },
     "execution_count": 37,
     "metadata": {},
     "output_type": "execute_result"
    }
   ],
   "source": [
    "py\"\"\"\n",
    "def py_sum(A):\n",
    "    s = 0.0\n",
    "    for a in A:\n",
    "        s += a\n",
    "    return s\n",
    "\"\"\"\n",
    "\n",
    "sum_py = py\"py_sum\""
   ]
  },
  {
   "cell_type": "code",
   "execution_count": 38,
   "metadata": {
    "scrolled": false
   },
   "outputs": [
    {
     "data": {
      "text/plain": [
       "BenchmarkTools.Trial: 6 samples with 1 evaluation.\n",
       " Range \u001b[90m(\u001b[39m\u001b[36m\u001b[1mmin\u001b[22m\u001b[39m … \u001b[35mmax\u001b[39m\u001b[90m):  \u001b[39m\u001b[36m\u001b[1m824.136 ms\u001b[22m\u001b[39m … \u001b[35m888.357 ms\u001b[39m  \u001b[90m┊\u001b[39m GC \u001b[90m(\u001b[39mmin … max\u001b[90m): \u001b[39m0.00% … 0.00%\n",
       " Time  \u001b[90m(\u001b[39m\u001b[34m\u001b[1mmedian\u001b[22m\u001b[39m\u001b[90m):     \u001b[39m\u001b[34m\u001b[1m838.494 ms               \u001b[22m\u001b[39m\u001b[90m┊\u001b[39m GC \u001b[90m(\u001b[39mmedian\u001b[90m):    \u001b[39m0.00%\n",
       " Time  \u001b[90m(\u001b[39m\u001b[32m\u001b[1mmean\u001b[22m\u001b[39m ± \u001b[32mσ\u001b[39m\u001b[90m):   \u001b[39m\u001b[32m\u001b[1m849.904 ms\u001b[22m\u001b[39m ± \u001b[32m 25.723 ms\u001b[39m  \u001b[90m┊\u001b[39m GC \u001b[90m(\u001b[39mmean ± σ\u001b[90m):  \u001b[39m0.00% ± 0.00%\n",
       "\n",
       "  \u001b[39m█\u001b[39m \u001b[39m \u001b[39m \u001b[39m \u001b[39m \u001b[39m \u001b[39m \u001b[39m \u001b[39m█\u001b[39m \u001b[39m \u001b[39m \u001b[34m█\u001b[39m\u001b[39m█\u001b[39m \u001b[39m \u001b[39m \u001b[39m \u001b[39m \u001b[39m \u001b[39m \u001b[39m \u001b[39m \u001b[32m \u001b[39m\u001b[39m \u001b[39m \u001b[39m \u001b[39m \u001b[39m \u001b[39m \u001b[39m \u001b[39m \u001b[39m \u001b[39m \u001b[39m \u001b[39m \u001b[39m \u001b[39m \u001b[39m \u001b[39m \u001b[39m \u001b[39m \u001b[39m \u001b[39m \u001b[39m \u001b[39m \u001b[39m \u001b[39m█\u001b[39m \u001b[39m \u001b[39m \u001b[39m \u001b[39m \u001b[39m \u001b[39m \u001b[39m \u001b[39m \u001b[39m \u001b[39m \u001b[39m█\u001b[39m \u001b[39m \n",
       "  \u001b[39m█\u001b[39m▁\u001b[39m▁\u001b[39m▁\u001b[39m▁\u001b[39m▁\u001b[39m▁\u001b[39m▁\u001b[39m▁\u001b[39m█\u001b[39m▁\u001b[39m▁\u001b[39m▁\u001b[34m█\u001b[39m\u001b[39m█\u001b[39m▁\u001b[39m▁\u001b[39m▁\u001b[39m▁\u001b[39m▁\u001b[39m▁\u001b[39m▁\u001b[39m▁\u001b[39m▁\u001b[32m▁\u001b[39m\u001b[39m▁\u001b[39m▁\u001b[39m▁\u001b[39m▁\u001b[39m▁\u001b[39m▁\u001b[39m▁\u001b[39m▁\u001b[39m▁\u001b[39m▁\u001b[39m▁\u001b[39m▁\u001b[39m▁\u001b[39m▁\u001b[39m▁\u001b[39m▁\u001b[39m▁\u001b[39m▁\u001b[39m▁\u001b[39m▁\u001b[39m▁\u001b[39m▁\u001b[39m▁\u001b[39m█\u001b[39m▁\u001b[39m▁\u001b[39m▁\u001b[39m▁\u001b[39m▁\u001b[39m▁\u001b[39m▁\u001b[39m▁\u001b[39m▁\u001b[39m▁\u001b[39m▁\u001b[39m█\u001b[39m \u001b[39m▁\n",
       "  824 ms\u001b[90m           Histogram: frequency by time\u001b[39m          888 ms \u001b[0m\u001b[1m<\u001b[22m\n",
       "\n",
       " Memory estimate\u001b[90m: \u001b[39m\u001b[33m240 bytes\u001b[39m, allocs estimate\u001b[90m: \u001b[39m\u001b[33m6\u001b[39m."
      ]
     },
     "execution_count": 38,
     "metadata": {},
     "output_type": "execute_result"
    }
   ],
   "source": [
    "py_hand = @benchmark $sum_py($a)"
   ]
  },
  {
   "cell_type": "code",
   "execution_count": 39,
   "metadata": {
    "scrolled": false
   },
   "outputs": [
    {
     "data": {
      "text/plain": [
       "5.000341936937417e6"
      ]
     },
     "execution_count": 39,
     "metadata": {},
     "output_type": "execute_result"
    }
   ],
   "source": [
    "sum_py(a)"
   ]
  },
  {
   "cell_type": "code",
   "execution_count": 40,
   "metadata": {
    "scrolled": false
   },
   "outputs": [
    {
     "data": {
      "text/plain": [
       "true"
      ]
     },
     "execution_count": 40,
     "metadata": {},
     "output_type": "execute_result"
    }
   ],
   "source": [
    "sum_py(a) ≈ sum(a)"
   ]
  },
  {
   "cell_type": "code",
   "execution_count": 41,
   "metadata": {
    "scrolled": true
   },
   "outputs": [
    {
     "data": {
      "text/plain": [
       "Dict{Any, Any} with 5 entries:\n",
       "  \"C\"                   => 15.6046\n",
       "  \"Python numpy\"        => 9.92083\n",
       "  \"Python hand-written\" => 824.136\n",
       "  \"Python built-in\"     => 691.789\n",
       "  \"C -ffast-math\"       => 11.6722"
      ]
     },
     "execution_count": 41,
     "metadata": {},
     "output_type": "execute_result"
    }
   ],
   "source": [
    "d[\"Python hand-written\"] = minimum(py_hand.times) / 1e6\n",
    "d"
   ]
  },
  {
   "cell_type": "markdown",
   "metadata": {},
   "source": [
    "# 6. Julia (built-in) \n",
    "\n",
    "## Written directly in Julia, not in C!"
   ]
  },
  {
   "cell_type": "code",
   "execution_count": 42,
   "metadata": {
    "scrolled": false
   },
   "outputs": [
    {
     "data": {
      "text/html": [
       "sum(a::<b>AbstractArray</b>; <i>dims, kw...</i>) in Base at <a href=\"https://github.com/JuliaLang/julia/tree/742b9abb4dd4621b667ec5bb3434b8b3602f96fd/base/reducedim.jl#L889\" target=\"_blank\">reducedim.jl:889</a>"
      ],
      "text/plain": [
       "sum(a::AbstractArray; dims, kw...) in Base at reducedim.jl:889"
      ]
     },
     "execution_count": 42,
     "metadata": {},
     "output_type": "execute_result"
    }
   ],
   "source": [
    "@which sum(a)"
   ]
  },
  {
   "cell_type": "code",
   "execution_count": 43,
   "metadata": {
    "scrolled": false
   },
   "outputs": [
    {
     "data": {
      "text/plain": [
       "BenchmarkTools.Trial: 518 samples with 1 evaluation.\n",
       " Range \u001b[90m(\u001b[39m\u001b[36m\u001b[1mmin\u001b[22m\u001b[39m … \u001b[35mmax\u001b[39m\u001b[90m):  \u001b[39m\u001b[36m\u001b[1m8.230 ms\u001b[22m\u001b[39m … \u001b[35m 13.358 ms\u001b[39m  \u001b[90m┊\u001b[39m GC \u001b[90m(\u001b[39mmin … max\u001b[90m): \u001b[39m0.00% … 0.00%\n",
       " Time  \u001b[90m(\u001b[39m\u001b[34m\u001b[1mmedian\u001b[22m\u001b[39m\u001b[90m):     \u001b[39m\u001b[34m\u001b[1m9.875 ms               \u001b[22m\u001b[39m\u001b[90m┊\u001b[39m GC \u001b[90m(\u001b[39mmedian\u001b[90m):    \u001b[39m0.00%\n",
       " Time  \u001b[90m(\u001b[39m\u001b[32m\u001b[1mmean\u001b[22m\u001b[39m ± \u001b[32mσ\u001b[39m\u001b[90m):   \u001b[39m\u001b[32m\u001b[1m9.622 ms\u001b[22m\u001b[39m ± \u001b[32m783.026 μs\u001b[39m  \u001b[90m┊\u001b[39m GC \u001b[90m(\u001b[39mmean ± σ\u001b[90m):  \u001b[39m0.00% ± 0.00%\n",
       "\n",
       "  \u001b[39m \u001b[39m \u001b[39m \u001b[39m▃\u001b[39m \u001b[39m \u001b[39m \u001b[39m \u001b[39m \u001b[39m \u001b[39m \u001b[39m \u001b[39m \u001b[39m \u001b[39m \u001b[39m \u001b[39m \u001b[39m \u001b[39m \u001b[39m \u001b[39m \u001b[39m \u001b[39m \u001b[39m \u001b[32m \u001b[39m\u001b[39m \u001b[39m \u001b[39m \u001b[39m▇\u001b[34m█\u001b[39m\u001b[39m█\u001b[39m▅\u001b[39m▁\u001b[39m▂\u001b[39m \u001b[39m \u001b[39m \u001b[39m \u001b[39m \u001b[39m \u001b[39m \u001b[39m \u001b[39m \u001b[39m \u001b[39m \u001b[39m \u001b[39m \u001b[39m \u001b[39m \u001b[39m \u001b[39m \u001b[39m \u001b[39m \u001b[39m \u001b[39m \u001b[39m \u001b[39m \u001b[39m \u001b[39m \u001b[39m \u001b[39m \n",
       "  \u001b[39m▆\u001b[39m█\u001b[39m█\u001b[39m█\u001b[39m▇\u001b[39m▄\u001b[39m▄\u001b[39m▃\u001b[39m▃\u001b[39m▄\u001b[39m▃\u001b[39m▃\u001b[39m▃\u001b[39m▄\u001b[39m▃\u001b[39m▃\u001b[39m▃\u001b[39m▂\u001b[39m▃\u001b[39m▃\u001b[39m▃\u001b[39m▃\u001b[39m▃\u001b[39m▄\u001b[32m▄\u001b[39m\u001b[39m▅\u001b[39m▇\u001b[39m█\u001b[39m█\u001b[34m█\u001b[39m\u001b[39m█\u001b[39m█\u001b[39m█\u001b[39m█\u001b[39m▆\u001b[39m▄\u001b[39m▅\u001b[39m▄\u001b[39m▃\u001b[39m▄\u001b[39m▃\u001b[39m▃\u001b[39m▃\u001b[39m▃\u001b[39m▂\u001b[39m▂\u001b[39m▂\u001b[39m▂\u001b[39m▃\u001b[39m▁\u001b[39m▃\u001b[39m▁\u001b[39m▂\u001b[39m▁\u001b[39m▁\u001b[39m▂\u001b[39m▂\u001b[39m▁\u001b[39m▃\u001b[39m \u001b[39m▄\n",
       "  8.23 ms\u001b[90m         Histogram: frequency by time\u001b[39m        11.6 ms \u001b[0m\u001b[1m<\u001b[22m\n",
       "\n",
       " Memory estimate\u001b[90m: \u001b[39m\u001b[33m0 bytes\u001b[39m, allocs estimate\u001b[90m: \u001b[39m\u001b[33m0\u001b[39m."
      ]
     },
     "execution_count": 43,
     "metadata": {},
     "output_type": "execute_result"
    }
   ],
   "source": [
    "j_bench = @benchmark sum($a)"
   ]
  },
  {
   "cell_type": "code",
   "execution_count": 44,
   "metadata": {
    "scrolled": true
   },
   "outputs": [
    {
     "data": {
      "text/plain": [
       "Dict{Any, Any} with 6 entries:\n",
       "  \"C\"                   => 15.6046\n",
       "  \"Python numpy\"        => 9.92083\n",
       "  \"Python hand-written\" => 824.136\n",
       "  \"Python built-in\"     => 691.789\n",
       "  \"Julia built-in\"      => 8.23047\n",
       "  \"C -ffast-math\"       => 11.6722"
      ]
     },
     "execution_count": 44,
     "metadata": {},
     "output_type": "execute_result"
    }
   ],
   "source": [
    "d[\"Julia built-in\"] = minimum(j_bench.times) / 1e6\n",
    "d"
   ]
  },
  {
   "cell_type": "markdown",
   "metadata": {},
   "source": [
    "# 7. Julia (hand-written) "
   ]
  },
  {
   "cell_type": "code",
   "execution_count": 45,
   "metadata": {
    "scrolled": true
   },
   "outputs": [
    {
     "data": {
      "text/plain": [
       "mysum (generic function with 1 method)"
      ]
     },
     "execution_count": 45,
     "metadata": {},
     "output_type": "execute_result"
    }
   ],
   "source": [
    "function mysum(A)   \n",
    "    s = 0.0 # s = zero(eltype(a))\n",
    "    for a in A\n",
    "        s += a\n",
    "    end\n",
    "    s\n",
    "end"
   ]
  },
  {
   "cell_type": "code",
   "execution_count": 46,
   "metadata": {
    "scrolled": false
   },
   "outputs": [
    {
     "data": {
      "text/plain": [
       "BenchmarkTools.Trial: 304 samples with 1 evaluation.\n",
       " Range \u001b[90m(\u001b[39m\u001b[36m\u001b[1mmin\u001b[22m\u001b[39m … \u001b[35mmax\u001b[39m\u001b[90m):  \u001b[39m\u001b[36m\u001b[1m15.782 ms\u001b[22m\u001b[39m … \u001b[35m 18.651 ms\u001b[39m  \u001b[90m┊\u001b[39m GC \u001b[90m(\u001b[39mmin … max\u001b[90m): \u001b[39m0.00% … 0.00%\n",
       " Time  \u001b[90m(\u001b[39m\u001b[34m\u001b[1mmedian\u001b[22m\u001b[39m\u001b[90m):     \u001b[39m\u001b[34m\u001b[1m16.336 ms               \u001b[22m\u001b[39m\u001b[90m┊\u001b[39m GC \u001b[90m(\u001b[39mmedian\u001b[90m):    \u001b[39m0.00%\n",
       " Time  \u001b[90m(\u001b[39m\u001b[32m\u001b[1mmean\u001b[22m\u001b[39m ± \u001b[32mσ\u001b[39m\u001b[90m):   \u001b[39m\u001b[32m\u001b[1m16.419 ms\u001b[22m\u001b[39m ± \u001b[32m416.705 μs\u001b[39m  \u001b[90m┊\u001b[39m GC \u001b[90m(\u001b[39mmean ± σ\u001b[90m):  \u001b[39m0.00% ± 0.00%\n",
       "\n",
       "  \u001b[39m \u001b[39m \u001b[39m \u001b[39m \u001b[39m \u001b[39m \u001b[39m \u001b[39m \u001b[39m▃\u001b[39m▇\u001b[39m▇\u001b[39m█\u001b[39m▇\u001b[39m▃\u001b[34m▅\u001b[39m\u001b[39m▄\u001b[32m▂\u001b[39m\u001b[39m▅\u001b[39m▆\u001b[39m▃\u001b[39m \u001b[39m \u001b[39m \u001b[39m \u001b[39m \u001b[39m \u001b[39m \u001b[39m \u001b[39m \u001b[39m \u001b[39m \u001b[39m \u001b[39m \u001b[39m \u001b[39m \u001b[39m \u001b[39m \u001b[39m \u001b[39m \u001b[39m \u001b[39m \u001b[39m \u001b[39m \u001b[39m \u001b[39m \u001b[39m \u001b[39m \u001b[39m \u001b[39m \u001b[39m \u001b[39m \u001b[39m \u001b[39m \u001b[39m \u001b[39m \u001b[39m \u001b[39m \u001b[39m \u001b[39m \u001b[39m \u001b[39m \u001b[39m \n",
       "  \u001b[39m▃\u001b[39m▃\u001b[39m▄\u001b[39m▃\u001b[39m▇\u001b[39m▄\u001b[39m▅\u001b[39m▇\u001b[39m█\u001b[39m█\u001b[39m█\u001b[39m█\u001b[39m█\u001b[39m█\u001b[34m█\u001b[39m\u001b[39m█\u001b[32m█\u001b[39m\u001b[39m█\u001b[39m█\u001b[39m█\u001b[39m▇\u001b[39m▆\u001b[39m▄\u001b[39m▃\u001b[39m▁\u001b[39m▄\u001b[39m▃\u001b[39m▁\u001b[39m▁\u001b[39m▃\u001b[39m▃\u001b[39m▃\u001b[39m▄\u001b[39m▁\u001b[39m▃\u001b[39m▃\u001b[39m▃\u001b[39m▁\u001b[39m▁\u001b[39m▃\u001b[39m▃\u001b[39m▃\u001b[39m▃\u001b[39m▃\u001b[39m▁\u001b[39m▁\u001b[39m▁\u001b[39m▁\u001b[39m▃\u001b[39m▃\u001b[39m▁\u001b[39m▃\u001b[39m▃\u001b[39m▃\u001b[39m▁\u001b[39m▃\u001b[39m▁\u001b[39m▁\u001b[39m▁\u001b[39m▃\u001b[39m \u001b[39m▄\n",
       "  15.8 ms\u001b[90m         Histogram: frequency by time\u001b[39m         18.1 ms \u001b[0m\u001b[1m<\u001b[22m\n",
       "\n",
       " Memory estimate\u001b[90m: \u001b[39m\u001b[33m0 bytes\u001b[39m, allocs estimate\u001b[90m: \u001b[39m\u001b[33m0\u001b[39m."
      ]
     },
     "execution_count": 46,
     "metadata": {},
     "output_type": "execute_result"
    }
   ],
   "source": [
    "j_bench_hand = @benchmark mysum($a)"
   ]
  },
  {
   "cell_type": "code",
   "execution_count": 47,
   "metadata": {
    "scrolled": true
   },
   "outputs": [
    {
     "data": {
      "text/plain": [
       "Dict{Any, Any} with 7 entries:\n",
       "  \"C\"                   => 15.6046\n",
       "  \"Python numpy\"        => 9.92083\n",
       "  \"Julia hand-written\"  => 15.782\n",
       "  \"Python hand-written\" => 824.136\n",
       "  \"Python built-in\"     => 691.789\n",
       "  \"Julia built-in\"      => 8.23047\n",
       "  \"C -ffast-math\"       => 11.6722"
      ]
     },
     "execution_count": 47,
     "metadata": {},
     "output_type": "execute_result"
    }
   ],
   "source": [
    "d[\"Julia hand-written\"] = minimum(j_bench_hand.times) / 1e6\n",
    "d"
   ]
  },
  {
   "cell_type": "markdown",
   "metadata": {},
   "source": [
    "# 8. Julia (hand-written w. simd) "
   ]
  },
  {
   "cell_type": "code",
   "execution_count": 48,
   "metadata": {},
   "outputs": [
    {
     "data": {
      "text/plain": [
       "mysum_simd (generic function with 1 method)"
      ]
     },
     "execution_count": 48,
     "metadata": {},
     "output_type": "execute_result"
    }
   ],
   "source": [
    "function mysum_simd(A)   \n",
    "    s = 0.0 # s = zero(eltype(A))\n",
    "    @simd for a in A\n",
    "        s += a\n",
    "    end\n",
    "    s\n",
    "end"
   ]
  },
  {
   "cell_type": "code",
   "execution_count": 49,
   "metadata": {
    "scrolled": false
   },
   "outputs": [
    {
     "data": {
      "text/plain": [
       "BenchmarkTools.Trial: 596 samples with 1 evaluation.\n",
       " Range \u001b[90m(\u001b[39m\u001b[36m\u001b[1mmin\u001b[22m\u001b[39m … \u001b[35mmax\u001b[39m\u001b[90m):  \u001b[39m\u001b[36m\u001b[1m7.968 ms\u001b[22m\u001b[39m … \u001b[35m 10.512 ms\u001b[39m  \u001b[90m┊\u001b[39m GC \u001b[90m(\u001b[39mmin … max\u001b[90m): \u001b[39m0.00% … 0.00%\n",
       " Time  \u001b[90m(\u001b[39m\u001b[34m\u001b[1mmedian\u001b[22m\u001b[39m\u001b[90m):     \u001b[39m\u001b[34m\u001b[1m8.265 ms               \u001b[22m\u001b[39m\u001b[90m┊\u001b[39m GC \u001b[90m(\u001b[39mmedian\u001b[90m):    \u001b[39m0.00%\n",
       " Time  \u001b[90m(\u001b[39m\u001b[32m\u001b[1mmean\u001b[22m\u001b[39m ± \u001b[32mσ\u001b[39m\u001b[90m):   \u001b[39m\u001b[32m\u001b[1m8.378 ms\u001b[22m\u001b[39m ± \u001b[32m364.599 μs\u001b[39m  \u001b[90m┊\u001b[39m GC \u001b[90m(\u001b[39mmean ± σ\u001b[90m):  \u001b[39m0.00% ± 0.00%\n",
       "\n",
       "  \u001b[39m \u001b[39m \u001b[39m \u001b[39m \u001b[39m▇\u001b[39m█\u001b[39m█\u001b[39m▆\u001b[39m▇\u001b[34m█\u001b[39m\u001b[39m▁\u001b[39m▂\u001b[39m \u001b[32m \u001b[39m\u001b[39m \u001b[39m \u001b[39m \u001b[39m \u001b[39m \u001b[39m \u001b[39m \u001b[39m \u001b[39m \u001b[39m \u001b[39m \u001b[39m \u001b[39m \u001b[39m \u001b[39m \u001b[39m \u001b[39m \u001b[39m \u001b[39m \u001b[39m \u001b[39m \u001b[39m \u001b[39m \u001b[39m \u001b[39m \u001b[39m \u001b[39m \u001b[39m \u001b[39m \u001b[39m \u001b[39m \u001b[39m \u001b[39m \u001b[39m \u001b[39m \u001b[39m \u001b[39m \u001b[39m \u001b[39m \u001b[39m \u001b[39m \u001b[39m \u001b[39m \u001b[39m \u001b[39m \u001b[39m \u001b[39m \n",
       "  \u001b[39m▃\u001b[39m▃\u001b[39m▄\u001b[39m█\u001b[39m█\u001b[39m█\u001b[39m█\u001b[39m█\u001b[39m█\u001b[34m█\u001b[39m\u001b[39m█\u001b[39m█\u001b[39m▇\u001b[32m▇\u001b[39m\u001b[39m▆\u001b[39m▆\u001b[39m▄\u001b[39m▆\u001b[39m▅\u001b[39m▄\u001b[39m▄\u001b[39m▃\u001b[39m▃\u001b[39m▃\u001b[39m▃\u001b[39m▃\u001b[39m▃\u001b[39m▂\u001b[39m▃\u001b[39m▃\u001b[39m▁\u001b[39m▃\u001b[39m▂\u001b[39m▂\u001b[39m▁\u001b[39m▃\u001b[39m▃\u001b[39m▂\u001b[39m▂\u001b[39m▃\u001b[39m▃\u001b[39m▁\u001b[39m▂\u001b[39m▂\u001b[39m▃\u001b[39m▁\u001b[39m▁\u001b[39m▂\u001b[39m▂\u001b[39m▂\u001b[39m▁\u001b[39m▂\u001b[39m▁\u001b[39m▂\u001b[39m▁\u001b[39m▃\u001b[39m▁\u001b[39m▃\u001b[39m▂\u001b[39m \u001b[39m▃\n",
       "  7.97 ms\u001b[90m         Histogram: frequency by time\u001b[39m        9.89 ms \u001b[0m\u001b[1m<\u001b[22m\n",
       "\n",
       " Memory estimate\u001b[90m: \u001b[39m\u001b[33m0 bytes\u001b[39m, allocs estimate\u001b[90m: \u001b[39m\u001b[33m0\u001b[39m."
      ]
     },
     "execution_count": 49,
     "metadata": {},
     "output_type": "execute_result"
    }
   ],
   "source": [
    "j_bench_hand_simd = @benchmark mysum_simd($a)"
   ]
  },
  {
   "cell_type": "code",
   "execution_count": 50,
   "metadata": {},
   "outputs": [
    {
     "data": {
      "text/plain": [
       "5.000341936937251e6"
      ]
     },
     "execution_count": 50,
     "metadata": {},
     "output_type": "execute_result"
    }
   ],
   "source": [
    "mysum_simd(a)"
   ]
  },
  {
   "cell_type": "code",
   "execution_count": 51,
   "metadata": {
    "scrolled": true
   },
   "outputs": [
    {
     "data": {
      "text/plain": [
       "Dict{Any, Any} with 8 entries:\n",
       "  \"Julia hand-written simd\" => 7.96801\n",
       "  \"C\"                       => 15.6046\n",
       "  \"Python numpy\"            => 9.92083\n",
       "  \"Julia hand-written\"      => 15.782\n",
       "  \"Python hand-written\"     => 824.136\n",
       "  \"Python built-in\"         => 691.789\n",
       "  \"Julia built-in\"          => 8.23047\n",
       "  \"C -ffast-math\"           => 11.6722"
      ]
     },
     "execution_count": 51,
     "metadata": {},
     "output_type": "execute_result"
    }
   ],
   "source": [
    "d[\"Julia hand-written simd\"] = minimum(j_bench_hand_simd.times) / 1e6\n",
    "d"
   ]
  },
  {
   "cell_type": "markdown",
   "metadata": {},
   "source": [
    "# Summary"
   ]
  },
  {
   "cell_type": "code",
   "execution_count": 52,
   "metadata": {
    "scrolled": true
   },
   "outputs": [
    {
     "name": "stdout",
     "output_type": "stream",
     "text": [
      "Julia hand-written simd.....8.0\n",
      "Julia built-in..............8.2\n",
      "Python numpy................9.9\n",
      "C -ffast-math..............11.7\n",
      "C..........................15.6\n",
      "Julia hand-written.........15.8\n",
      "Python built-in...........691.8\n",
      "Python hand-written.......824.1\n"
     ]
    }
   ],
   "source": [
    "for (key, value) in sort(collect(d), by=last)\n",
    "    println(rpad(key, 25, \".\"), lpad(round(value; digits=1), 6, \".\"))\n",
    "end"
   ]
  }
 ],
 "metadata": {
  "anaconda-cloud": {},
  "kernelspec": {
   "display_name": "Julia 1.7.3",
   "language": "julia",
   "name": "julia-1.7"
  },
  "language_info": {
   "file_extension": ".jl",
   "mimetype": "application/julia",
   "name": "julia",
   "version": "1.7.3"
  },
  "toc": {
   "colors": {
    "hover_highlight": "#DAA520",
    "running_highlight": "#FF0000",
    "selected_highlight": "#FFD700"
   },
   "moveMenuLeft": true,
   "nav_menu": {
    "height": "212px",
    "width": "252px"
   },
   "navigate_menu": true,
   "number_sections": true,
   "sideBar": true,
   "threshold": "2",
   "toc_cell": false,
   "toc_section_display": "block",
   "toc_window_display": false
  }
 },
 "nbformat": 4,
 "nbformat_minor": 2
}
